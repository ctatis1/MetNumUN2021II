{
  "nbformat": 4,
  "nbformat_minor": 0,
  "metadata": {
    "kernelspec": {
      "display_name": "Python 3",
      "language": "python",
      "name": "python3"
    },
    "language_info": {
      "codemirror_mode": {
        "name": "ipython",
        "version": 3
      },
      "file_extension": ".py",
      "mimetype": "text/x-python",
      "name": "python",
      "nbconvert_exporter": "python",
      "pygments_lexer": "ipython3",
      "version": "3.6.4"
    },
    "colab": {
      "name": "ctatis_QuantConnectTutorials.ipynb",
      "provenance": [],
      "collapsed_sections": []
    }
  },
  "cells": [
    {
      "cell_type": "markdown",
      "metadata": {
        "id": "eQzBbvyKQymx"
      },
      "source": [
        "\n",
        "\n",
        "# 01 Data Types and Data Structures\n",
        "\n",
        "# Basic Variable Types\n",
        "The basic types of variables in Python are: strings, integers, floating point numbers and booleans.\n",
        "\n"
      ]
    },
    {
      "cell_type": "code",
      "metadata": {
        "id": "N5t-UrcfOqid",
        "colab": {
          "base_uri": "https://localhost:8080/"
        },
        "outputId": "b4c32327-4df5-46c6-ed42-8dde049be640"
      },
      "source": [
        "my_string1 = 'Welcome to'\n",
        "my_string2 = \"QuantConnect\"\n",
        "print(my_string1 + ' ' + my_string2)"
      ],
      "execution_count": 1,
      "outputs": [
        {
          "output_type": "stream",
          "name": "stdout",
          "text": [
            "Welcome to QuantConnect\n"
          ]
        }
      ]
    },
    {
      "cell_type": "code",
      "metadata": {
        "colab": {
          "base_uri": "https://localhost:8080/"
        },
        "id": "7BsmDyMfvzZ9",
        "outputId": "8f7bcc5d-183c-4a0c-e452-236489ac7df8"
      },
      "source": [
        "string1 = \"Para gustos,\"\n",
        "string2 = \"colores\"\n",
        "print(string1 + \" \" + string2)"
      ],
      "execution_count": 2,
      "outputs": [
        {
          "output_type": "stream",
          "name": "stdout",
          "text": [
            "Para gustos, colores\n"
          ]
        }
      ]
    },
    {
      "cell_type": "markdown",
      "metadata": {
        "id": "bXHnxZyHSd1M"
      },
      "source": [
        "An integer is a round number with no values after the decimal point."
      ]
    },
    {
      "cell_type": "code",
      "metadata": {
        "id": "pNjuz3toOqif",
        "colab": {
          "base_uri": "https://localhost:8080/"
        },
        "outputId": "216d16ff-97e1-4328-8389-497076c1c60a"
      },
      "source": [
        "my_int = 10\n",
        "print(my_int)\n",
        "print(type(my_int))"
      ],
      "execution_count": 3,
      "outputs": [
        {
          "output_type": "stream",
          "name": "stdout",
          "text": [
            "10\n",
            "<class 'int'>\n"
          ]
        }
      ]
    },
    {
      "cell_type": "code",
      "metadata": {
        "colab": {
          "base_uri": "https://localhost:8080/"
        },
        "id": "GFfb6odvwOE-",
        "outputId": "a8bc2d82-2f96-4fe7-976a-535b9464a0e6"
      },
      "source": [
        "x = 125.1\n",
        "print(x)\n",
        "print(type(x))"
      ],
      "execution_count": 4,
      "outputs": [
        {
          "output_type": "stream",
          "name": "stdout",
          "text": [
            "125.1\n",
            "<class 'float'>\n"
          ]
        }
      ]
    },
    {
      "cell_type": "markdown",
      "metadata": {
        "id": "_1ZanWrYSnzF"
      },
      "source": [
        "The built-in function int() can convert a string into an integer."
      ]
    },
    {
      "cell_type": "code",
      "metadata": {
        "id": "zPwGb20FOqif",
        "colab": {
          "base_uri": "https://localhost:8080/"
        },
        "outputId": "deb0a5c3-cedd-465d-aac7-d7eef1325db9"
      },
      "source": [
        "my_string = \"100\"\n",
        "print(type(my_string))\n",
        "my_int = int(my_string)\n",
        "print(type(my_int))"
      ],
      "execution_count": 5,
      "outputs": [
        {
          "output_type": "stream",
          "name": "stdout",
          "text": [
            "<class 'str'>\n",
            "<class 'int'>\n"
          ]
        }
      ]
    },
    {
      "cell_type": "code",
      "metadata": {
        "colab": {
          "base_uri": "https://localhost:8080/"
        },
        "id": "k7YLW1ItwW82",
        "outputId": "8502eff0-f3e8-4be7-e6c9-39e5448e30d9"
      },
      "source": [
        "stri = \"1653\"\n",
        "print(type(stri))\n",
        "intStri = int(stri)\n",
        "print(type(intStri))"
      ],
      "execution_count": 6,
      "outputs": [
        {
          "output_type": "stream",
          "name": "stdout",
          "text": [
            "<class 'str'>\n",
            "<class 'int'>\n"
          ]
        }
      ]
    },
    {
      "cell_type": "markdown",
      "metadata": {
        "id": "WqMDPDTHSrE9"
      },
      "source": [
        "A floating point number, or a float, is a real number in mathematics. In Python we need to include a value after a decimal point to define it as a float"
      ]
    },
    {
      "cell_type": "code",
      "metadata": {
        "id": "otCzKKW9Oqig",
        "colab": {
          "base_uri": "https://localhost:8080/"
        },
        "outputId": "504e0e18-e076-401d-e15f-96d0c7e8f789"
      },
      "source": [
        "my_string = \"100\"\n",
        "my_float = float(my_string)\n",
        "print(type(my_float))"
      ],
      "execution_count": 7,
      "outputs": [
        {
          "output_type": "stream",
          "name": "stdout",
          "text": [
            "<class 'float'>\n"
          ]
        }
      ]
    },
    {
      "cell_type": "code",
      "metadata": {
        "colab": {
          "base_uri": "https://localhost:8080/"
        },
        "id": "VqxkH81yw2RH",
        "outputId": "57426f04-f787-4094-fdd7-4dc496cab7f6"
      },
      "source": [
        "stri2 = \"452.2\"\n",
        "floStri2 = float(stri2)\n",
        "print(type(floStri2))"
      ],
      "execution_count": 8,
      "outputs": [
        {
          "output_type": "stream",
          "name": "stdout",
          "text": [
            "<class 'float'>\n"
          ]
        }
      ]
    },
    {
      "cell_type": "markdown",
      "metadata": {
        "id": "2iuyv8Q7StTJ"
      },
      "source": [
        "As you can see above, if we don't include a decimal value, the variable would be defined as an integer. The built-in function float() can convert a string or an integer into a float."
      ]
    },
    {
      "cell_type": "code",
      "metadata": {
        "id": "wwLw5VthOqig",
        "colab": {
          "base_uri": "https://localhost:8080/"
        },
        "outputId": "0b94e568-982e-4543-ca0a-6554509bbc49"
      },
      "source": [
        "my_bool = False\n",
        "print(my_bool)\n",
        "print(type(my_bool))"
      ],
      "execution_count": 9,
      "outputs": [
        {
          "output_type": "stream",
          "name": "stdout",
          "text": [
            "False\n",
            "<class 'bool'>\n"
          ]
        }
      ]
    },
    {
      "cell_type": "code",
      "metadata": {
        "colab": {
          "base_uri": "https://localhost:8080/"
        },
        "id": "k6Odlo64xKM9",
        "outputId": "19f2f7d4-45b5-4ac0-c8d7-09239e379236"
      },
      "source": [
        "bol1 = True\n",
        "print(bol1)\n",
        "print(type(bol1))"
      ],
      "execution_count": 10,
      "outputs": [
        {
          "output_type": "stream",
          "name": "stdout",
          "text": [
            "True\n",
            "<class 'bool'>\n"
          ]
        }
      ]
    },
    {
      "cell_type": "markdown",
      "metadata": {
        "id": "bnGMwH21Szr_"
      },
      "source": [
        "A boolean, or bool, is a binary variable. Its value can only be True or False. It is useful when we do some logic operations, which would be covered in our next chapter."
      ]
    },
    {
      "cell_type": "code",
      "metadata": {
        "id": "DMa6pDl5Oqig",
        "colab": {
          "base_uri": "https://localhost:8080/"
        },
        "outputId": "d8745c7e-a425-44cf-b387-69e970bfab8b"
      },
      "source": [
        "print(\"Addition \", 1+1)\n",
        "print(\"Subtraction \", 5-2)\n",
        "print(\"Multiplication \", 2*3)\n",
        "print(\"Division \", 10/2)\n",
        "print('exponent', 2**3)"
      ],
      "execution_count": 11,
      "outputs": [
        {
          "output_type": "stream",
          "name": "stdout",
          "text": [
            "Addition  2\n",
            "Subtraction  3\n",
            "Multiplication  6\n",
            "Division  5.0\n",
            "exponent 8\n"
          ]
        }
      ]
    },
    {
      "cell_type": "code",
      "metadata": {
        "colab": {
          "base_uri": "https://localhost:8080/"
        },
        "id": "hf1IiVS5xUdE",
        "outputId": "67532ee5-f180-49b6-a2b0-4cfbc6bf6407"
      },
      "source": [
        "print(\"Adición \", 12+65)\n",
        "print(\"Sustracción \", 1-7)\n",
        "print(\"Multiplicación \", 9*9)\n",
        "print(\"División \", 12/5)\n",
        "print('Potencia', 3**4)"
      ],
      "execution_count": 12,
      "outputs": [
        {
          "output_type": "stream",
          "name": "stdout",
          "text": [
            "Adición  77\n",
            "Sustracción  -6\n",
            "Multiplicación  81\n",
            "División  2.4\n",
            "Potencia 81\n"
          ]
        }
      ]
    },
    {
      "cell_type": "markdown",
      "metadata": {
        "id": "1Xc9G9_sS2ju"
      },
      "source": [
        "# Basic Math Operations\n",
        "\n",
        "The basic math operators in python are demonstrated below:"
      ]
    },
    {
      "cell_type": "code",
      "metadata": {
        "id": "KE9gUryAOqig",
        "colab": {
          "base_uri": "https://localhost:8080/"
        },
        "outputId": "26d3b0c8-db10-4bca-de9b-bbc4b5d38f16"
      },
      "source": [
        "print(1/3)\n",
        "print(1.0/3)"
      ],
      "execution_count": 13,
      "outputs": [
        {
          "output_type": "stream",
          "name": "stdout",
          "text": [
            "0.3333333333333333\n",
            "0.3333333333333333\n"
          ]
        }
      ]
    },
    {
      "cell_type": "code",
      "metadata": {
        "colab": {
          "base_uri": "https://localhost:8080/"
        },
        "id": "8uGFng0QzYtN",
        "outputId": "32372c53-1e0c-45bb-bb4d-dab160974c74"
      },
      "source": [
        "print(20/6)\n",
        "print(20.0/6)"
      ],
      "execution_count": 14,
      "outputs": [
        {
          "output_type": "stream",
          "name": "stdout",
          "text": [
            "3.3333333333333335\n",
            "3.3333333333333335\n"
          ]
        }
      ]
    },
    {
      "cell_type": "markdown",
      "metadata": {
        "id": "AN5Oa3DoS_Nf"
      },
      "source": [
        "# Data Collections\n",
        "\n",
        "## List\n",
        "A list is an ordered collection of values. A list is mutable, which means you can change a list's value without changing the list itself. Creating a list is simply putting different comma-separated values between square brackets."
      ]
    },
    {
      "cell_type": "code",
      "metadata": {
        "id": "-tQdNqCvOqig",
        "colab": {
          "base_uri": "https://localhost:8080/"
        },
        "outputId": "587c60cf-fa1a-4816-8ef7-988fc55c25f2"
      },
      "source": [
        "my_list = ['Quant', 'Connect', 1,2,3]\n",
        "print(my_list)"
      ],
      "execution_count": 15,
      "outputs": [
        {
          "output_type": "stream",
          "name": "stdout",
          "text": [
            "['Quant', 'Connect', 1, 2, 3]\n"
          ]
        }
      ]
    },
    {
      "cell_type": "code",
      "metadata": {
        "colab": {
          "base_uri": "https://localhost:8080/"
        },
        "id": "Sb50Ko9ozjzX",
        "outputId": "07d1b4eb-5835-4a8e-add4-2672b49a6b77"
      },
      "source": [
        "lista = [\"Andrés\",\"Juan\",12.5,True]\n",
        "print(lista)"
      ],
      "execution_count": 16,
      "outputs": [
        {
          "output_type": "stream",
          "name": "stdout",
          "text": [
            "['Andrés', 'Juan', 12.5, True]\n"
          ]
        }
      ]
    },
    {
      "cell_type": "markdown",
      "metadata": {
        "id": "1O0TsgZCTHrM"
      },
      "source": [
        "The values in a list are called \"elements\". We can access list elements by indexing. Python index starts from 0. So if you have a list of length n, the index of the first element will be 0, and that of the last element will be n − 1. By the way, the length of a list can be obtained by the built-in function len()."
      ]
    },
    {
      "cell_type": "code",
      "metadata": {
        "id": "QhuVhRR5Oqih",
        "colab": {
          "base_uri": "https://localhost:8080/"
        },
        "outputId": "07d2ec05-cd26-4f54-ba04-61bff7bc9ce6"
      },
      "source": [
        "my_list = ['Quant', 'Connect', 1,2,3]\n",
        "print(len(my_list))\n",
        "print(my_list[0])\n",
        "print(my_list[len(my_list) -1])"
      ],
      "execution_count": 17,
      "outputs": [
        {
          "output_type": "stream",
          "name": "stdout",
          "text": [
            "5\n",
            "Quant\n",
            "3\n"
          ]
        }
      ]
    },
    {
      "cell_type": "code",
      "metadata": {
        "colab": {
          "base_uri": "https://localhost:8080/"
        },
        "id": "96sDcG2QzyND",
        "outputId": "a89201fa-6399-405d-eade-4f310c11126c"
      },
      "source": [
        "lista = [\"Andrés\",\"Juan\",12.5,True]\n",
        "print(len(lista), end=\", \")\n",
        "print(lista[2], end=\", \")\n",
        "print(lista[len(lista)-1])"
      ],
      "execution_count": 18,
      "outputs": [
        {
          "output_type": "stream",
          "name": "stdout",
          "text": [
            "4, 12.5, True\n"
          ]
        }
      ]
    },
    {
      "cell_type": "markdown",
      "metadata": {
        "id": "jgSZy1VGTKSc"
      },
      "source": [
        "You can also change the elements in the list by accessing an index and assigning a new value."
      ]
    },
    {
      "cell_type": "code",
      "metadata": {
        "id": "NQBNLjAvOqih",
        "colab": {
          "base_uri": "https://localhost:8080/"
        },
        "outputId": "3d0b25a6-5c4d-4e6c-fa4d-59c7ddd4b203"
      },
      "source": [
        "my_list = ['Quant','Connect',1,2,3]\n",
        "my_list[2] = 'go'\n",
        "print(my_list)"
      ],
      "execution_count": 19,
      "outputs": [
        {
          "output_type": "stream",
          "name": "stdout",
          "text": [
            "['Quant', 'Connect', 'go', 2, 3]\n"
          ]
        }
      ]
    },
    {
      "cell_type": "code",
      "metadata": {
        "colab": {
          "base_uri": "https://localhost:8080/"
        },
        "id": "rvuSJ6p5Bk7G",
        "outputId": "7169b320-70b2-4883-b1d6-681d95d3dbda"
      },
      "source": [
        "lista = [\"Andrés\",\"Juan\",12.5,True]\n",
        "lista[1] = 2\n",
        "print(lista)"
      ],
      "execution_count": 20,
      "outputs": [
        {
          "output_type": "stream",
          "name": "stdout",
          "text": [
            "['Andrés', 2, 12.5, True]\n"
          ]
        }
      ]
    },
    {
      "cell_type": "markdown",
      "metadata": {
        "id": "EQPs5ojoTVrk"
      },
      "source": [
        "A list can also be sliced with a colon:"
      ]
    },
    {
      "cell_type": "code",
      "metadata": {
        "id": "keNX2RbtOqii",
        "colab": {
          "base_uri": "https://localhost:8080/"
        },
        "outputId": "2bbf4295-3df1-4b41-8371-08e3fc3ac287"
      },
      "source": [
        "my_list = ['Quant','Connect',1,2,3]\n",
        "print(my_list[1:3])"
      ],
      "execution_count": 21,
      "outputs": [
        {
          "output_type": "stream",
          "name": "stdout",
          "text": [
            "['Connect', 1]\n"
          ]
        }
      ]
    },
    {
      "cell_type": "code",
      "metadata": {
        "colab": {
          "base_uri": "https://localhost:8080/"
        },
        "id": "2lWvuYsEB1jv",
        "outputId": "d64ff8d5-3e8a-4ec2-f510-796cb58fb56c"
      },
      "source": [
        "lista = [\"Andrés\",\"Juan\",12.5,True]\n",
        "print(lista[0:2])"
      ],
      "execution_count": 22,
      "outputs": [
        {
          "output_type": "stream",
          "name": "stdout",
          "text": [
            "['Andrés', 'Juan']\n"
          ]
        }
      ]
    },
    {
      "cell_type": "markdown",
      "metadata": {
        "id": "AZqQd0K8TYul"
      },
      "source": [
        "The slice starts from the first element indicated, but excludes the last element indicated. Here we select all elements starting from index 1, which refers to the second element:"
      ]
    },
    {
      "cell_type": "code",
      "metadata": {
        "id": "0-76sLfkOqii",
        "colab": {
          "base_uri": "https://localhost:8080/"
        },
        "outputId": "c231de01-aeb9-4192-fa3f-9fa930308142"
      },
      "source": [
        "print(my_list[1:])"
      ],
      "execution_count": 23,
      "outputs": [
        {
          "output_type": "stream",
          "name": "stdout",
          "text": [
            "['Connect', 1, 2, 3]\n"
          ]
        }
      ]
    },
    {
      "cell_type": "code",
      "metadata": {
        "colab": {
          "base_uri": "https://localhost:8080/"
        },
        "id": "hTHMbdxLCUOF",
        "outputId": "b84c2f0a-c92d-45d8-bfe8-cba69be3c1cc"
      },
      "source": [
        "print(lista[2:])"
      ],
      "execution_count": 24,
      "outputs": [
        {
          "output_type": "stream",
          "name": "stdout",
          "text": [
            "[12.5, True]\n"
          ]
        }
      ]
    },
    {
      "cell_type": "markdown",
      "metadata": {
        "id": "XBqvhUdZVKWs"
      },
      "source": [
        "And all elements up to but excluding index 3:"
      ]
    },
    {
      "cell_type": "code",
      "metadata": {
        "id": "5NWr75L9Oqii",
        "colab": {
          "base_uri": "https://localhost:8080/"
        },
        "outputId": "8f781e56-a2ff-421b-f793-533e82fc7095"
      },
      "source": [
        "print(my_list[:3])"
      ],
      "execution_count": 25,
      "outputs": [
        {
          "output_type": "stream",
          "name": "stdout",
          "text": [
            "['Quant', 'Connect', 1]\n"
          ]
        }
      ]
    },
    {
      "cell_type": "code",
      "metadata": {
        "colab": {
          "base_uri": "https://localhost:8080/"
        },
        "id": "yazOasaHCYMn",
        "outputId": "da39146e-b966-4d05-d34f-56ee2f9164e9"
      },
      "source": [
        "print(lista[:2])"
      ],
      "execution_count": 26,
      "outputs": [
        {
          "output_type": "stream",
          "name": "stdout",
          "text": [
            "['Andrés', 'Juan']\n"
          ]
        }
      ]
    },
    {
      "cell_type": "markdown",
      "metadata": {
        "id": "eAFmM6bkTZz9"
      },
      "source": [
        "If you wish to add or remove an element from a list, you can use the append() and remove() methods for lists as follows:"
      ]
    },
    {
      "cell_type": "code",
      "metadata": {
        "colab": {
          "base_uri": "https://localhost:8080/"
        },
        "id": "pHmgTPElTo19",
        "outputId": "a5fd3115-ed4b-4455-aa83-3b65af962441"
      },
      "source": [
        "my_list = ['Hello', 'Quant']\n",
        "my_list.append('Hello')\n",
        "print(my_list)\n",
        "\n"
      ],
      "execution_count": 27,
      "outputs": [
        {
          "output_type": "stream",
          "name": "stdout",
          "text": [
            "['Hello', 'Quant', 'Hello']\n"
          ]
        }
      ]
    },
    {
      "cell_type": "code",
      "metadata": {
        "colab": {
          "base_uri": "https://localhost:8080/"
        },
        "id": "4C4U1Yf0Tr8l",
        "outputId": "8cbe4fa2-8f98-4d10-9c66-3eac1fcee82c"
      },
      "source": [
        "my_list.remove('Hello')\n",
        "print(my_list)"
      ],
      "execution_count": 28,
      "outputs": [
        {
          "output_type": "stream",
          "name": "stdout",
          "text": [
            "['Quant', 'Hello']\n"
          ]
        }
      ]
    },
    {
      "cell_type": "code",
      "metadata": {
        "colab": {
          "base_uri": "https://localhost:8080/"
        },
        "id": "A6WWG4N4CdPv",
        "outputId": "1fedaabb-4604-4ad0-ad79-cdbf6ba571b7"
      },
      "source": [
        "lista = [\"Hola\", \"Mundo\"]\n",
        "lista.append(\"Como están?\")\n",
        "print(lista)"
      ],
      "execution_count": 29,
      "outputs": [
        {
          "output_type": "stream",
          "name": "stdout",
          "text": [
            "['Hola', 'Mundo', 'Como están?']\n"
          ]
        }
      ]
    },
    {
      "cell_type": "code",
      "metadata": {
        "colab": {
          "base_uri": "https://localhost:8080/"
        },
        "id": "P1baLjUrCuUW",
        "outputId": "4f078473-c01d-4c40-c46a-a790dae24b87"
      },
      "source": [
        "lista.remove(\"Como están?\")\n",
        "print(lista)"
      ],
      "execution_count": 30,
      "outputs": [
        {
          "output_type": "stream",
          "name": "stdout",
          "text": [
            "['Hola', 'Mundo']\n"
          ]
        }
      ]
    },
    {
      "cell_type": "markdown",
      "metadata": {
        "id": "11W1gG-cVmOU"
      },
      "source": [
        "When there are repeated instances of \"Hello\", the first one is removed.\n",
        "\n",
        "## Tuple\n",
        "A tuple is a data structure type similar to a list. The difference is that a tuple is immutable, which means you can't change the elements in it once it's defined. We create a tuple by putting comma-separated values between parentheses."
      ]
    },
    {
      "cell_type": "code",
      "metadata": {
        "collapsed": true,
        "id": "vPmn6BAaOqii"
      },
      "source": [
        "my_tuple = ('Welcome','to','QuantConnect')"
      ],
      "execution_count": 31,
      "outputs": []
    },
    {
      "cell_type": "markdown",
      "metadata": {
        "id": "zMIme4dDV0Wz"
      },
      "source": [
        "Just like a list, a tuple can be sliced by using index."
      ]
    },
    {
      "cell_type": "code",
      "metadata": {
        "id": "8P-ddO0sOqii",
        "colab": {
          "base_uri": "https://localhost:8080/"
        },
        "outputId": "0ee9361a-044d-4f45-b8bb-4dc30a3d4698"
      },
      "source": [
        "my_tuple = ('Welcome','to','QuantConnect')\n",
        "print(my_tuple[1:])"
      ],
      "execution_count": 32,
      "outputs": [
        {
          "output_type": "stream",
          "name": "stdout",
          "text": [
            "('to', 'QuantConnect')\n"
          ]
        }
      ]
    },
    {
      "cell_type": "code",
      "metadata": {
        "colab": {
          "base_uri": "https://localhost:8080/"
        },
        "id": "8iHQTmSZC2uv",
        "outputId": "b7149b49-a497-4454-b86f-deef1ac39fc3"
      },
      "source": [
        "tupla = (\"Anuel\", \"Bad Bunny\", \"Ozuna\")\n",
        "print(tupla[0:])"
      ],
      "execution_count": 33,
      "outputs": [
        {
          "output_type": "stream",
          "name": "stdout",
          "text": [
            "('Anuel', 'Bad Bunny', 'Ozuna')\n"
          ]
        }
      ]
    },
    {
      "cell_type": "markdown",
      "metadata": {
        "id": "l2JqbusAV1Y2"
      },
      "source": [
        "## Set\n",
        "A set is an **unordered**  collection with **no duplicate** elements. The built-in function **set()** can be used to create sets."
      ]
    },
    {
      "cell_type": "code",
      "metadata": {
        "id": "Plau8r-UOqij",
        "colab": {
          "base_uri": "https://localhost:8080/"
        },
        "outputId": "ce8363b1-ee17-4d2e-94b6-9ca4c3682d1e"
      },
      "source": [
        "stock_list = ['AAPL','GOOG','IBM','AAPL','IBM','FB','F','GOOG']\n",
        "stock_set = set(stock_list)\n",
        "print(stock_set)"
      ],
      "execution_count": 34,
      "outputs": [
        {
          "output_type": "stream",
          "name": "stdout",
          "text": [
            "{'AAPL', 'FB', 'GOOG', 'IBM', 'F'}\n"
          ]
        }
      ]
    },
    {
      "cell_type": "code",
      "metadata": {
        "colab": {
          "base_uri": "https://localhost:8080/"
        },
        "id": "6cabhwiyWkmY",
        "outputId": "2d0dea21-7ac2-4b0d-fc9c-50fa96a62917"
      },
      "source": [
        "lista = [\"Mazda\", \"Toyota\", \"Toyota\", \"Mercedes\", \"Mazda\"]\n",
        "sett = set(lista)\n",
        "print(sett)"
      ],
      "execution_count": 35,
      "outputs": [
        {
          "output_type": "stream",
          "name": "stdout",
          "text": [
            "{'Mazda', 'Toyota', 'Mercedes'}\n"
          ]
        }
      ]
    },
    {
      "cell_type": "markdown",
      "metadata": {
        "id": "Jyb4GGIoWIHk"
      },
      "source": [
        "Set is an easy way to remove duplicate elements from a list.\n",
        "\n",
        "##Dictionary\n",
        "A dictionary is one of the most important data structures in Python. Unlike sequences which are indexed by integers, dictionaries are indexed by keys which can be either strings or floats.\n",
        "\n",
        "A dictionary is an **unordered** collection of key : value pairs, with the requirement that the keys are unique. We create a dictionary by placing a comma-separated list of key : value pairs within the braces."
      ]
    },
    {
      "cell_type": "code",
      "metadata": {
        "collapsed": true,
        "id": "36mTe5BaOqij"
      },
      "source": [
        "my_dic = {'AAPL':'AAPLE', 'FB':'FaceBook', 'GOOG':'Alphabet'}"
      ],
      "execution_count": 36,
      "outputs": []
    },
    {
      "cell_type": "code",
      "metadata": {
        "id": "KUfdVf43Oqij",
        "colab": {
          "base_uri": "https://localhost:8080/"
        },
        "outputId": "7afbaf55-4672-4b34-b110-d43164aea83d"
      },
      "source": [
        "print(my_dic['GOOG'])"
      ],
      "execution_count": 37,
      "outputs": [
        {
          "output_type": "stream",
          "name": "stdout",
          "text": [
            "Alphabet\n"
          ]
        }
      ]
    },
    {
      "cell_type": "code",
      "metadata": {
        "colab": {
          "base_uri": "https://localhost:8080/"
        },
        "id": "7ZC11u9eYI3Z",
        "outputId": "eeb033e9-4556-4e1b-c15f-56bacd0edab9"
      },
      "source": [
        "dic = {\"DC\":\"DCcomics\", \"MCU\":\"Marvel\", \"WAV\": \"We are Venom\"}\n",
        "print(dic[\"DC\"])"
      ],
      "execution_count": 38,
      "outputs": [
        {
          "output_type": "stream",
          "name": "stdout",
          "text": [
            "DCcomics\n"
          ]
        }
      ]
    },
    {
      "cell_type": "markdown",
      "metadata": {
        "id": "gSicoNqDWP4c"
      },
      "source": [
        "After defining a dictionary, we can access any value by indicating its key in brackets."
      ]
    },
    {
      "cell_type": "code",
      "metadata": {
        "id": "IrTZdq9FOqij",
        "colab": {
          "base_uri": "https://localhost:8080/"
        },
        "outputId": "b590e4b8-5e2e-4809-ddfe-0131fa81f53f"
      },
      "source": [
        "my_dic['GOOG'] = 'Alphabet Company'\n",
        "print(my_dic['GOOG'])"
      ],
      "execution_count": 39,
      "outputs": [
        {
          "output_type": "stream",
          "name": "stdout",
          "text": [
            "Alphabet Company\n"
          ]
        }
      ]
    },
    {
      "cell_type": "code",
      "metadata": {
        "colab": {
          "base_uri": "https://localhost:8080/"
        },
        "id": "dg2wGu4PYfR3",
        "outputId": "317ad14b-aae4-47b6-f17e-cfcf92bffbc3"
      },
      "source": [
        "dic[\"DC\"] = \"Comics\"\n",
        "print(dic[\"DC\"])"
      ],
      "execution_count": 40,
      "outputs": [
        {
          "output_type": "stream",
          "name": "stdout",
          "text": [
            "Comics\n"
          ]
        }
      ]
    },
    {
      "cell_type": "markdown",
      "metadata": {
        "id": "M9sDsTEMWQvc"
      },
      "source": [
        "We can also change the value associated with a specified key:"
      ]
    },
    {
      "cell_type": "code",
      "metadata": {
        "id": "lupRHf1_Oqij",
        "colab": {
          "base_uri": "https://localhost:8080/"
        },
        "outputId": "13e1b692-7560-4a49-8ef2-862484b10dbd"
      },
      "source": [
        "print(my_dic.keys())"
      ],
      "execution_count": 41,
      "outputs": [
        {
          "output_type": "stream",
          "name": "stdout",
          "text": [
            "dict_keys(['AAPL', 'FB', 'GOOG'])\n"
          ]
        }
      ]
    },
    {
      "cell_type": "code",
      "metadata": {
        "colab": {
          "base_uri": "https://localhost:8080/"
        },
        "id": "ubF9u9ADYqfv",
        "outputId": "9b5c3808-a9d0-41d2-cf1c-bf52915de564"
      },
      "source": [
        "print(dic.keys())"
      ],
      "execution_count": 42,
      "outputs": [
        {
          "output_type": "stream",
          "name": "stdout",
          "text": [
            "dict_keys(['DC', 'MCU', 'WAV'])\n"
          ]
        }
      ]
    },
    {
      "cell_type": "markdown",
      "metadata": {
        "id": "VPuDinlwWS9D"
      },
      "source": [
        "The built-in method of the dictionary object dict.keys() returns a list of all the keys used in the dictionary."
      ]
    },
    {
      "cell_type": "markdown",
      "metadata": {
        "id": "kSGzgNb2Womz"
      },
      "source": [
        "# Common String Operations\n",
        "A string is an immutable sequence of characters. It can be sliced by index just like a tuple:"
      ]
    },
    {
      "cell_type": "code",
      "metadata": {
        "id": "xPojDnm9Oqik",
        "colab": {
          "base_uri": "https://localhost:8080/"
        },
        "outputId": "9bd17918-161c-4d23-dfa3-d004ca37f7e6"
      },
      "source": [
        "my_str = 'Welcome to QuantConnect'\n",
        "print(my_str[8:])"
      ],
      "execution_count": 43,
      "outputs": [
        {
          "output_type": "stream",
          "name": "stdout",
          "text": [
            "to QuantConnect\n"
          ]
        }
      ]
    },
    {
      "cell_type": "code",
      "metadata": {
        "colab": {
          "base_uri": "https://localhost:8080/"
        },
        "id": "-NUjtxJGYz2d",
        "outputId": "aee24244-56bd-4684-ac2f-df60babbb9a9"
      },
      "source": [
        "stri = \"Hola Mundo\"\n",
        "print(stri[5:])"
      ],
      "execution_count": 44,
      "outputs": [
        {
          "output_type": "stream",
          "name": "stdout",
          "text": [
            "Mundo\n"
          ]
        }
      ]
    },
    {
      "cell_type": "markdown",
      "metadata": {
        "id": "wuJYy7tvWtM7"
      },
      "source": [
        "There are many methods associated with strings. We can use string.count() to count the occurrences of a character in a string, use string.find() to return the index of a specific character, and use string.replace() to replace characters"
      ]
    },
    {
      "cell_type": "code",
      "metadata": {
        "id": "u9deZq1SOqik",
        "colab": {
          "base_uri": "https://localhost:8080/"
        },
        "outputId": "4b15853b-4aa8-45fe-f7d9-f06a0e963182"
      },
      "source": [
        "print('Counting the number of e appears in this sentence'.count('e'))\n",
        "print('The first time e appears in this sentence'.find('e'))\n",
        "print('all the a in this sentence now becomes e'.replace('a','e'))"
      ],
      "execution_count": 45,
      "outputs": [
        {
          "output_type": "stream",
          "name": "stdout",
          "text": [
            "7\n",
            "2\n",
            "ell the e in this sentence now becomes e\n"
          ]
        }
      ]
    },
    {
      "cell_type": "code",
      "metadata": {
        "colab": {
          "base_uri": "https://localhost:8080/"
        },
        "id": "0HMDh8mYY9sU",
        "outputId": "9f2b605c-605f-4f96-a80c-08699dae9c3b"
      },
      "source": [
        "print(\"we are venom\".count(\"e\"))\n",
        "print(\"welcome to the jungle\".find(\"l\"))\n",
        "print(\"when the party is over\".replace(\"e\",\"a\"))"
      ],
      "execution_count": 46,
      "outputs": [
        {
          "output_type": "stream",
          "name": "stdout",
          "text": [
            "3\n",
            "2\n",
            "whan tha party is ovar\n"
          ]
        }
      ]
    },
    {
      "cell_type": "markdown",
      "metadata": {
        "id": "sJPn3rkvWwHN"
      },
      "source": [
        "The most commonly used method for strings is string.split(). This method will split the string by the indicated character and return a list:"
      ]
    },
    {
      "cell_type": "code",
      "metadata": {
        "id": "hbIaFLFHOqik",
        "colab": {
          "base_uri": "https://localhost:8080/"
        },
        "outputId": "46145050-1706-49ff-f934-5665b5db111c"
      },
      "source": [
        "Time = '2016-04-01 09:43:00'\n",
        "splited_list = Time.split(' ')\n",
        "date = splited_list[0]\n",
        "time = splited_list[1]\n",
        "print(date, time)\n",
        "hour = time.split(':')[0]\n",
        "print(hour)"
      ],
      "execution_count": 47,
      "outputs": [
        {
          "output_type": "stream",
          "name": "stdout",
          "text": [
            "2016-04-01 09:43:00\n",
            "09\n"
          ]
        }
      ]
    },
    {
      "cell_type": "code",
      "metadata": {
        "colab": {
          "base_uri": "https://localhost:8080/"
        },
        "id": "nFwlnFnUZYh-",
        "outputId": "6e2b6906-2851-42f3-ad87-79290f064a9e"
      },
      "source": [
        "Time = '2021-10-17 17:36:00'\n",
        "lista_fecha = Time.split(' ')\n",
        "fecha = lista_fecha[0]\n",
        "hora = lista_fecha[1]\n",
        "print(fecha, hora)\n",
        "minutos = hora.split(':')[1]\n",
        "print(minutos)"
      ],
      "execution_count": 48,
      "outputs": [
        {
          "output_type": "stream",
          "name": "stdout",
          "text": [
            "2021-10-17 17:36:00\n",
            "36\n"
          ]
        }
      ]
    },
    {
      "cell_type": "markdown",
      "metadata": {
        "id": "9cJQGk96WyVc"
      },
      "source": [
        "We can replace parts of a string by our variable. This is called string formatting."
      ]
    },
    {
      "cell_type": "code",
      "metadata": {
        "id": "-E_rIvv6Oqik",
        "colab": {
          "base_uri": "https://localhost:8080/"
        },
        "outputId": "387d1a13-77b1-4f7e-fe00-17435dc3cdc9"
      },
      "source": [
        "my_time = 'Hour: {}, Minute:{}'.format('09','43')\n",
        "print(my_time)"
      ],
      "execution_count": 49,
      "outputs": [
        {
          "output_type": "stream",
          "name": "stdout",
          "text": [
            "Hour: 09, Minute:43\n"
          ]
        }
      ]
    },
    {
      "cell_type": "code",
      "metadata": {
        "colab": {
          "base_uri": "https://localhost:8080/"
        },
        "id": "y5wOCPRCZ8di",
        "outputId": "8827dfb5-3ef4-4bc4-b19f-52b8791a8d33"
      },
      "source": [
        "gol = \"Jugador: {} \\nGoles: {}\".format(\"Ronaldo\",\"115\")\n",
        "print(gol)"
      ],
      "execution_count": 50,
      "outputs": [
        {
          "output_type": "stream",
          "name": "stdout",
          "text": [
            "Jugador: Ronaldo \n",
            "Goles: 115\n"
          ]
        }
      ]
    },
    {
      "cell_type": "markdown",
      "metadata": {
        "id": "1_NbVldpWzAs"
      },
      "source": [
        "Another way to format a string is to use the % symbol."
      ]
    },
    {
      "cell_type": "code",
      "metadata": {
        "id": "4rZ4rkD2Oqik",
        "colab": {
          "base_uri": "https://localhost:8080/"
        },
        "outputId": "13d424ac-bb0d-4ea4-9213-48b947338a56"
      },
      "source": [
        "print('the pi number is %f'%3.14)\n",
        "print('%s to %s'%('Welcome','Quantconnect'))"
      ],
      "execution_count": 51,
      "outputs": [
        {
          "output_type": "stream",
          "name": "stdout",
          "text": [
            "the pi number is 3.140000\n",
            "Welcome to Quantconnect\n"
          ]
        }
      ]
    },
    {
      "cell_type": "code",
      "metadata": {
        "colab": {
          "base_uri": "https://localhost:8080/"
        },
        "id": "GQ35z839aZMf",
        "outputId": "17fbdff1-fbd7-4dca-8a32-a6f0a5ac3a27"
      },
      "source": [
        "print(\"%s Dr %s\"%(\"Hola\",\"Mundo\") )"
      ],
      "execution_count": 52,
      "outputs": [
        {
          "output_type": "stream",
          "name": "stdout",
          "text": [
            "Hola Dr Mundo\n"
          ]
        }
      ]
    },
    {
      "cell_type": "markdown",
      "metadata": {
        "id": "QL6dNxwCXNEt"
      },
      "source": [
        "\n",
        "\n",
        "# 02 Logical Operations and Loops\n",
        "\n",
        "\n",
        "# Logical Operations\n",
        "Like most programming languages, Python has comparison operators:"
      ]
    },
    {
      "cell_type": "code",
      "metadata": {
        "id": "70Guys_rOv7a",
        "colab": {
          "base_uri": "https://localhost:8080/"
        },
        "outputId": "a60a381c-ec63-480c-e09a-83e52a59ec35"
      },
      "source": [
        "print(1 == 0)\n",
        "print(1 == 1)\n",
        "print(1 != 0)\n",
        "print(5 >= 5)\n",
        "print(5 >= 6)"
      ],
      "execution_count": 53,
      "outputs": [
        {
          "output_type": "stream",
          "name": "stdout",
          "text": [
            "False\n",
            "True\n",
            "True\n",
            "True\n",
            "False\n"
          ]
        }
      ]
    },
    {
      "cell_type": "code",
      "metadata": {
        "colab": {
          "base_uri": "https://localhost:8080/"
        },
        "id": "JrCstKssbcka",
        "outputId": "c5ccbf8a-358a-4772-b552-7ef87a421c47"
      },
      "source": [
        "print(0==0)\n",
        "print(15462>165689)\n",
        "print(123 !=1234)\n",
        "print(56>=5)\n",
        "print(-78>85)"
      ],
      "execution_count": 54,
      "outputs": [
        {
          "output_type": "stream",
          "name": "stdout",
          "text": [
            "True\n",
            "False\n",
            "True\n",
            "True\n",
            "False\n"
          ]
        }
      ]
    },
    {
      "cell_type": "markdown",
      "metadata": {
        "id": "8aFHYDj-YTXt"
      },
      "source": [
        "Each statement above has a boolean value, which must be either True or False, but not both.\n",
        "\n",
        "We can combine simple statements P and Q to form complex statements using logical operators:\n",
        "\n",
        "- The statement \"P and Q\" is true if both P and Q are true, otherwise it is false.\n",
        "- The statement \"P or Q\" is false if both P and Q are false, otherwise it is true.\n",
        "- The statement \"not P\" is true if P is false, and vice versa."
      ]
    },
    {
      "cell_type": "code",
      "metadata": {
        "id": "O5YEEcUbOv7d",
        "colab": {
          "base_uri": "https://localhost:8080/"
        },
        "outputId": "5f3899b9-1f67-4cd4-9307-c8b3ae9ca3be"
      },
      "source": [
        "print(2 > 1 and 3 > 2)\n",
        "print(2 > 1 and 3 < 2) \n",
        "print(2 > 1 or 3 < 2)\n",
        "print(2 < 1 and 3 < 2)"
      ],
      "execution_count": 55,
      "outputs": [
        {
          "output_type": "stream",
          "name": "stdout",
          "text": [
            "True\n",
            "False\n",
            "True\n",
            "False\n"
          ]
        }
      ]
    },
    {
      "cell_type": "code",
      "metadata": {
        "colab": {
          "base_uri": "https://localhost:8080/"
        },
        "id": "2I2NTdAjceqk",
        "outputId": "4bcf5cc2-a739-43d8-9125-d6892f02f7a1"
      },
      "source": [
        "print(1 == 1 and 3 != 2)\n",
        "print(20 < -11 and 13 < 22) \n",
        "print(98 == 1 or 4 >= -6)\n",
        "print(75 != 42 or 1 < 2)"
      ],
      "execution_count": 56,
      "outputs": [
        {
          "output_type": "stream",
          "name": "stdout",
          "text": [
            "True\n",
            "False\n",
            "True\n",
            "True\n"
          ]
        }
      ]
    },
    {
      "cell_type": "markdown",
      "metadata": {
        "id": "Dy7yzoSXYXmL"
      },
      "source": [
        "When dealing with a very complex logical statement that involves in several statements, we can use brackets to separate and combine them."
      ]
    },
    {
      "cell_type": "code",
      "metadata": {
        "id": "QZ-W2xJZOv7d",
        "colab": {
          "base_uri": "https://localhost:8080/"
        },
        "outputId": "ac4055b4-5060-4bc4-d221-476028041794"
      },
      "source": [
        "print((3 > 2 or 1 < 3) and (1!=3 and 4>3) and not ( 3 < 2 or 1 < 3 and (1!=3 and 4>3)))\n",
        "print(3 > 2 or 1 < 3 and (1!=3 and 4>3) and not ( 3 < 2 or 1 < 3 and (1!=3 and 4>3)))"
      ],
      "execution_count": 57,
      "outputs": [
        {
          "output_type": "stream",
          "name": "stdout",
          "text": [
            "False\n",
            "True\n"
          ]
        }
      ]
    },
    {
      "cell_type": "code",
      "metadata": {
        "colab": {
          "base_uri": "https://localhost:8080/"
        },
        "id": "xFwM5Q54c8D9",
        "outputId": "d7ee59e3-e814-4059-eae4-53b63b9deae2"
      },
      "source": [
        "print(not((54>2 or 5==5) and ((12<(65!=7)) or (1 == 0))))\n",
        "print(not(not(2==1)and(1<2) and (555555>5555555)))"
      ],
      "execution_count": 58,
      "outputs": [
        {
          "output_type": "stream",
          "name": "stdout",
          "text": [
            "True\n",
            "True\n"
          ]
        }
      ]
    },
    {
      "cell_type": "markdown",
      "metadata": {
        "id": "s95xoRYMYaPD"
      },
      "source": [
        "Comparing the above two statements, we can see that it's wise to use brackets when we make a complex logical statement.\n",
        "\n",
        "# If Statement\n",
        "An if statement executes a segment of code only if its condition is true. A standard if statement consists of 3 segments: if, elif and else."
      ]
    },
    {
      "cell_type": "markdown",
      "metadata": {
        "id": "aRzMMitAaBOL"
      },
      "source": [
        "```python\n",
        "if statement1:\n",
        "    # if the statement1 is true, execute the code here.\n",
        "    # code.....\n",
        "    # code.....\n",
        "elif statement2:\n",
        "    # if the statement 1 is false, skip the codes above to this part.\n",
        "    # code......\n",
        "    # code......\n",
        "else:\n",
        "    # if none of the above statements is True, skip to this part\n",
        "    # code......\n",
        "```"
      ]
    },
    {
      "cell_type": "markdown",
      "metadata": {
        "id": "l59R2AS8aH2K"
      },
      "source": [
        "An if statement doesn't necessarily has elif and else part. If it's not specified, the indented block of code will be executed when the condition is true, otherwise the whole if statement will be skipped."
      ]
    },
    {
      "cell_type": "code",
      "metadata": {
        "id": "FZ5GoTXfOv7e",
        "colab": {
          "base_uri": "https://localhost:8080/"
        },
        "outputId": "2913b1cf-743a-4004-a37a-5ab5b72ee708"
      },
      "source": [
        "i = 0\n",
        "if i == 0:\n",
        "    print('i==0 is True')"
      ],
      "execution_count": 59,
      "outputs": [
        {
          "output_type": "stream",
          "name": "stdout",
          "text": [
            "i==0 is True\n"
          ]
        }
      ]
    },
    {
      "cell_type": "code",
      "metadata": {
        "colab": {
          "base_uri": "https://localhost:8080/"
        },
        "id": "6nZvWYopi6j3",
        "outputId": "3d1e23ae-bb1d-4b85-9b13-2ced2623cde0"
      },
      "source": [
        "i=1\n",
        "if i<2:\n",
        "  print(\"Hola Mundo\")"
      ],
      "execution_count": 60,
      "outputs": [
        {
          "output_type": "stream",
          "name": "stdout",
          "text": [
            "Hola Mundo\n"
          ]
        }
      ]
    },
    {
      "cell_type": "markdown",
      "metadata": {
        "id": "nPNW-l5eaJn8"
      },
      "source": [
        "As we mentioned above, we can write some complex statements here:"
      ]
    },
    {
      "cell_type": "code",
      "metadata": {
        "id": "gh-U6nMzOv7e",
        "colab": {
          "base_uri": "https://localhost:8080/"
        },
        "outputId": "871c8e38-1c25-45eb-f060-c306925a837f"
      },
      "source": [
        "p = 1 > 0\n",
        "q = 2 > 3\n",
        "if p and q:\n",
        "    print('p and q is true')\n",
        "elif p and not q:\n",
        "    print('q is false')\n",
        "elif q and not p:\n",
        "    print('p is false')\n",
        "else:\n",
        "    print('None of p and q is true')"
      ],
      "execution_count": 61,
      "outputs": [
        {
          "output_type": "stream",
          "name": "stdout",
          "text": [
            "q is false\n"
          ]
        }
      ]
    },
    {
      "cell_type": "code",
      "metadata": {
        "colab": {
          "base_uri": "https://localhost:8080/"
        },
        "id": "sS2wSBcojEJ4",
        "outputId": "bd361979-39ce-48e6-89d4-80b786ff83bd"
      },
      "source": [
        "x = False\n",
        "y = 12/3 > 2\n",
        "if x and y:\n",
        "  print(\"bbcita\")\n",
        "elif x and not y:\n",
        "  print(\"real hasta la muerte\")\n",
        "else:\n",
        "  print(\"lo' intocable lo' illuminati\")\n"
      ],
      "execution_count": 62,
      "outputs": [
        {
          "output_type": "stream",
          "name": "stdout",
          "text": [
            "lo' intocable lo' illuminati\n"
          ]
        }
      ]
    },
    {
      "cell_type": "markdown",
      "metadata": {
        "id": "tgRDwiAsaMOL"
      },
      "source": [
        "# Loop Structure\n",
        "Loops are an essential part of programming. The \"for\" and \"while\" loops run a block of code repeatedly.\n",
        "\n",
        "## While Loop\n",
        "A \"while\" loop will run repeatedly until a certain condition has been met."
      ]
    },
    {
      "cell_type": "code",
      "metadata": {
        "id": "uQLau8d5Ov7f",
        "colab": {
          "base_uri": "https://localhost:8080/"
        },
        "outputId": "20252e40-c7e4-4e07-921e-7c6d7c3cf5ed"
      },
      "source": [
        "i = 0\n",
        "while i < 5:\n",
        "    print(i)\n",
        "    i += 1  "
      ],
      "execution_count": 63,
      "outputs": [
        {
          "output_type": "stream",
          "name": "stdout",
          "text": [
            "0\n",
            "1\n",
            "2\n",
            "3\n",
            "4\n"
          ]
        }
      ]
    },
    {
      "cell_type": "code",
      "metadata": {
        "colab": {
          "base_uri": "https://localhost:8080/"
        },
        "id": "g_yYRekZjueU",
        "outputId": "143e3f7d-ca31-4dc3-ea93-7810d269b4cd"
      },
      "source": [
        "x = 10 \n",
        "while x>0:\n",
        "  lista.append(x)\n",
        "  x-=1\n",
        "print(lista)"
      ],
      "execution_count": 64,
      "outputs": [
        {
          "output_type": "stream",
          "name": "stdout",
          "text": [
            "['Mazda', 'Toyota', 'Toyota', 'Mercedes', 'Mazda', 10, 9, 8, 7, 6, 5, 4, 3, 2, 1]\n"
          ]
        }
      ]
    },
    {
      "cell_type": "markdown",
      "metadata": {
        "id": "ydLddFAPaTOE"
      },
      "source": [
        "When making a while loop, we need to ensure that something changes from iteration to iteration so that the while loop will terminate, otherwise, it will run forever. Here we used i += 1 (short for i = i + 1) to make i larger after each iteration. This is the most commonly used method to control a while loop.\n",
        "\n",
        "## For Loop\n",
        "A \"for\" loop will iterate over a sequence of value and terminate when the sequence has ended."
      ]
    },
    {
      "cell_type": "code",
      "metadata": {
        "id": "kt8Ie8u1Ov7f",
        "colab": {
          "base_uri": "https://localhost:8080/"
        },
        "outputId": "752e25ec-dca9-401c-f799-d0baebdfbf9e"
      },
      "source": [
        "for i in [1,2,3,4,5]:\n",
        "    print(i)"
      ],
      "execution_count": 65,
      "outputs": [
        {
          "output_type": "stream",
          "name": "stdout",
          "text": [
            "1\n",
            "2\n",
            "3\n",
            "4\n",
            "5\n"
          ]
        }
      ]
    },
    {
      "cell_type": "code",
      "metadata": {
        "colab": {
          "base_uri": "https://localhost:8080/"
        },
        "id": "gi5kp4k3kPCF",
        "outputId": "c9277701-a63f-4b7b-e96e-558337595cfb"
      },
      "source": [
        "lista1 = [\"-1\", \"0\"]\n",
        "for i in range(1,10):\n",
        "  lista1.append(i)\n",
        "print(lista1)"
      ],
      "execution_count": 66,
      "outputs": [
        {
          "output_type": "stream",
          "name": "stdout",
          "text": [
            "['-1', '0', 1, 2, 3, 4, 5, 6, 7, 8, 9]\n"
          ]
        }
      ]
    },
    {
      "cell_type": "markdown",
      "metadata": {
        "id": "yWStqpreaX-T"
      },
      "source": [
        "We can also add if statements in a for loop. Here is a real example from our pairs trading algorithm:"
      ]
    },
    {
      "cell_type": "code",
      "metadata": {
        "id": "kElmffvFOv7f",
        "colab": {
          "base_uri": "https://localhost:8080/"
        },
        "outputId": "58ed6800-7c85-4da3-80e5-ad98a99b3d73"
      },
      "source": [
        "stocks = ['AAPL','GOOG','IBM','FB','F','V', 'G', 'GE']\n",
        "selected = ['AAPL','IBM']\n",
        "new_list = []\n",
        "for i in stocks:\n",
        "    if i not in selected:\n",
        "        new_list.append(i)\n",
        "print(stocks)"
      ],
      "execution_count": 67,
      "outputs": [
        {
          "output_type": "stream",
          "name": "stdout",
          "text": [
            "['AAPL', 'GOOG', 'IBM', 'FB', 'F', 'V', 'G', 'GE']\n"
          ]
        }
      ]
    },
    {
      "cell_type": "code",
      "metadata": {
        "colab": {
          "base_uri": "https://localhost:8080/"
        },
        "id": "-UErcYpwlEUR",
        "outputId": "847bcfcf-3470-4076-85a7-18dd8d73e24c"
      },
      "source": [
        "print(lista1)\n",
        "print(lista)\n",
        "for i in lista:\n",
        "  if i in lista1:\n",
        "    lista.remove(i)\n",
        "print(lista)"
      ],
      "execution_count": 68,
      "outputs": [
        {
          "output_type": "stream",
          "name": "stdout",
          "text": [
            "['-1', '0', 1, 2, 3, 4, 5, 6, 7, 8, 9]\n",
            "['Mazda', 'Toyota', 'Toyota', 'Mercedes', 'Mazda', 10, 9, 8, 7, 6, 5, 4, 3, 2, 1]\n",
            "['Mazda', 'Toyota', 'Toyota', 'Mercedes', 'Mazda', 10, 8, 6, 4, 2]\n"
          ]
        }
      ]
    },
    {
      "cell_type": "markdown",
      "metadata": {
        "id": "wb2hry9dahE0"
      },
      "source": [
        "Here we iterated all the elements in the list 'stocks'. Later in this chapter, we will introduce a smarter way to do this, which is just a one-line code.\n",
        "\n",
        "## Break and continue\n",
        "These are two commonly used commands in a for loop. If \"break\" is triggered while a loop is executing, the loop will terminate immediately:"
      ]
    },
    {
      "cell_type": "code",
      "metadata": {
        "id": "yF5wMVItOv7g",
        "colab": {
          "base_uri": "https://localhost:8080/"
        },
        "outputId": "a7339b79-b282-4a8d-ad5a-bdb0e75c1f53"
      },
      "source": [
        "stocks = ['AAPL','GOOG','IBM','FB','F','V', 'G', 'GE']\n",
        "for i in stocks:\n",
        "    print(i)\n",
        "    if i == 'FB':\n",
        "        break"
      ],
      "execution_count": 69,
      "outputs": [
        {
          "output_type": "stream",
          "name": "stdout",
          "text": [
            "AAPL\n",
            "GOOG\n",
            "IBM\n",
            "FB\n"
          ]
        }
      ]
    },
    {
      "cell_type": "code",
      "metadata": {
        "colab": {
          "base_uri": "https://localhost:8080/"
        },
        "id": "E7zRL3i9lf2g",
        "outputId": "bc551ce8-aa59-4f3a-d12a-f1c74356e218"
      },
      "source": [
        "lista = [\"Mazda\", \"Toyota\", \"Toyota\", \"Mercedes\", \"Mazda\"]\n",
        "for i in lista:\n",
        "  if i == \"Mercedes\":\n",
        "    print(i)\n",
        "    break"
      ],
      "execution_count": 70,
      "outputs": [
        {
          "output_type": "stream",
          "name": "stdout",
          "text": [
            "Mercedes\n"
          ]
        }
      ]
    },
    {
      "cell_type": "markdown",
      "metadata": {
        "id": "R0toxyp3ao0T"
      },
      "source": [
        "The \"continue\" command tells the loop to end this iteration and skip to the next iteration:"
      ]
    },
    {
      "cell_type": "code",
      "metadata": {
        "id": "Stg-CH6IOv7g",
        "colab": {
          "base_uri": "https://localhost:8080/"
        },
        "outputId": "54551157-f4a2-400d-f35b-c29c2243cdc9"
      },
      "source": [
        "stocks = ['AAPL','GOOG','IBM','FB','F','V', 'G', 'GE']\n",
        "for i in stocks:\n",
        "    if i == 'FB':\n",
        "        continue\n",
        "    print(i)"
      ],
      "execution_count": 71,
      "outputs": [
        {
          "output_type": "stream",
          "name": "stdout",
          "text": [
            "AAPL\n",
            "GOOG\n",
            "IBM\n",
            "F\n",
            "V\n",
            "G\n",
            "GE\n"
          ]
        }
      ]
    },
    {
      "cell_type": "code",
      "metadata": {
        "colab": {
          "base_uri": "https://localhost:8080/"
        },
        "id": "5YokdCIclyl6",
        "outputId": "5bc7927d-a9a6-4416-c247-4cb6a17a2056"
      },
      "source": [
        "lista = [\"Mazda\", \"Toyota\", \"Toyota\", \"Mercedes\", \"Mazda\"]\n",
        "for i in lista:\n",
        "  if i == \"Mercedes\":\n",
        "      continue\n",
        "  lista.clear()\n",
        "lista.append(\"Mercedes\")\n",
        "print(lista)"
      ],
      "execution_count": 72,
      "outputs": [
        {
          "output_type": "stream",
          "name": "stdout",
          "text": [
            "['Mercedes']\n"
          ]
        }
      ]
    },
    {
      "cell_type": "markdown",
      "metadata": {
        "id": "4NusvdhBaxpZ"
      },
      "source": [
        "# List Comprehension\n",
        "List comprehension is a Pythonic way to create lists. Common applications are to make new lists where each element is the result of some operations applied to each member of another sequence. For example, if we want to create a list of squares using for loop:"
      ]
    },
    {
      "cell_type": "code",
      "metadata": {
        "id": "bdxxeOABOv7h",
        "colab": {
          "base_uri": "https://localhost:8080/"
        },
        "outputId": "2ddd2706-c64f-4af7-932e-f2df3847e4d1"
      },
      "source": [
        "squares = []\n",
        "for i in [1,2,3,4,5]:\n",
        "    squares.append(i**2)\n",
        "print(squares)"
      ],
      "execution_count": 73,
      "outputs": [
        {
          "output_type": "stream",
          "name": "stdout",
          "text": [
            "[1, 4, 9, 16, 25]\n"
          ]
        }
      ]
    },
    {
      "cell_type": "code",
      "metadata": {
        "colab": {
          "base_uri": "https://localhost:8080/"
        },
        "id": "KM29p-rSnsDZ",
        "outputId": "e6337d2a-04e6-4443-c8f2-92f388e941fb"
      },
      "source": [
        "mitades = [5,4,3,2,1]\n",
        "for i in mitades:\n",
        "  mitad= i/2\n",
        "  mitades.remove(i)\n",
        "  mitades.append(mitad)\n",
        "print(mitades)"
      ],
      "execution_count": 74,
      "outputs": [
        {
          "output_type": "stream",
          "name": "stdout",
          "text": [
            "[4, 2, 2.5, 0.5, 0.375]\n"
          ]
        }
      ]
    },
    {
      "cell_type": "markdown",
      "metadata": {
        "id": "--KliJBOa1CC"
      },
      "source": [
        "Using list comprehension:"
      ]
    },
    {
      "cell_type": "code",
      "metadata": {
        "id": "440-yjG8Ov7h",
        "colab": {
          "base_uri": "https://localhost:8080/"
        },
        "outputId": "a0cda716-798a-4e73-c6b6-12b21bfa5ef2"
      },
      "source": [
        "list = [1,2,3,4,5]\n",
        "squares = [x**2 for x in list]\n",
        "print(squares)"
      ],
      "execution_count": 75,
      "outputs": [
        {
          "output_type": "stream",
          "name": "stdout",
          "text": [
            "[1, 4, 9, 16, 25]\n"
          ]
        }
      ]
    },
    {
      "cell_type": "code",
      "metadata": {
        "colab": {
          "base_uri": "https://localhost:8080/"
        },
        "id": "QcpMuUKCoI4l",
        "outputId": "424b0e0a-258d-4704-c9f9-182cd81d1757"
      },
      "source": [
        "mitad = [1,2,3,4,5]\n",
        "mitades = [x/2 for x in mitad]\n",
        "print(mitades)"
      ],
      "execution_count": 76,
      "outputs": [
        {
          "output_type": "stream",
          "name": "stdout",
          "text": [
            "[0.5, 1.0, 1.5, 2.0, 2.5]\n"
          ]
        }
      ]
    },
    {
      "cell_type": "markdown",
      "metadata": {
        "id": "uMuCfR3ya3zT"
      },
      "source": [
        "Recall the example above where we used a for loop to select stocks. Here we use list comprehension:"
      ]
    },
    {
      "cell_type": "code",
      "metadata": {
        "id": "ZGtCtog2Ov7h",
        "colab": {
          "base_uri": "https://localhost:8080/"
        },
        "outputId": "353882c8-f00d-46fd-c58c-6d0ec5613d03"
      },
      "source": [
        "stocks = ['AAPL','GOOG','IBM','FB','F','V', 'G', 'GE']\n",
        "selected = ['AAPL','IBM']\n",
        "new_list = [x for x in stocks if x in selected]\n",
        "print(new_list)"
      ],
      "execution_count": 77,
      "outputs": [
        {
          "output_type": "stream",
          "name": "stdout",
          "text": [
            "['AAPL', 'IBM']\n"
          ]
        }
      ]
    },
    {
      "cell_type": "code",
      "metadata": {
        "colab": {
          "base_uri": "https://localhost:8080/"
        },
        "id": "k3D1eI1KoUOw",
        "outputId": "18d93f2e-aa9f-4049-9119-347fb1c82808"
      },
      "source": [
        "lista = [\"Mazda\", \"Toyota\", \"Toyota\", \"Mercedes\", \"Mazda\"]\n",
        "lista1= [\"Mazda\"]\n",
        "lista2= [x for x in lista if x not in lista1]\n",
        "print(lista2)"
      ],
      "execution_count": 78,
      "outputs": [
        {
          "output_type": "stream",
          "name": "stdout",
          "text": [
            "['Toyota', 'Toyota', 'Mercedes']\n"
          ]
        }
      ]
    },
    {
      "cell_type": "markdown",
      "metadata": {
        "id": "EPeUv6Lia5oD"
      },
      "source": [
        "A list comprehension consists of square brackets containing an expression followed by a \"for\" clause, and possibly \"for\" or \"if\" clauses. For example:"
      ]
    },
    {
      "cell_type": "code",
      "metadata": {
        "id": "O1AMB5d7Ov7i",
        "colab": {
          "base_uri": "https://localhost:8080/"
        },
        "outputId": "d5994793-ec40-4919-ebf3-ae5a74055d6f"
      },
      "source": [
        "print([(x, y) for x in [1,2,3] for y in [3,1,4] if x != y])\n",
        "print([str(x)+' vs '+str(y) for x in ['AAPL','GOOG','IBM','FB'] for y in ['F','V','G','GE'] if x!=y])"
      ],
      "execution_count": 79,
      "outputs": [
        {
          "output_type": "stream",
          "name": "stdout",
          "text": [
            "[(1, 3), (1, 4), (2, 3), (2, 1), (2, 4), (3, 1), (3, 4)]\n",
            "['AAPL vs F', 'AAPL vs V', 'AAPL vs G', 'AAPL vs GE', 'GOOG vs F', 'GOOG vs V', 'GOOG vs G', 'GOOG vs GE', 'IBM vs F', 'IBM vs V', 'IBM vs G', 'IBM vs GE', 'FB vs F', 'FB vs V', 'FB vs G', 'FB vs GE']\n"
          ]
        }
      ]
    },
    {
      "cell_type": "code",
      "metadata": {
        "colab": {
          "base_uri": "https://localhost:8080/"
        },
        "id": "KKwtIn9no8eN",
        "outputId": "0cc792df-9762-460f-d725-bdf3cc3ac9b2"
      },
      "source": [
        "lista = [\"Mazda\", \"Toyota\", \"Toyota\", \"Mercedes\", \"Mazda\"]\n",
        "lista1 = [\"Audi\", \"Ferrari\", \"Toyota\", \"Maseratti\", \"Mazda\"]\n",
        "print(set([(x,y) for x in lista for y in lista1 if x != y]))"
      ],
      "execution_count": 80,
      "outputs": [
        {
          "output_type": "stream",
          "name": "stdout",
          "text": [
            "{('Toyota', 'Mazda'), ('Toyota', 'Ferrari'), ('Mazda', 'Toyota'), ('Toyota', 'Maseratti'), ('Mercedes', 'Audi'), ('Mazda', 'Maseratti'), ('Toyota', 'Audi'), ('Mercedes', 'Ferrari'), ('Mercedes', 'Toyota'), ('Mercedes', 'Mazda'), ('Mazda', 'Audi'), ('Mercedes', 'Maseratti'), ('Mazda', 'Ferrari')}\n"
          ]
        }
      ]
    },
    {
      "cell_type": "markdown",
      "metadata": {
        "id": "Tef_X2wJbdhn"
      },
      "source": [
        "\n",
        "\n",
        "# 03 Functions and Objective-Oriented Programming\n",
        "\n",
        "# Functions\n",
        "A function is a reusable block of code. We can use a function to output a value, or do anything else we want. We can easily define our own function by using the keyword \"def\"."
      ]
    },
    {
      "cell_type": "code",
      "metadata": {
        "id": "eE_NkTiSO2PO",
        "colab": {
          "base_uri": "https://localhost:8080/"
        },
        "outputId": "1ee0fa2f-0db2-4f1b-8a18-b939df6d4b7f"
      },
      "source": [
        "def product(x,y):\n",
        "    return x*y\n",
        "print(product(2,3))\n",
        "print(product(5,10))"
      ],
      "execution_count": 81,
      "outputs": [
        {
          "output_type": "stream",
          "name": "stdout",
          "text": [
            "6\n",
            "50\n"
          ]
        }
      ]
    },
    {
      "cell_type": "code",
      "metadata": {
        "colab": {
          "base_uri": "https://localhost:8080/"
        },
        "id": "A-UA1nb4q-wR",
        "outputId": "7bc759d6-e1f2-4325-d032-fc3d2147e058"
      },
      "source": [
        "def modulo(x,y):\n",
        "  return x%y\n",
        "print(modulo(6,2))"
      ],
      "execution_count": 82,
      "outputs": [
        {
          "output_type": "stream",
          "name": "stdout",
          "text": [
            "0\n"
          ]
        }
      ]
    },
    {
      "cell_type": "markdown",
      "metadata": {
        "id": "4oRU_dVJbsdD"
      },
      "source": [
        "The keyword \"def\" is followed by the function name and the parenthesized list of formal parameters. The statements that form the body of the function start at the next line, and must be indented. The product() function above has \"x\" and \"y\" as its parameters. A function doesn't necessarily have parameters:"
      ]
    },
    {
      "cell_type": "code",
      "metadata": {
        "id": "JhdWVLbUO2PQ",
        "colab": {
          "base_uri": "https://localhost:8080/"
        },
        "outputId": "bade02cd-0057-41b5-8cd0-c8aaaab4e31e"
      },
      "source": [
        "def say_hi():\n",
        "    print('Welcome to QuantConnect')\n",
        "say_hi()"
      ],
      "execution_count": 83,
      "outputs": [
        {
          "output_type": "stream",
          "name": "stdout",
          "text": [
            "Welcome to QuantConnect\n"
          ]
        }
      ]
    },
    {
      "cell_type": "code",
      "metadata": {
        "colab": {
          "base_uri": "https://localhost:8080/"
        },
        "id": "DhB-uoorrSI3",
        "outputId": "6a11822a-022b-4839-a56b-8cabe74d7de3"
      },
      "source": [
        "def hola():\n",
        "  print(f\"la respuesta es: {modulo(24,5)}\")\n",
        "hola()"
      ],
      "execution_count": 84,
      "outputs": [
        {
          "output_type": "stream",
          "name": "stdout",
          "text": [
            "la respuesta es: 4\n"
          ]
        }
      ]
    },
    {
      "cell_type": "markdown",
      "metadata": {
        "id": "lHwqVpWVb1Jr"
      },
      "source": [
        "# Built-in Function\n",
        "**range()** is a function that creates a list containing an arithmetic sequence. It's often used in for loops. The arguments must be integers. If the \"step\" argument is omitted, it defaults to 1."
      ]
    },
    {
      "cell_type": "code",
      "metadata": {
        "id": "VVOTELcIO2PQ",
        "colab": {
          "base_uri": "https://localhost:8080/"
        },
        "outputId": "16686e65-d41b-4b3a-a845-13bafcfcb561"
      },
      "source": [
        "print(range(10))\n",
        "print(range(1,11))\n",
        "print(range(1,11,2))"
      ],
      "execution_count": 85,
      "outputs": [
        {
          "output_type": "stream",
          "name": "stdout",
          "text": [
            "range(0, 10)\n",
            "range(1, 11)\n",
            "range(1, 11, 2)\n"
          ]
        }
      ]
    },
    {
      "cell_type": "markdown",
      "metadata": {
        "id": "PD0cSgiwcQ4L"
      },
      "source": [
        "**len()** is another function used together with range() to create a for loop. This function returns the length of an object. The argument must be a sequence or a collection."
      ]
    },
    {
      "cell_type": "code",
      "metadata": {
        "id": "Hg18c7v-O2PR",
        "colab": {
          "base_uri": "https://localhost:8080/"
        },
        "outputId": "1c6c74ea-9055-4165-a525-0ff70c074ec1"
      },
      "source": [
        "tickers = ['AAPL','GOOG','IBM','FB','F','V', 'G', 'GE']\n",
        "print('The length of tickers is {}'.format(len(tickers)))\n",
        "for i in range(len(tickers)):\n",
        "    print(tickers[i])"
      ],
      "execution_count": 86,
      "outputs": [
        {
          "output_type": "stream",
          "name": "stdout",
          "text": [
            "The length of tickers is 8\n",
            "AAPL\n",
            "GOOG\n",
            "IBM\n",
            "FB\n",
            "F\n",
            "V\n",
            "G\n",
            "GE\n"
          ]
        }
      ]
    },
    {
      "cell_type": "code",
      "metadata": {
        "colab": {
          "base_uri": "https://localhost:8080/"
        },
        "id": "cNx4h7kws8fc",
        "outputId": "ae4be855-e823-4b09-f9c0-29a38bc1948d"
      },
      "source": [
        "lista1 = [\"Audi\", \"Ferrari\", \"Toyota\", \"Maseratti\", \"Mazda\"]\n",
        "print(f'lista 1: {len(lista1)}')\n",
        "i=0\n",
        "while i <len(lista1):\n",
        "  print(lista1[i])\n",
        "  i+=1"
      ],
      "execution_count": 87,
      "outputs": [
        {
          "output_type": "stream",
          "name": "stdout",
          "text": [
            "lista 1: 5\n",
            "Audi\n",
            "Ferrari\n",
            "Toyota\n",
            "Maseratti\n",
            "Mazda\n"
          ]
        }
      ]
    },
    {
      "cell_type": "markdown",
      "metadata": {
        "id": "OIQSuub1cWgi"
      },
      "source": [
        "Note: If you want to print only the tickers without those numbers, then simply write \"for ticker in tickers: print ticker\"\n",
        "\n",
        "**map(**) is a function that applies a specific function to every item of a sequence or collection, and returns a list of the results."
      ]
    },
    {
      "cell_type": "code",
      "metadata": {
        "colab": {
          "base_uri": "https://localhost:8080/"
        },
        "id": "Nju0UeD7D8gO",
        "outputId": "94a7d494-ad1f-44b3-b49e-e36846fd792c"
      },
      "source": [
        "tickers = ['AAPL','GOOG','IBM','FB','F','V', 'G', 'GE']\n",
        "print(list(map(len,tickers)))"
      ],
      "execution_count": null,
      "outputs": [
        {
          "output_type": "stream",
          "name": "stdout",
          "text": [
            "[4, 4, 3, 2, 1, 1, 1, 2]\n"
          ]
        }
      ]
    },
    {
      "cell_type": "code",
      "metadata": {
        "id": "dxK_d8gYuPeu",
        "colab": {
          "base_uri": "https://localhost:8080/"
        },
        "outputId": "ad8b9d07-cdf7-4dc3-8ce4-f858e8e3f73e"
      },
      "source": [
        "lista1 = [\"Audi\", \"Ferrari\", \"Toyota\", \"Maseratti\", \"Mazda\"]\n",
        "lista2 = list(map(len,lista1))\n",
        "for i in range(len(lista1)):\n",
        "  print(lista1[i] + \": \"+ str(lista2[i]))"
      ],
      "execution_count": null,
      "outputs": [
        {
          "output_type": "stream",
          "name": "stdout",
          "text": [
            "Audi: 4\n",
            "Ferrari: 7\n",
            "Toyota: 6\n",
            "Maseratti: 9\n",
            "Mazda: 5\n"
          ]
        }
      ]
    },
    {
      "cell_type": "markdown",
      "metadata": {
        "id": "mvr06UM7ca7b"
      },
      "source": [
        "The **lambda operator** is a way to create small anonymous functions. These functions are just needed where they have been created. For example:"
      ]
    },
    {
      "cell_type": "code",
      "metadata": {
        "colab": {
          "base_uri": "https://localhost:8080/"
        },
        "id": "UNWCR2OeD8gP",
        "outputId": "0bd6e167-b9c7-4a07-a22c-17b9cfd08828"
      },
      "source": [
        "list(map(lambda x: x**2, range(10)))"
      ],
      "execution_count": null,
      "outputs": [
        {
          "output_type": "execute_result",
          "data": {
            "text/plain": [
              "[0, 1, 4, 9, 16, 25, 36, 49, 64, 81]"
            ]
          },
          "metadata": {},
          "execution_count": 4
        }
      ]
    },
    {
      "cell_type": "code",
      "metadata": {
        "colab": {
          "base_uri": "https://localhost:8080/"
        },
        "id": "jINuzsGUvOGz",
        "outputId": "bffa7c26-f14f-4daa-850b-33b350331fd0"
      },
      "source": [
        "list(map(lambda x: x/10,range(5,10)))"
      ],
      "execution_count": null,
      "outputs": [
        {
          "output_type": "execute_result",
          "data": {
            "text/plain": [
              "[0.5, 0.6, 0.7, 0.8, 0.9]"
            ]
          },
          "metadata": {},
          "execution_count": 5
        }
      ]
    },
    {
      "cell_type": "markdown",
      "metadata": {
        "id": "Mgixpxomcj3T"
      },
      "source": [
        "map() can be applied to more than one list. The lists have to have the same length."
      ]
    },
    {
      "cell_type": "code",
      "metadata": {
        "colab": {
          "base_uri": "https://localhost:8080/"
        },
        "id": "twb9XPhoD8gQ",
        "outputId": "8e61d9eb-c77c-4ef0-b376-e17064f31d27"
      },
      "source": [
        "list(map(lambda x, y: x+y, [1,2,3,4,5],[5,4,3,2,1]))"
      ],
      "execution_count": null,
      "outputs": [
        {
          "output_type": "execute_result",
          "data": {
            "text/plain": [
              "[6, 6, 6, 6, 6]"
            ]
          },
          "metadata": {},
          "execution_count": 6
        }
      ]
    },
    {
      "cell_type": "code",
      "metadata": {
        "id": "Om12irYUwQlt",
        "colab": {
          "base_uri": "https://localhost:8080/"
        },
        "outputId": "073c2df6-75a7-4aae-815d-8c78d2b6e2a5"
      },
      "source": [
        "lista = [\"Mazda\", \"Toyota\", \"Toyota\", \"Mercedes\", \"Mazda\"]\n",
        "list(map(lambda x,y: x+\": \"+y, lista, lista1))"
      ],
      "execution_count": null,
      "outputs": [
        {
          "output_type": "execute_result",
          "data": {
            "text/plain": [
              "['Mazda: Audi',\n",
              " 'Toyota: Ferrari',\n",
              " 'Toyota: Toyota',\n",
              " 'Mercedes: Maseratti',\n",
              " 'Mazda: Mazda']"
            ]
          },
          "metadata": {},
          "execution_count": 8
        }
      ]
    },
    {
      "cell_type": "markdown",
      "metadata": {
        "id": "ZDnMTH-KcklT"
      },
      "source": [
        "**sorted()** takes a list or set and returns a new sorted list"
      ]
    },
    {
      "cell_type": "code",
      "metadata": {
        "id": "P0sHUMFWO2PS",
        "colab": {
          "base_uri": "https://localhost:8080/"
        },
        "outputId": "2e68835f-54ca-4e88-e786-ff6e70bc0c8e"
      },
      "source": [
        "sorted([5,2,3,4,1])"
      ],
      "execution_count": 91,
      "outputs": [
        {
          "output_type": "execute_result",
          "data": {
            "text/plain": [
              "[1, 2, 3, 4, 5]"
            ]
          },
          "metadata": {},
          "execution_count": 91
        }
      ]
    },
    {
      "cell_type": "code",
      "metadata": {
        "colab": {
          "base_uri": "https://localhost:8080/"
        },
        "id": "ZCu8Kf_zxB-f",
        "outputId": "f535ba6b-04e4-4f9a-8c5a-b4c093c14921"
      },
      "source": [
        "lista1 = [\"Audi\", \"Ferrari\", \"Toyota\", \"Maseratti\", \"Mazda\"]\n",
        "sorted(lista1)"
      ],
      "execution_count": 92,
      "outputs": [
        {
          "output_type": "execute_result",
          "data": {
            "text/plain": [
              "['Audi', 'Ferrari', 'Maseratti', 'Mazda', 'Toyota']"
            ]
          },
          "metadata": {},
          "execution_count": 92
        }
      ]
    },
    {
      "cell_type": "markdown",
      "metadata": {
        "id": "-N5_EDOFcnsc"
      },
      "source": [
        "We can add a \"key\" parameter to specify a function to be called on each list element prior to making comparisons. For example:"
      ]
    },
    {
      "cell_type": "code",
      "metadata": {
        "id": "0i3peZ0bO2PS",
        "colab": {
          "base_uri": "https://localhost:8080/"
        },
        "outputId": "40df098d-8590-447b-a01d-82c943b4a29e"
      },
      "source": [
        "price_list = [('AAPL',144.09),('GOOG',911.71),('MSFT',69),('FB',150),('WMT',75.32)]\n",
        "sorted(price_list, key = lambda x: x[1])"
      ],
      "execution_count": 93,
      "outputs": [
        {
          "output_type": "execute_result",
          "data": {
            "text/plain": [
              "[('MSFT', 69), ('WMT', 75.32), ('AAPL', 144.09), ('FB', 150), ('GOOG', 911.71)]"
            ]
          },
          "metadata": {},
          "execution_count": 93
        }
      ]
    },
    {
      "cell_type": "code",
      "metadata": {
        "colab": {
          "base_uri": "https://localhost:8080/"
        },
        "id": "cS3IMgVdxWOG",
        "outputId": "e9f08ce2-ebbb-4175-8042-7f01d1410f26"
      },
      "source": [
        "lista1 = [(\"Audi\",15), (\"Ferrari\",14), (\"Toyota\",95), (\"Maseratti\",2), (\"Mazda\",5)]\n",
        "sorted(lista1, key= lambda x: x[0])"
      ],
      "execution_count": 94,
      "outputs": [
        {
          "output_type": "execute_result",
          "data": {
            "text/plain": [
              "[('Audi', 15), ('Ferrari', 14), ('Maseratti', 2), ('Mazda', 5), ('Toyota', 95)]"
            ]
          },
          "metadata": {},
          "execution_count": 94
        }
      ]
    },
    {
      "cell_type": "markdown",
      "metadata": {
        "id": "yun2zptKcxe_"
      },
      "source": [
        "By default the values are sorted by ascending order. We can change it to descending by adding an optional parameter \"reverse'."
      ]
    },
    {
      "cell_type": "code",
      "metadata": {
        "id": "dEZqdl94O2PT",
        "colab": {
          "base_uri": "https://localhost:8080/"
        },
        "outputId": "824d5b86-3386-438d-9eea-6f4bc42175eb"
      },
      "source": [
        "price_list = [('AAPL',144.09),('GOOG',911.71),('MSFT',69),('FB',150),('WMT',75.32)]\n",
        "sorted(price_list, key = lambda x: x[1],reverse = True)"
      ],
      "execution_count": 95,
      "outputs": [
        {
          "output_type": "execute_result",
          "data": {
            "text/plain": [
              "[('GOOG', 911.71), ('FB', 150), ('AAPL', 144.09), ('WMT', 75.32), ('MSFT', 69)]"
            ]
          },
          "metadata": {},
          "execution_count": 95
        }
      ]
    },
    {
      "cell_type": "code",
      "metadata": {
        "colab": {
          "base_uri": "https://localhost:8080/"
        },
        "id": "gJACm6rex07m",
        "outputId": "d1361381-8044-4cd0-8241-ee2a5bfc190d"
      },
      "source": [
        "lista1 = [(\"Audi\",15), (\"Ferrari\",14), (\"Toyota\",95), (\"Maseratti\",2), (\"Mazda\",5)]\n",
        "sorted(lista1, key= lambda x: x[1], reverse= True)"
      ],
      "execution_count": 96,
      "outputs": [
        {
          "output_type": "execute_result",
          "data": {
            "text/plain": [
              "[('Toyota', 95), ('Audi', 15), ('Ferrari', 14), ('Mazda', 5), ('Maseratti', 2)]"
            ]
          },
          "metadata": {},
          "execution_count": 96
        }
      ]
    },
    {
      "cell_type": "markdown",
      "metadata": {
        "id": "OA2wYAa0c6Dn"
      },
      "source": [
        "Lists also have a function list.sort(). This function takes the same \"key\" and \"reverse\" arguments as sorted(), but it doesn't return a new list."
      ]
    },
    {
      "cell_type": "code",
      "metadata": {
        "id": "pG9VQCLnO2PT",
        "colab": {
          "base_uri": "https://localhost:8080/"
        },
        "outputId": "ce6ccf4b-8924-4782-e723-be322edbaba6"
      },
      "source": [
        "price_list = [('AAPL',144.09),('GOOG',911.71),('MSFT',69),('FB',150),('WMT',75.32)]\n",
        "price_list.sort(key = lambda x: x[1])\n",
        "print(price_list)"
      ],
      "execution_count": 97,
      "outputs": [
        {
          "output_type": "stream",
          "name": "stdout",
          "text": [
            "[('MSFT', 69), ('WMT', 75.32), ('AAPL', 144.09), ('FB', 150), ('GOOG', 911.71)]\n"
          ]
        }
      ]
    },
    {
      "cell_type": "code",
      "metadata": {
        "colab": {
          "base_uri": "https://localhost:8080/"
        },
        "id": "DK6RR-UFyq2J",
        "outputId": "acd6600e-00fe-4dd5-8dc9-ffd70f00c064"
      },
      "source": [
        "lista1 = [(\"Audi\",15), (\"Ferrari\",14), (\"Toyota\",95), (\"Maseratti\",2), (\"Mazda\",5)]\n",
        "lista1.sort(key= lambda x: x[0], reverse=False)\n",
        "print(lista1)"
      ],
      "execution_count": 98,
      "outputs": [
        {
          "output_type": "stream",
          "name": "stdout",
          "text": [
            "[('Audi', 15), ('Ferrari', 14), ('Maseratti', 2), ('Mazda', 5), ('Toyota', 95)]\n"
          ]
        }
      ]
    },
    {
      "cell_type": "markdown",
      "metadata": {
        "id": "mxljL1W1c_c5"
      },
      "source": [
        "# Object-Oriented Programming\n",
        "Python is an object-oriented programming language. It's important to understand the concept of \"objects\" because almost every kind of data from QuantConnect API is an object.\n",
        "\n",
        "## Class\n",
        "A class is a type of data, just like a string, float, or list. When we create an object of that data type, we call it an instance of a class.\n",
        "\n",
        "In Python, everything is an object - everything is an instance of some class. The data stored inside an object are called attributes, and the functions which are associated with the object are called methods.\n",
        "\n",
        "For example, as mentioned above, a list is an object of the \"list\" class, and it has a method list.sort().\n",
        "\n",
        "We can create our own objects by defining a class. We would do this when it's helpful to group certain functions together. For example, we define a class named \"Stock\" here:"
      ]
    },
    {
      "cell_type": "code",
      "metadata": {
        "id": "zC4Y4PgDO2PT"
      },
      "source": [
        "class stock:\n",
        "    def __init__(self, ticker, open, close, volume):\n",
        "        self.ticker = ticker\n",
        "        self.open = open\n",
        "        self.close = close\n",
        "        self.volume = volume\n",
        "        self.rate_return = float(close)/open - 1\n",
        " \n",
        "    def update(self, open, close):\n",
        "        self.open = open\n",
        "        self.close = close\n",
        "        self.rate_return = float(self.close)/self.open - 1\n",
        " \n",
        "    def print_return(self):\n",
        "        print(self.rate_return)"
      ],
      "execution_count": 99,
      "outputs": []
    },
    {
      "cell_type": "code",
      "metadata": {
        "id": "f6__cUjX1M1e"
      },
      "source": [
        "class persona:\n",
        "  def __init__(self,nombre,peso, estatura, edad):\n",
        "    self.nombre = nombre\n",
        "    self.peso = peso\n",
        "    self.estatura = estatura\n",
        "    self.edad = edad\n",
        "    self.imc = float(peso/(estatura**2))\n",
        "\n",
        "  def actualizar(self, peso, estatura):\n",
        "    self.peso = peso\n",
        "    self.estatura = estatura\n",
        "    self.imc = float(peso/(estatura**2))\n",
        "\n",
        "  def print_imc(self):\n",
        "    print(self.imc)"
      ],
      "execution_count": 100,
      "outputs": []
    },
    {
      "cell_type": "markdown",
      "metadata": {
        "id": "rV06INT5dETi"
      },
      "source": [
        "The \"Stock\" class has attributes \"ticker\", \"open\", \"close\", \"volume\" and \"rate_return\". Inside the class body, the first method is called __init__, which is a special method. When we create a new instance of the class, the __init__ method is immediately executed with all the parameters that we pass to the \"Stock\" object. The purpose of this method is to set up a new \"Stock\" object using data we have provided.\n",
        "\n",
        "Here we create two Stock objects named \"apple\" and \"google\"."
      ]
    },
    {
      "cell_type": "code",
      "metadata": {
        "id": "8tIpNk93O2PU"
      },
      "source": [
        "apple = stock('AAPL', 143.69, 144.09, 20109375)\n",
        "google = stock('GOOG', 898.7, 911.7, 1561616)"
      ],
      "execution_count": 101,
      "outputs": []
    },
    {
      "cell_type": "code",
      "metadata": {
        "id": "U9xNsyqs2H0-"
      },
      "source": [
        "x = persona('Camilo',80,1.85,24)\n",
        "y= persona('Camila',52,1.62,21)"
      ],
      "execution_count": 102,
      "outputs": []
    },
    {
      "cell_type": "markdown",
      "metadata": {
        "id": "VxmELNiHdPKS"
      },
      "source": [
        "Stock objects also have two other methods: update() and print_return(). We can access the attribues of a Stock object and call its methods:"
      ]
    },
    {
      "cell_type": "code",
      "metadata": {
        "id": "SsiIkmekO2PU",
        "colab": {
          "base_uri": "https://localhost:8080/"
        },
        "outputId": "e97a549b-1ddb-49b3-8712-e76b819ffc69"
      },
      "source": [
        "apple.ticker\n",
        "google.print_return()\n",
        "google.update(912.8,913.4)\n",
        "google.print_return()"
      ],
      "execution_count": 103,
      "outputs": [
        {
          "output_type": "stream",
          "name": "stdout",
          "text": [
            "0.014465338822744034\n",
            "0.0006573181419806673\n"
          ]
        }
      ]
    },
    {
      "cell_type": "code",
      "metadata": {
        "colab": {
          "base_uri": "https://localhost:8080/"
        },
        "id": "Ue8LmAU-2WMQ",
        "outputId": "66332e5c-019e-4d49-922b-0e19e6cbd34c"
      },
      "source": [
        "x.print_imc()\n",
        "y.print_imc()\n",
        "\n"
      ],
      "execution_count": 104,
      "outputs": [
        {
          "output_type": "stream",
          "name": "stdout",
          "text": [
            "23.37472607742878\n",
            "19.81405273586343\n"
          ]
        }
      ]
    },
    {
      "cell_type": "markdown",
      "metadata": {
        "id": "Q8fl7keNdVKF"
      },
      "source": [
        "By calling the update() function, we updated the open and close prices of a stock. Please note that when we use the attributes or call the methods **inside a class**, we need to specify them as self.attribute or self.method(), otherwise Python will deem them as global variables and thus raise an error.\n",
        "\n",
        "We can add an attribute to an object anywhere:"
      ]
    },
    {
      "cell_type": "code",
      "metadata": {
        "id": "rO4OLnqOO2PU",
        "colab": {
          "base_uri": "https://localhost:8080/",
          "height": 35
        },
        "outputId": "cc0b1219-31da-4405-f337-8f211ee13fd0"
      },
      "source": [
        "apple.ceo = 'Tim Cook'\n",
        "apple.ceo"
      ],
      "execution_count": 105,
      "outputs": [
        {
          "output_type": "execute_result",
          "data": {
            "application/vnd.google.colaboratory.intrinsic+json": {
              "type": "string"
            },
            "text/plain": [
              "'Tim Cook'"
            ]
          },
          "metadata": {},
          "execution_count": 105
        }
      ]
    },
    {
      "cell_type": "code",
      "metadata": {
        "colab": {
          "base_uri": "https://localhost:8080/"
        },
        "id": "-rOkdqsn9D3-",
        "outputId": "0efdbbc5-dcd3-4f56-d828-d0a5b7a0d6c2"
      },
      "source": [
        "x.edad = 25\n",
        "x.edad"
      ],
      "execution_count": 106,
      "outputs": [
        {
          "output_type": "execute_result",
          "data": {
            "text/plain": [
              "25"
            ]
          },
          "metadata": {},
          "execution_count": 106
        }
      ]
    },
    {
      "cell_type": "markdown",
      "metadata": {
        "id": "WyfnFgVidh4J"
      },
      "source": [
        "We can check what names (i.e. attributes and methods) are defined on an object using the dir() function:"
      ]
    },
    {
      "cell_type": "code",
      "metadata": {
        "id": "pPoz0LA8O2PU",
        "colab": {
          "base_uri": "https://localhost:8080/"
        },
        "outputId": "0b94ce6a-ec62-43cc-b9ae-c72be53ffa6f"
      },
      "source": [
        "dir(apple)"
      ],
      "execution_count": 107,
      "outputs": [
        {
          "output_type": "execute_result",
          "data": {
            "text/plain": [
              "['__class__',\n",
              " '__delattr__',\n",
              " '__dict__',\n",
              " '__dir__',\n",
              " '__doc__',\n",
              " '__eq__',\n",
              " '__format__',\n",
              " '__ge__',\n",
              " '__getattribute__',\n",
              " '__gt__',\n",
              " '__hash__',\n",
              " '__init__',\n",
              " '__init_subclass__',\n",
              " '__le__',\n",
              " '__lt__',\n",
              " '__module__',\n",
              " '__ne__',\n",
              " '__new__',\n",
              " '__reduce__',\n",
              " '__reduce_ex__',\n",
              " '__repr__',\n",
              " '__setattr__',\n",
              " '__sizeof__',\n",
              " '__str__',\n",
              " '__subclasshook__',\n",
              " '__weakref__',\n",
              " 'ceo',\n",
              " 'close',\n",
              " 'open',\n",
              " 'print_return',\n",
              " 'rate_return',\n",
              " 'ticker',\n",
              " 'update',\n",
              " 'volume']"
            ]
          },
          "metadata": {},
          "execution_count": 107
        }
      ]
    },
    {
      "cell_type": "code",
      "metadata": {
        "colab": {
          "base_uri": "https://localhost:8080/"
        },
        "id": "X_NKiPYr9Ik4",
        "outputId": "1d6bc8ab-7b36-4921-919c-5e5ce4149536"
      },
      "source": [
        "dir(x)"
      ],
      "execution_count": 108,
      "outputs": [
        {
          "output_type": "execute_result",
          "data": {
            "text/plain": [
              "['__class__',\n",
              " '__delattr__',\n",
              " '__dict__',\n",
              " '__dir__',\n",
              " '__doc__',\n",
              " '__eq__',\n",
              " '__format__',\n",
              " '__ge__',\n",
              " '__getattribute__',\n",
              " '__gt__',\n",
              " '__hash__',\n",
              " '__init__',\n",
              " '__init_subclass__',\n",
              " '__le__',\n",
              " '__lt__',\n",
              " '__module__',\n",
              " '__ne__',\n",
              " '__new__',\n",
              " '__reduce__',\n",
              " '__reduce_ex__',\n",
              " '__repr__',\n",
              " '__setattr__',\n",
              " '__sizeof__',\n",
              " '__str__',\n",
              " '__subclasshook__',\n",
              " '__weakref__',\n",
              " 'actualizar',\n",
              " 'edad',\n",
              " 'estatura',\n",
              " 'imc',\n",
              " 'nombre',\n",
              " 'peso',\n",
              " 'print_imc']"
            ]
          },
          "metadata": {},
          "execution_count": 108
        }
      ]
    },
    {
      "cell_type": "markdown",
      "metadata": {
        "id": "Qpemj1UZd2aa"
      },
      "source": [
        "## Inheritance\n",
        "Inheritance is a way of arranging classes in a hierarchy from the most general to the most specific. A \"child\" class is a more specific type of a \"parent\" class because a child class will inherit all the attribues and methods of its parent. For example, we define a class named \"Child\" which inherits \"Stock\":"
      ]
    },
    {
      "cell_type": "code",
      "metadata": {
        "id": "UELXnxomO2PV"
      },
      "source": [
        "class child(stock):\n",
        "    def __init__(self,name):\n",
        "        self.name = name"
      ],
      "execution_count": 109,
      "outputs": []
    },
    {
      "cell_type": "code",
      "metadata": {
        "id": "ffS2THZyO2PV",
        "colab": {
          "base_uri": "https://localhost:8080/"
        },
        "outputId": "52cdf175-c818-4556-edd9-84caa9675421"
      },
      "source": [
        "aa = child('aa')\n",
        "print(aa.name)\n",
        "aa.update(100,102)\n",
        "print(aa.open)\n",
        "print(aa.close)\n",
        "print(aa.print_return())"
      ],
      "execution_count": 110,
      "outputs": [
        {
          "output_type": "stream",
          "name": "stdout",
          "text": [
            "aa\n",
            "100\n",
            "102\n",
            "0.020000000000000018\n",
            "None\n"
          ]
        }
      ]
    },
    {
      "cell_type": "code",
      "metadata": {
        "colab": {
          "base_uri": "https://localhost:8080/"
        },
        "id": "xXiDKgD09cdU",
        "outputId": "0ad7aa38-2463-49e7-93b5-c97e45d9f6f7"
      },
      "source": [
        "class child(persona):\n",
        "  def __init__(self,apellido):\n",
        "    self.apellido = apellido\n",
        "\n",
        "z = child('Torres')\n",
        "print(z.apellido)\n",
        "z.actualizar(78,1.63)\n",
        "z.print_imc()\n",
        "\n"
      ],
      "execution_count": 111,
      "outputs": [
        {
          "output_type": "stream",
          "name": "stdout",
          "text": [
            "Torres\n",
            "29.357521924046825\n"
          ]
        }
      ]
    },
    {
      "cell_type": "markdown",
      "metadata": {
        "id": "dQbENH6mexTd"
      },
      "source": [
        "\n",
        "\n",
        "# 04 NumPy and Basic Pandas\n",
        "\n",
        "\n",
        "# NumPy\n",
        "NumPy is the core library for scientific computing in Python. It provides a high-performance multidimensional array object, and tools for working with these arrays. It also has strong integration with Pandas, which is another powerful tool for manipulating financial data.\n",
        "\n",
        "Python packages like NumPy and Pandas contain classes and methods which we can use by importing the package:"
      ]
    },
    {
      "cell_type": "code",
      "metadata": {
        "id": "aIESp-rdO58h"
      },
      "source": [
        "import numpy as np"
      ],
      "execution_count": 112,
      "outputs": []
    },
    {
      "cell_type": "markdown",
      "metadata": {
        "id": "GScHHJ5ke7ea"
      },
      "source": [
        "## Basic NumPy Arrays\n",
        "A NumPy array is a grid of values, all of the same type, and is indexed by a tuple of nonnegative integers. Here we make an array by passing a list of Apple stock prices:"
      ]
    },
    {
      "cell_type": "code",
      "metadata": {
        "id": "lZI1wkwDO58i",
        "colab": {
          "base_uri": "https://localhost:8080/"
        },
        "outputId": "7b5b8b9a-419d-4f12-aee1-7aed78a9a5bd"
      },
      "source": [
        "price_list = [143.73, 145.83, 143.68, 144.02, 143.5, 142.62]\n",
        "price_array = np.array(price_list)\n",
        "print(price_array, type(price_array))"
      ],
      "execution_count": 113,
      "outputs": [
        {
          "output_type": "stream",
          "name": "stdout",
          "text": [
            "[143.73 145.83 143.68 144.02 143.5  142.62] <class 'numpy.ndarray'>\n"
          ]
        }
      ]
    },
    {
      "cell_type": "code",
      "metadata": {
        "colab": {
          "base_uri": "https://localhost:8080/"
        },
        "id": "SXmsUnhWGuJ-",
        "outputId": "acfc47b7-bcf3-4731-bbe5-4c62a445abb3"
      },
      "source": [
        "edades=  [52, 45, 88, 12, 65, 1, 33]\n",
        "edades_arr = np.array(edades)\n",
        "print(edades_arr, type(edades_arr))"
      ],
      "execution_count": 114,
      "outputs": [
        {
          "output_type": "stream",
          "name": "stdout",
          "text": [
            "[52 45 88 12 65  1 33] <class 'numpy.ndarray'>\n"
          ]
        }
      ]
    },
    {
      "cell_type": "markdown",
      "metadata": {
        "id": "-5Yj6u9ifB-t"
      },
      "source": [
        "Notice that the type of array is \"ndarray\" which is a multi-dimensional array. If we pass np.array() a list of lists, it will create a 2-dimensional array."
      ]
    },
    {
      "cell_type": "code",
      "metadata": {
        "id": "obvIZrK-O58j",
        "colab": {
          "base_uri": "https://localhost:8080/"
        },
        "outputId": "dc3787d2-85c5-4721-af2c-a905a3263e11"
      },
      "source": [
        "Ar = np.array([[1,3],[2,4]])\n",
        "print(Ar, type(Ar))"
      ],
      "execution_count": 115,
      "outputs": [
        {
          "output_type": "stream",
          "name": "stdout",
          "text": [
            "[[1 3]\n",
            " [2 4]] <class 'numpy.ndarray'>\n"
          ]
        }
      ]
    },
    {
      "cell_type": "code",
      "metadata": {
        "id": "xv5B5SbTHQYA",
        "colab": {
          "base_uri": "https://localhost:8080/"
        },
        "outputId": "af87c619-30af-4c17-9416-1fc7408c4a21"
      },
      "source": [
        "arr = np.array([[2,5,7],[1,4,25],[4,19,9]])\n",
        "print(arr, type(arr))"
      ],
      "execution_count": 116,
      "outputs": [
        {
          "output_type": "stream",
          "name": "stdout",
          "text": [
            "[[ 2  5  7]\n",
            " [ 1  4 25]\n",
            " [ 4 19  9]] <class 'numpy.ndarray'>\n"
          ]
        }
      ]
    },
    {
      "cell_type": "markdown",
      "metadata": {
        "id": "uDdfLD9HfHkl"
      },
      "source": [
        "We get the dimensions of an ndarray using the .shape attribute:"
      ]
    },
    {
      "cell_type": "code",
      "metadata": {
        "id": "G2txdn73O58j",
        "colab": {
          "base_uri": "https://localhost:8080/"
        },
        "outputId": "967485f3-3dac-49a2-bd29-d36c9aa70084"
      },
      "source": [
        "print(Ar.shape)"
      ],
      "execution_count": 117,
      "outputs": [
        {
          "output_type": "stream",
          "name": "stdout",
          "text": [
            "(2, 2)\n"
          ]
        }
      ]
    },
    {
      "cell_type": "code",
      "metadata": {
        "colab": {
          "base_uri": "https://localhost:8080/"
        },
        "id": "Lvh3l3MrL930",
        "outputId": "f53ba90e-535d-4fe2-bf08-37eca8d09fca"
      },
      "source": [
        "print(arr.shape)"
      ],
      "execution_count": 118,
      "outputs": [
        {
          "output_type": "stream",
          "name": "stdout",
          "text": [
            "(3, 3)\n"
          ]
        }
      ]
    },
    {
      "cell_type": "markdown",
      "metadata": {
        "id": "87W5ueORfPEy"
      },
      "source": [
        "If we create an 2-dimensional array (i.e. matrix), each row can be accessed by index:"
      ]
    },
    {
      "cell_type": "code",
      "metadata": {
        "id": "x_QV9aPbO58j",
        "colab": {
          "base_uri": "https://localhost:8080/"
        },
        "outputId": "49bb1b20-9c68-4983-8f87-48ad525e6f47"
      },
      "source": [
        "print(Ar[0])\n",
        "print(Ar[1])"
      ],
      "execution_count": 119,
      "outputs": [
        {
          "output_type": "stream",
          "name": "stdout",
          "text": [
            "[1 3]\n",
            "[2 4]\n"
          ]
        }
      ]
    },
    {
      "cell_type": "code",
      "metadata": {
        "colab": {
          "base_uri": "https://localhost:8080/"
        },
        "id": "kgwhn1W-MFt-",
        "outputId": "e5d8f3a8-e40b-4350-8793-c3489b2f6cca"
      },
      "source": [
        "for i in range(len(arr)):\n",
        "  print(arr[i])"
      ],
      "execution_count": 120,
      "outputs": [
        {
          "output_type": "stream",
          "name": "stdout",
          "text": [
            "[2 5 7]\n",
            "[ 1  4 25]\n",
            "[ 4 19  9]\n"
          ]
        }
      ]
    },
    {
      "cell_type": "markdown",
      "metadata": {
        "id": "5Hke7Vt-fSGB"
      },
      "source": [
        "If we want to access the matrix by column instead:"
      ]
    },
    {
      "cell_type": "code",
      "metadata": {
        "id": "gHVwbPfOO58j",
        "colab": {
          "base_uri": "https://localhost:8080/"
        },
        "outputId": "f4968751-fb21-4a5f-a640-bbf9cf389be3"
      },
      "source": [
        "print('the first column: ', Ar[:,0])\n",
        "print('the second column: ', Ar[:,1])"
      ],
      "execution_count": 121,
      "outputs": [
        {
          "output_type": "stream",
          "name": "stdout",
          "text": [
            "the first column:  [1 2]\n",
            "the second column:  [3 4]\n"
          ]
        }
      ]
    },
    {
      "cell_type": "code",
      "metadata": {
        "colab": {
          "base_uri": "https://localhost:8080/"
        },
        "id": "Z61Hgj1jMPKO",
        "outputId": "b34c313a-f95c-4410-e438-cc6c7f23a517"
      },
      "source": [
        "print(f'1ra columna: {arr[:,0]}')\n",
        "print(f'2da columna: {arr[:,1]}')"
      ],
      "execution_count": 122,
      "outputs": [
        {
          "output_type": "stream",
          "name": "stdout",
          "text": [
            "1ra columna: [2 1 4]\n",
            "2da columna: [ 5  4 19]\n"
          ]
        }
      ]
    },
    {
      "cell_type": "markdown",
      "metadata": {
        "id": "T61cD0HMfStB"
      },
      "source": [
        "## Array Functions\n",
        "Some functions built in NumPy that allow us to perform calculations on arrays. For example, we can apply the natural logarithm to each element of an array:"
      ]
    },
    {
      "cell_type": "code",
      "metadata": {
        "id": "PKhwtJ7XO58k",
        "colab": {
          "base_uri": "https://localhost:8080/"
        },
        "outputId": "1bee8ecb-c0c6-4576-8ba9-941b102d42dc"
      },
      "source": [
        "print(np.log(price_array))"
      ],
      "execution_count": 123,
      "outputs": [
        {
          "output_type": "stream",
          "name": "stdout",
          "text": [
            "[4.96793654 4.98244156 4.9675886  4.96995218 4.96633504 4.96018375]\n"
          ]
        }
      ]
    },
    {
      "cell_type": "code",
      "metadata": {
        "colab": {
          "base_uri": "https://localhost:8080/"
        },
        "id": "3Mov7oJ4MhUn",
        "outputId": "35dd5a22-18bd-4c0e-91a9-e17f245f3cf0"
      },
      "source": [
        "print(edades_arr)\n",
        "print(np.power(edades_arr,2))"
      ],
      "execution_count": 124,
      "outputs": [
        {
          "output_type": "stream",
          "name": "stdout",
          "text": [
            "[52 45 88 12 65  1 33]\n",
            "[2704 2025 7744  144 4225    1 1089]\n"
          ]
        }
      ]
    },
    {
      "cell_type": "markdown",
      "metadata": {
        "id": "uzjBRFBLfZ-D"
      },
      "source": [
        "Other functions return a single value:"
      ]
    },
    {
      "cell_type": "code",
      "metadata": {
        "id": "nQuABZqUO58k",
        "colab": {
          "base_uri": "https://localhost:8080/"
        },
        "outputId": "51dc5ed8-cc8b-4854-a95b-be12c52f02b8"
      },
      "source": [
        "print(np.mean(price_array))\n",
        "print(np.std(price_array))\n",
        "print(np.sum(price_array))\n",
        "print(np.max(price_array))"
      ],
      "execution_count": 125,
      "outputs": [
        {
          "output_type": "stream",
          "name": "stdout",
          "text": [
            "143.89666666666668\n",
            "0.9673790478515796\n",
            "863.38\n",
            "145.83\n"
          ]
        }
      ]
    },
    {
      "cell_type": "code",
      "metadata": {
        "colab": {
          "base_uri": "https://localhost:8080/"
        },
        "id": "JiuOL8sxM-Ou",
        "outputId": "3d92d1d1-9bb0-4c21-b0b2-165a69fee2d7"
      },
      "source": [
        "print(np.mean(edades_arr))\n",
        "print(np.std(edades_arr))\n",
        "print(np.sum(edades_arr))\n",
        "print(np.min(edades_arr))"
      ],
      "execution_count": 126,
      "outputs": [
        {
          "output_type": "stream",
          "name": "stdout",
          "text": [
            "42.285714285714285\n",
            "27.814252696436487\n",
            "296\n",
            "1\n"
          ]
        }
      ]
    },
    {
      "cell_type": "markdown",
      "metadata": {
        "id": "IRW95BsifgDB"
      },
      "source": [
        "The functions above return the mean, standard deviation, total and maximum value of an array.\n",
        "\n",
        "# Pandas\n",
        "Pandas is one of the most powerful tools for dealing with financial data. \n",
        "\n",
        "First we need to import Pandas:"
      ]
    },
    {
      "cell_type": "code",
      "metadata": {
        "id": "xIYH4oUfO58k"
      },
      "source": [
        "import pandas as pd"
      ],
      "execution_count": 127,
      "outputs": []
    },
    {
      "cell_type": "markdown",
      "metadata": {
        "id": "zOig5gORfnJU"
      },
      "source": [
        "## Series\n",
        "Series is a one-dimensional labeled array capable of holding any data type (integers, strings, float, Python object, etc.)\n",
        "\n",
        "We create a Series by calling pd.Series(data), where data can be a dictionary, an array or just a scalar value."
      ]
    },
    {
      "cell_type": "code",
      "metadata": {
        "id": "JmzoNzrPO58k",
        "colab": {
          "base_uri": "https://localhost:8080/"
        },
        "outputId": "cb19c13b-2322-4448-a2b7-b95afff7c949"
      },
      "source": [
        "price = [143.73, 145.83, 143.68, 144.02, 143.5, 142.62]\n",
        "s = pd.Series(price)\n",
        "s"
      ],
      "execution_count": 128,
      "outputs": [
        {
          "output_type": "execute_result",
          "data": {
            "text/plain": [
              "0    143.73\n",
              "1    145.83\n",
              "2    143.68\n",
              "3    144.02\n",
              "4    143.50\n",
              "5    142.62\n",
              "dtype: float64"
            ]
          },
          "metadata": {},
          "execution_count": 128
        }
      ]
    },
    {
      "cell_type": "code",
      "metadata": {
        "colab": {
          "base_uri": "https://localhost:8080/"
        },
        "id": "i72GnEc1NYvP",
        "outputId": "653ae740-ab99-410b-8f0d-e9cc1537d4d1"
      },
      "source": [
        "altura = [1.85,1.82,1.63,1.72,1.91,1.84]\n",
        "x = pd.Series(altura)\n",
        "x"
      ],
      "execution_count": 129,
      "outputs": [
        {
          "output_type": "execute_result",
          "data": {
            "text/plain": [
              "0    1.85\n",
              "1    1.82\n",
              "2    1.63\n",
              "3    1.72\n",
              "4    1.91\n",
              "5    1.84\n",
              "dtype: float64"
            ]
          },
          "metadata": {},
          "execution_count": 129
        }
      ]
    },
    {
      "cell_type": "markdown",
      "metadata": {
        "id": "tP5iDnunfq46"
      },
      "source": [
        "We can customize the indices of a new Series:"
      ]
    },
    {
      "cell_type": "code",
      "metadata": {
        "id": "eswQC3ZPO58l",
        "colab": {
          "base_uri": "https://localhost:8080/"
        },
        "outputId": "da6dcbe1-e84a-4e76-a2e8-fdbf2d513029"
      },
      "source": [
        "s = pd.Series(price,index = ['a','b','c','d','e','f'])\n",
        "s"
      ],
      "execution_count": 130,
      "outputs": [
        {
          "output_type": "execute_result",
          "data": {
            "text/plain": [
              "a    143.73\n",
              "b    145.83\n",
              "c    143.68\n",
              "d    144.02\n",
              "e    143.50\n",
              "f    142.62\n",
              "dtype: float64"
            ]
          },
          "metadata": {},
          "execution_count": 130
        }
      ]
    },
    {
      "cell_type": "code",
      "metadata": {
        "colab": {
          "base_uri": "https://localhost:8080/"
        },
        "id": "w0yneS4uR3b1",
        "outputId": "ae014d3d-9a01-4dd0-b6d7-1c96e8823c2f"
      },
      "source": [
        "x = pd.Series(altura, index=['1°','2°','3°','4°','5°','6°'])\n",
        "x"
      ],
      "execution_count": 131,
      "outputs": [
        {
          "output_type": "execute_result",
          "data": {
            "text/plain": [
              "1°    1.85\n",
              "2°    1.82\n",
              "3°    1.63\n",
              "4°    1.72\n",
              "5°    1.91\n",
              "6°    1.84\n",
              "dtype: float64"
            ]
          },
          "metadata": {},
          "execution_count": 131
        }
      ]
    },
    {
      "cell_type": "markdown",
      "metadata": {
        "id": "wdZrb8pEfuua"
      },
      "source": [
        "Or we can change the indices of an existing Series:"
      ]
    },
    {
      "cell_type": "code",
      "metadata": {
        "id": "MwlRnPF6O58l",
        "colab": {
          "base_uri": "https://localhost:8080/"
        },
        "outputId": "0495c16a-61d4-48f2-c3fe-3e629b563ae4"
      },
      "source": [
        "s.index = [6,5,4,3,2,1]\n",
        "s"
      ],
      "execution_count": 132,
      "outputs": [
        {
          "output_type": "execute_result",
          "data": {
            "text/plain": [
              "6    143.73\n",
              "5    145.83\n",
              "4    143.68\n",
              "3    144.02\n",
              "2    143.50\n",
              "1    142.62\n",
              "dtype: float64"
            ]
          },
          "metadata": {},
          "execution_count": 132
        }
      ]
    },
    {
      "cell_type": "code",
      "metadata": {
        "colab": {
          "base_uri": "https://localhost:8080/"
        },
        "id": "fyTYKMV1Sp3X",
        "outputId": "8c741944-8328-4931-aec1-d66db13c373c"
      },
      "source": [
        "x.index = ['a','b','c','d','e','f']\n",
        "x"
      ],
      "execution_count": 133,
      "outputs": [
        {
          "output_type": "execute_result",
          "data": {
            "text/plain": [
              "a    1.85\n",
              "b    1.82\n",
              "c    1.63\n",
              "d    1.72\n",
              "e    1.91\n",
              "f    1.84\n",
              "dtype: float64"
            ]
          },
          "metadata": {},
          "execution_count": 133
        }
      ]
    },
    {
      "cell_type": "markdown",
      "metadata": {
        "id": "6cGNQZwLfxIz"
      },
      "source": [
        "Series is like a list since it can be sliced by index:"
      ]
    },
    {
      "cell_type": "code",
      "metadata": {
        "id": "N9bBSg6cO58l",
        "colab": {
          "base_uri": "https://localhost:8080/"
        },
        "outputId": "a9c751fb-6fcc-4fe6-bf4f-8f5e207c73f7"
      },
      "source": [
        "print(s[1:])\n",
        "print(s[:-2])"
      ],
      "execution_count": 134,
      "outputs": [
        {
          "output_type": "stream",
          "name": "stdout",
          "text": [
            "5    145.83\n",
            "4    143.68\n",
            "3    144.02\n",
            "2    143.50\n",
            "1    142.62\n",
            "dtype: float64\n",
            "6    143.73\n",
            "5    145.83\n",
            "4    143.68\n",
            "3    144.02\n",
            "dtype: float64\n"
          ]
        }
      ]
    },
    {
      "cell_type": "code",
      "metadata": {
        "colab": {
          "base_uri": "https://localhost:8080/"
        },
        "id": "cssQ_g9QSyK7",
        "outputId": "544136f0-fef6-437f-e362-6a23187d923a"
      },
      "source": [
        "print(x[2:])\n",
        "print(x[:4])"
      ],
      "execution_count": 135,
      "outputs": [
        {
          "output_type": "stream",
          "name": "stdout",
          "text": [
            "c    1.63\n",
            "d    1.72\n",
            "e    1.91\n",
            "f    1.84\n",
            "dtype: float64\n",
            "a    1.85\n",
            "b    1.82\n",
            "c    1.63\n",
            "d    1.72\n",
            "dtype: float64\n"
          ]
        }
      ]
    },
    {
      "cell_type": "markdown",
      "metadata": {
        "id": "5V25nViZfz3Z"
      },
      "source": [
        "Series is also like a dictionary whose values can be set or fetched by index label:"
      ]
    },
    {
      "cell_type": "code",
      "metadata": {
        "id": "b3Y0kKGYO58l",
        "colab": {
          "base_uri": "https://localhost:8080/"
        },
        "outputId": "136c5818-e6a9-4c84-be9d-68351cbe6807"
      },
      "source": [
        "print(s[4])\n",
        "s[4] = 0\n",
        "print(s)"
      ],
      "execution_count": 136,
      "outputs": [
        {
          "output_type": "stream",
          "name": "stdout",
          "text": [
            "143.68\n",
            "6    143.73\n",
            "5    145.83\n",
            "4      0.00\n",
            "3    144.02\n",
            "2    143.50\n",
            "1    142.62\n",
            "dtype: float64\n"
          ]
        }
      ]
    },
    {
      "cell_type": "code",
      "metadata": {
        "colab": {
          "base_uri": "https://localhost:8080/"
        },
        "id": "IsFrDp6DTAgX",
        "outputId": "b3a1ea7e-a4a9-491e-dc07-6a696ca6833e"
      },
      "source": [
        "print(x[1])\n",
        "x[1]= 1.2\n",
        "print(x)"
      ],
      "execution_count": 137,
      "outputs": [
        {
          "output_type": "stream",
          "name": "stdout",
          "text": [
            "1.82\n",
            "a    1.85\n",
            "b    1.20\n",
            "c    1.63\n",
            "d    1.72\n",
            "e    1.91\n",
            "f    1.84\n",
            "dtype: float64\n"
          ]
        }
      ]
    },
    {
      "cell_type": "markdown",
      "metadata": {
        "id": "RQ1P7Gkyf060"
      },
      "source": [
        "Series can also have a name attribute, which will be used when we make up a Pandas DataFrame using several series."
      ]
    },
    {
      "cell_type": "code",
      "metadata": {
        "id": "ZeD4-p7KO58m",
        "colab": {
          "base_uri": "https://localhost:8080/"
        },
        "outputId": "e325a70c-4871-4a40-b2cb-69444e091854"
      },
      "source": [
        "s = pd.Series(price, name = 'Apple Price List')\n",
        "print(s)\n",
        "print(s.name)"
      ],
      "execution_count": 138,
      "outputs": [
        {
          "output_type": "stream",
          "name": "stdout",
          "text": [
            "0    143.73\n",
            "1    145.83\n",
            "2    143.68\n",
            "3    144.02\n",
            "4    143.50\n",
            "5    142.62\n",
            "Name: Apple Price List, dtype: float64\n",
            "Apple Price List\n"
          ]
        }
      ]
    },
    {
      "cell_type": "code",
      "metadata": {
        "colab": {
          "base_uri": "https://localhost:8080/"
        },
        "id": "J2K85u8cTV-z",
        "outputId": "0a781da7-d7e6-4481-a985-7d9ef7f15023"
      },
      "source": [
        "x = pd.Series(altura, name='Estaturas Clientes')\n",
        "print(x, x.name)"
      ],
      "execution_count": 139,
      "outputs": [
        {
          "output_type": "stream",
          "name": "stdout",
          "text": [
            "0    1.85\n",
            "1    1.82\n",
            "2    1.63\n",
            "3    1.72\n",
            "4    1.91\n",
            "5    1.84\n",
            "Name: Estaturas Clientes, dtype: float64 Estaturas Clientes\n"
          ]
        }
      ]
    },
    {
      "cell_type": "markdown",
      "metadata": {
        "id": "geJb1pGHf5Et"
      },
      "source": [
        "We can get the statistical summaries of a Series:"
      ]
    },
    {
      "cell_type": "code",
      "metadata": {
        "colab": {
          "base_uri": "https://localhost:8080/"
        },
        "id": "mGPtFcjegm4i",
        "outputId": "5f2f9ae4-a4ab-4c7e-abf2-418caa8e9cbf"
      },
      "source": [
        "print(s.describe())"
      ],
      "execution_count": 140,
      "outputs": [
        {
          "output_type": "stream",
          "name": "stdout",
          "text": [
            "count      6.000000\n",
            "mean     143.896667\n",
            "std        1.059711\n",
            "min      142.620000\n",
            "25%      143.545000\n",
            "50%      143.705000\n",
            "75%      143.947500\n",
            "max      145.830000\n",
            "Name: Apple Price List, dtype: float64\n"
          ]
        }
      ]
    },
    {
      "cell_type": "code",
      "metadata": {
        "colab": {
          "base_uri": "https://localhost:8080/"
        },
        "id": "RAIHQmJTT-2z",
        "outputId": "a2102d39-5723-45a3-920d-9ba5e382a86d"
      },
      "source": [
        "print(x.describe())"
      ],
      "execution_count": 141,
      "outputs": [
        {
          "output_type": "stream",
          "name": "stdout",
          "text": [
            "count    6.000000\n",
            "mean     1.795000\n",
            "std      0.101735\n",
            "min      1.630000\n",
            "25%      1.745000\n",
            "50%      1.830000\n",
            "75%      1.847500\n",
            "max      1.910000\n",
            "Name: Estaturas Clientes, dtype: float64\n"
          ]
        }
      ]
    },
    {
      "cell_type": "markdown",
      "metadata": {
        "id": "LkdZu-CDgvlR"
      },
      "source": [
        "## Time Index\n",
        "Pandas has a built-in function specifically for creating date indices: pd.date_range(). We use it to create a new index for our Series:"
      ]
    },
    {
      "cell_type": "code",
      "metadata": {
        "id": "HJe5hU4zO58m",
        "colab": {
          "base_uri": "https://localhost:8080/"
        },
        "outputId": "ea5cc917-c5ed-4635-dd84-c0baa00c3be7"
      },
      "source": [
        "time_index = pd.date_range('2017-01-01',periods = len(s),freq = 'D')\n",
        "print(time_index)\n",
        "s.index = time_index\n",
        "print(s)"
      ],
      "execution_count": 142,
      "outputs": [
        {
          "output_type": "stream",
          "name": "stdout",
          "text": [
            "DatetimeIndex(['2017-01-01', '2017-01-02', '2017-01-03', '2017-01-04',\n",
            "               '2017-01-05', '2017-01-06'],\n",
            "              dtype='datetime64[ns]', freq='D')\n",
            "2017-01-01    143.73\n",
            "2017-01-02    145.83\n",
            "2017-01-03    143.68\n",
            "2017-01-04    144.02\n",
            "2017-01-05    143.50\n",
            "2017-01-06    142.62\n",
            "Freq: D, Name: Apple Price List, dtype: float64\n"
          ]
        }
      ]
    },
    {
      "cell_type": "code",
      "metadata": {
        "colab": {
          "base_uri": "https://localhost:8080/"
        },
        "id": "lEXQ1RfMUI4l",
        "outputId": "0c64de93-ff5d-42b8-af5a-9219cd91143b"
      },
      "source": [
        "fechas = pd.date_range('2021-05-12', periods=len(x), freq='M')\n",
        "print(fechas)\n",
        "x.index = fechas\n",
        "print(x)"
      ],
      "execution_count": 143,
      "outputs": [
        {
          "output_type": "stream",
          "name": "stdout",
          "text": [
            "DatetimeIndex(['2021-05-31', '2021-06-30', '2021-07-31', '2021-08-31',\n",
            "               '2021-09-30', '2021-10-31'],\n",
            "              dtype='datetime64[ns]', freq='M')\n",
            "2021-05-31    1.85\n",
            "2021-06-30    1.82\n",
            "2021-07-31    1.63\n",
            "2021-08-31    1.72\n",
            "2021-09-30    1.91\n",
            "2021-10-31    1.84\n",
            "Freq: M, Name: Estaturas Clientes, dtype: float64\n"
          ]
        }
      ]
    },
    {
      "cell_type": "markdown",
      "metadata": {
        "id": "7WedejFZg19J"
      },
      "source": [
        "Series are usually accessed using the iloc[] and loc[] methods. iloc[] is used to access elements by integer index, and loc[] is used to access the index of the series.\n",
        "\n",
        "iloc[] is necessary when the index of a series are integers, take our previous defined series as example:"
      ]
    },
    {
      "cell_type": "code",
      "metadata": {
        "id": "KrVSOyMvO58m",
        "colab": {
          "base_uri": "https://localhost:8080/"
        },
        "outputId": "e5d500dc-33a7-446f-ff70-e52a3345b0b6"
      },
      "source": [
        "s.index = [6,5,4,3,2,1]\n",
        "print(s)\n",
        "print(s[1])"
      ],
      "execution_count": 144,
      "outputs": [
        {
          "output_type": "stream",
          "name": "stdout",
          "text": [
            "6    143.73\n",
            "5    145.83\n",
            "4    143.68\n",
            "3    144.02\n",
            "2    143.50\n",
            "1    142.62\n",
            "Name: Apple Price List, dtype: float64\n",
            "142.62\n"
          ]
        }
      ]
    },
    {
      "cell_type": "code",
      "metadata": {
        "colab": {
          "base_uri": "https://localhost:8080/"
        },
        "id": "xH2Iwu6oWC6h",
        "outputId": "67eb1763-9ed0-4d55-f570-f6dd1bafc2e4"
      },
      "source": [
        "x.index = [6,5,4,3,2,1]\n",
        "print(x)\n",
        "print(x[1])"
      ],
      "execution_count": 145,
      "outputs": [
        {
          "output_type": "stream",
          "name": "stdout",
          "text": [
            "6    1.85\n",
            "5    1.82\n",
            "4    1.63\n",
            "3    1.72\n",
            "2    1.91\n",
            "1    1.84\n",
            "Name: Estaturas Clientes, dtype: float64\n",
            "1.84\n"
          ]
        }
      ]
    },
    {
      "cell_type": "markdown",
      "metadata": {
        "id": "r30VKPtpg61p"
      },
      "source": [
        "If we intended to take the second element of the series, we would make a mistake here, because the index are integers. In order to access to the element we want, we use iloc[] here:"
      ]
    },
    {
      "cell_type": "code",
      "metadata": {
        "id": "bHukfaAmO58m",
        "colab": {
          "base_uri": "https://localhost:8080/"
        },
        "outputId": "b73a44d6-e18d-4c3a-b9cd-9c1e32763458"
      },
      "source": [
        "print(s.iloc[1])"
      ],
      "execution_count": 146,
      "outputs": [
        {
          "output_type": "stream",
          "name": "stdout",
          "text": [
            "145.83\n"
          ]
        }
      ]
    },
    {
      "cell_type": "code",
      "metadata": {
        "colab": {
          "base_uri": "https://localhost:8080/"
        },
        "id": "hk1UfS9KXE7y",
        "outputId": "7ab214e3-1838-43cd-838f-1e754ee51c7f"
      },
      "source": [
        "print(x.iloc[0])"
      ],
      "execution_count": 147,
      "outputs": [
        {
          "output_type": "stream",
          "name": "stdout",
          "text": [
            "1.85\n"
          ]
        }
      ]
    },
    {
      "cell_type": "markdown",
      "metadata": {
        "id": "kHVBRL_Rg84j"
      },
      "source": [
        "While working with time series data, we often use time as the index. Pandas provides us with various methods to access the data by time index"
      ]
    },
    {
      "cell_type": "code",
      "metadata": {
        "id": "FCf8Hg7jO58n",
        "colab": {
          "base_uri": "https://localhost:8080/"
        },
        "outputId": "651aba32-3c6e-4574-e4ae-fa921ecc2d15"
      },
      "source": [
        "s.index = time_index\n",
        "print(s['2017-01-03'])"
      ],
      "execution_count": 148,
      "outputs": [
        {
          "output_type": "stream",
          "name": "stdout",
          "text": [
            "143.68\n"
          ]
        }
      ]
    },
    {
      "cell_type": "code",
      "metadata": {
        "colab": {
          "base_uri": "https://localhost:8080/"
        },
        "id": "z_BCTGSaXLs1",
        "outputId": "1e63146f-8483-4a02-ae4f-667dbc2bf190"
      },
      "source": [
        "x.index = fechas\n",
        "print(x['2021-08-31'])"
      ],
      "execution_count": 149,
      "outputs": [
        {
          "output_type": "stream",
          "name": "stdout",
          "text": [
            "1.72\n"
          ]
        }
      ]
    },
    {
      "cell_type": "markdown",
      "metadata": {
        "id": "XJXcrSFpg-To"
      },
      "source": [
        "We can even access to a range of dates:"
      ]
    },
    {
      "cell_type": "code",
      "metadata": {
        "id": "NsE-Lr_9O58n",
        "colab": {
          "base_uri": "https://localhost:8080/"
        },
        "outputId": "ddd369ec-8f02-42aa-af14-ae416e2666ad"
      },
      "source": [
        "print(s['2017-01-02':'2017-01-05'])"
      ],
      "execution_count": 150,
      "outputs": [
        {
          "output_type": "stream",
          "name": "stdout",
          "text": [
            "2017-01-02    145.83\n",
            "2017-01-03    143.68\n",
            "2017-01-04    144.02\n",
            "2017-01-05    143.50\n",
            "Freq: D, Name: Apple Price List, dtype: float64\n"
          ]
        }
      ]
    },
    {
      "cell_type": "code",
      "metadata": {
        "colab": {
          "base_uri": "https://localhost:8080/"
        },
        "id": "7h8k6MO7XWzQ",
        "outputId": "3bab5cd4-665e-4a74-9caf-3af67f8fe20b"
      },
      "source": [
        "print(x['2021-05-31':'2021-09-30'])"
      ],
      "execution_count": 151,
      "outputs": [
        {
          "output_type": "stream",
          "name": "stdout",
          "text": [
            "2021-05-31    1.85\n",
            "2021-06-30    1.82\n",
            "2021-07-31    1.63\n",
            "2021-08-31    1.72\n",
            "2021-09-30    1.91\n",
            "Freq: M, Name: Estaturas Clientes, dtype: float64\n"
          ]
        }
      ]
    },
    {
      "cell_type": "markdown",
      "metadata": {
        "id": "cWA3NCXEhCLB"
      },
      "source": [
        "Series[] provides us a very flexible way to index data. We can add any condition in the square brackets:"
      ]
    },
    {
      "cell_type": "code",
      "metadata": {
        "id": "aawbrg2EO58n",
        "colab": {
          "base_uri": "https://localhost:8080/"
        },
        "outputId": "75a864d4-cb1c-429b-c6d6-9d9ce4f6d799"
      },
      "source": [
        "print(s[s < np.mean(s)] )\n",
        "print([(s > np.mean(s)) & (s < np.mean(s) + 1.64*np.std(s))])"
      ],
      "execution_count": 152,
      "outputs": [
        {
          "output_type": "stream",
          "name": "stdout",
          "text": [
            "2017-01-01    143.73\n",
            "2017-01-03    143.68\n",
            "2017-01-05    143.50\n",
            "2017-01-06    142.62\n",
            "Name: Apple Price List, dtype: float64\n",
            "[2017-01-01    False\n",
            "2017-01-02    False\n",
            "2017-01-03    False\n",
            "2017-01-04     True\n",
            "2017-01-05    False\n",
            "2017-01-06    False\n",
            "Freq: D, Name: Apple Price List, dtype: bool]\n"
          ]
        }
      ]
    },
    {
      "cell_type": "code",
      "metadata": {
        "colab": {
          "base_uri": "https://localhost:8080/"
        },
        "id": "bYyvQqEpXofY",
        "outputId": "723a241e-6de9-4d74-ddb3-08543898d704"
      },
      "source": [
        "print(x[x> np.mean(x)])\n",
        "print([(x < np.mean(x)) & (x < np.mean(x) + 1.5*np.std(x))])"
      ],
      "execution_count": 153,
      "outputs": [
        {
          "output_type": "stream",
          "name": "stdout",
          "text": [
            "2021-05-31    1.85\n",
            "2021-06-30    1.82\n",
            "2021-09-30    1.91\n",
            "2021-10-31    1.84\n",
            "Name: Estaturas Clientes, dtype: float64\n",
            "[2021-05-31    False\n",
            "2021-06-30    False\n",
            "2021-07-31     True\n",
            "2021-08-31     True\n",
            "2021-09-30    False\n",
            "2021-10-31    False\n",
            "Freq: M, Name: Estaturas Clientes, dtype: bool]\n"
          ]
        }
      ]
    },
    {
      "cell_type": "markdown",
      "metadata": {
        "id": "OtjOpw6oJp6z"
      },
      "source": [
        "<div align=\"center\">\n",
        "<img style=\"display: block; margin: auto;\" alt=\"photo\" src=\"https://cdn.quantconnect.com/web/i/icon.png\"> <img style=\"display: block; margin: auto;\" alt=\"photo\" src=\"https://www.marketing-branding.com/wp-content/uploads/2020/07/google-colaboratory-colab-guia-completa.jpg \" width=\"50\" height=\"50\">\n",
        "<img style=\"display: block; margin: auto;\" alt=\"photo\" src=\"https://upload.wikimedia.org/wikipedia/commons/d/da/Yahoo_Finance_Logo_2019.svg\" width=\"50\" height=\"50\">  \n",
        "\n",
        "Quantconnect -> Google Colab with Yahoo Finance data\n",
        "\n",
        "Introduction to Financial Python\n",
        "</div>\n",
        "\n",
        "# 05 Pandas-Resampling and DataFrame\n",
        "\n",
        "# Introduction\n",
        "In the last chapter we had a glimpse of Pandas. In this chapter we will learn about resampling methods and the DataFrame object, which is a powerful tool for financial data analysis.\n",
        "\n",
        "# Fetching Data\n",
        "Here we use the Yahoo Finance to retrieve data.\n"
      ]
    },
    {
      "cell_type": "code",
      "metadata": {
        "colab": {
          "base_uri": "https://localhost:8080/"
        },
        "id": "luU8mZTsHW9x",
        "outputId": "e417d427-ed95-4376-ea9a-25548da77a57"
      },
      "source": [
        "!pip install yfinance"
      ],
      "execution_count": 154,
      "outputs": [
        {
          "output_type": "stream",
          "name": "stdout",
          "text": [
            "Collecting yfinance\n",
            "  Downloading yfinance-0.1.63.tar.gz (26 kB)\n",
            "Requirement already satisfied: pandas>=0.24 in /usr/local/lib/python3.7/dist-packages (from yfinance) (1.1.5)\n",
            "Requirement already satisfied: numpy>=1.15 in /usr/local/lib/python3.7/dist-packages (from yfinance) (1.19.5)\n",
            "Requirement already satisfied: requests>=2.20 in /usr/local/lib/python3.7/dist-packages (from yfinance) (2.23.0)\n",
            "Requirement already satisfied: multitasking>=0.0.7 in /usr/local/lib/python3.7/dist-packages (from yfinance) (0.0.9)\n",
            "Collecting lxml>=4.5.1\n",
            "  Downloading lxml-4.6.3-cp37-cp37m-manylinux2014_x86_64.whl (6.3 MB)\n",
            "\u001b[K     |████████████████████████████████| 6.3 MB 10.9 MB/s \n",
            "\u001b[?25hRequirement already satisfied: pytz>=2017.2 in /usr/local/lib/python3.7/dist-packages (from pandas>=0.24->yfinance) (2018.9)\n",
            "Requirement already satisfied: python-dateutil>=2.7.3 in /usr/local/lib/python3.7/dist-packages (from pandas>=0.24->yfinance) (2.8.2)\n",
            "Requirement already satisfied: six>=1.5 in /usr/local/lib/python3.7/dist-packages (from python-dateutil>=2.7.3->pandas>=0.24->yfinance) (1.15.0)\n",
            "Requirement already satisfied: urllib3!=1.25.0,!=1.25.1,<1.26,>=1.21.1 in /usr/local/lib/python3.7/dist-packages (from requests>=2.20->yfinance) (1.24.3)\n",
            "Requirement already satisfied: chardet<4,>=3.0.2 in /usr/local/lib/python3.7/dist-packages (from requests>=2.20->yfinance) (3.0.4)\n",
            "Requirement already satisfied: idna<3,>=2.5 in /usr/local/lib/python3.7/dist-packages (from requests>=2.20->yfinance) (2.10)\n",
            "Requirement already satisfied: certifi>=2017.4.17 in /usr/local/lib/python3.7/dist-packages (from requests>=2.20->yfinance) (2021.5.30)\n",
            "Building wheels for collected packages: yfinance\n",
            "  Building wheel for yfinance (setup.py) ... \u001b[?25l\u001b[?25hdone\n",
            "  Created wheel for yfinance: filename=yfinance-0.1.63-py2.py3-none-any.whl size=23918 sha256=0745c9c6c96318ca339d36f438fb990506e8c4130e94a893a3a03ea6b85ac44a\n",
            "  Stored in directory: /root/.cache/pip/wheels/fe/87/8b/7ec24486e001d3926537f5f7801f57a74d181be25b11157983\n",
            "Successfully built yfinance\n",
            "Installing collected packages: lxml, yfinance\n",
            "  Attempting uninstall: lxml\n",
            "    Found existing installation: lxml 4.2.6\n",
            "    Uninstalling lxml-4.2.6:\n",
            "      Successfully uninstalled lxml-4.2.6\n",
            "Successfully installed lxml-4.6.3 yfinance-0.1.63\n"
          ]
        }
      ]
    },
    {
      "cell_type": "code",
      "metadata": {
        "colab": {
          "base_uri": "https://localhost:8080/",
          "height": 476
        },
        "id": "mWZ-nirTZHrE",
        "outputId": "3570623e-6872-40a1-caba-a25035f9051d"
      },
      "source": [
        "import yfinance as yf\n",
        "\n",
        "aapl = yf.Ticker(\"AAPL\")\n",
        "\n",
        "# get stock info\n",
        "print(aapl.info)\n",
        "\n",
        "# get historical market data\n",
        "aapl_table = aapl.history(start=\"2016-01-01\",  end=\"2017-12-31\")\n",
        "aapl_table"
      ],
      "execution_count": 155,
      "outputs": [
        {
          "output_type": "stream",
          "name": "stdout",
          "text": [
            "{'zip': '95014', 'sector': 'Technology', 'fullTimeEmployees': 147000, 'longBusinessSummary': 'Apple Inc. designs, manufactures, and markets smartphones, personal computers, tablets, wearables, and accessories worldwide. It also sells various related services. The company offers iPhone, a line of smartphones; Mac, a line of personal computers; iPad, a line of multi-purpose tablets; and wearables, home, and accessories comprising AirPods, Apple TV, Apple Watch, Beats products, HomePod, iPod touch, and other Apple-branded and third-party accessories. It also provides AppleCare support services; cloud services store services; and operates various platforms, including the App Store, that allow customers to discover and download applications and digital content, such as books, music, video, games, and podcasts. In addition, the company offers various services, such as Apple Arcade, a game subscription service; Apple Music, which offers users a curated listening experience with on-demand radio stations; Apple News+, a subscription news and magazine service; Apple TV+, which offers exclusive original content; Apple Card, a co-branded credit card; and Apple Pay, a cashless payment service, as well as licenses its intellectual property. The company serves consumers, and small and mid-sized businesses; and the education, enterprise, and government markets. It sells and delivers third-party applications for its products through the App Store. The company also sells its products through its retail and online stores, and direct sales force; and third-party cellular network carriers, wholesalers, retailers, and resellers. Apple Inc. was founded in 1977 and is headquartered in Cupertino, California.', 'city': 'Cupertino', 'phone': '408-996-1010', 'state': 'CA', 'country': 'United States', 'companyOfficers': [], 'website': 'http://www.apple.com', 'maxAge': 1, 'address1': 'One Apple Park Way', 'industry': 'Consumer Electronics', 'ebitdaMargins': 0.31955, 'profitMargins': 0.25004, 'grossMargins': 0.41005, 'operatingCashflow': 104414003200, 'revenueGrowth': 0.364, 'operatingMargins': 0.28788, 'ebitda': 110934999040, 'targetLowPrice': 132, 'recommendationKey': 'buy', 'grossProfits': 104956000000, 'freeCashflow': 80625876992, 'targetMedianPrice': 170, 'currentPrice': 148.9762, 'earningsGrowth': 1, 'currentRatio': 1.062, 'returnOnAssets': 0.19302, 'numberOfAnalystOpinions': 41, 'targetMeanPrice': 168.23, 'debtToEquity': 210.782, 'returnOnEquity': 1.27125, 'targetHighPrice': 190, 'totalCash': 61696000000, 'totalDebt': 135491002368, 'totalRevenue': 347155005440, 'totalCashPerShare': 3.732, 'financialCurrency': 'USD', 'revenuePerShare': 20.61, 'quickRatio': 0.887, 'recommendationMean': 1.9, 'exchange': 'NMS', 'shortName': 'Apple Inc.', 'longName': 'Apple Inc.', 'exchangeTimezoneName': 'America/New_York', 'exchangeTimezoneShortName': 'EDT', 'isEsgPopulated': False, 'gmtOffSetMilliseconds': '-14400000', 'quoteType': 'EQUITY', 'symbol': 'AAPL', 'messageBoardId': 'finmb_24937', 'market': 'us_market', 'annualHoldingsTurnover': None, 'enterpriseToRevenue': 7.191, 'beta3Year': None, 'enterpriseToEbitda': 22.502, '52WeekChange': 0.24712789, 'morningStarRiskRating': None, 'forwardEps': 5.67, 'revenueQuarterlyGrowth': None, 'sharesOutstanding': 16530199552, 'fundInceptionDate': None, 'annualReportExpenseRatio': None, 'totalAssets': None, 'bookValue': 3.882, 'sharesShort': 101107412, 'sharesPercentSharesOut': 0.0061000003, 'fundFamily': None, 'lastFiscalYearEnd': 1601078400, 'heldPercentInstitutions': 0.58672, 'netIncomeToCommon': 86801997824, 'trailingEps': 5.108, 'lastDividendValue': 0.22, 'SandP52WeekChange': 0.30302167, 'priceToBook': 38.376144, 'heldPercentInsiders': 0.00072999997, 'nextFiscalYearEnd': 1664150400, 'yield': None, 'mostRecentQuarter': 1624665600, 'shortRatio': 1.18, 'sharesShortPreviousMonthDate': 1630368000, 'floatShares': 16512974627, 'beta': 1.222222, 'enterpriseValue': 2496290881536, 'priceHint': 2, 'threeYearAverageReturn': None, 'lastSplitDate': 1598832000, 'lastSplitFactor': '4:1', 'legalType': None, 'lastDividendDate': 1628208000, 'morningStarOverallRating': None, 'earningsQuarterlyGrowth': 0.932, 'priceToSalesTrailing12Months': 7.093679, 'dateShortInterest': 1632960000, 'pegRatio': 1.38, 'ytdReturn': None, 'forwardPE': 26.274462, 'lastCapGain': None, 'shortPercentOfFloat': 0.0061000003, 'sharesShortPriorMonth': 96838699, 'impliedSharesOutstanding': None, 'category': None, 'fiveYearAverageReturn': None, 'previousClose': 146.55, 'regularMarketOpen': 147.01, 'twoHundredDayAverage': 138.93898, 'trailingAnnualDividendYield': 0.0056977137, 'payoutRatio': 0.16309999, 'volume24Hr': None, 'regularMarketDayHigh': 149.04, 'navPrice': None, 'averageDailyVolume10Day': 73218650, 'regularMarketPreviousClose': 146.55, 'fiftyDayAverage': 146.59572, 'trailingAnnualDividendRate': 0.835, 'open': 147.01, 'toCurrency': None, 'averageVolume10days': 73218650, 'expireDate': None, 'algorithm': None, 'dividendRate': 0.88, 'exDividendDate': 1628208000, 'circulatingSupply': None, 'startDate': None, 'regularMarketDayLow': 146.55, 'currency': 'USD', 'trailingPE': 29.16527, 'regularMarketVolume': 30827252, 'lastMarket': None, 'maxSupply': None, 'openInterest': None, 'marketCap': 2462606163968, 'volumeAllCurrencies': None, 'strikePrice': None, 'averageVolume': 77536093, 'dayLow': 146.55, 'ask': 148.49, 'askSize': 800, 'volume': 30827252, 'fiftyTwoWeekHigh': 157.26, 'fromCurrency': None, 'fiveYearAvgDividendYield': 1.24, 'fiftyTwoWeekLow': 107.32, 'bid': 148.49, 'tradeable': False, 'dividendYield': 0.006, 'bidSize': 1400, 'dayHigh': 149.04, 'regularMarketPrice': 148.9762, 'logo_url': 'https://logo.clearbit.com/apple.com'}\n"
          ]
        },
        {
          "output_type": "execute_result",
          "data": {
            "text/html": [
              "<div>\n",
              "<style scoped>\n",
              "    .dataframe tbody tr th:only-of-type {\n",
              "        vertical-align: middle;\n",
              "    }\n",
              "\n",
              "    .dataframe tbody tr th {\n",
              "        vertical-align: top;\n",
              "    }\n",
              "\n",
              "    .dataframe thead th {\n",
              "        text-align: right;\n",
              "    }\n",
              "</style>\n",
              "<table border=\"1\" class=\"dataframe\">\n",
              "  <thead>\n",
              "    <tr style=\"text-align: right;\">\n",
              "      <th></th>\n",
              "      <th>Open</th>\n",
              "      <th>High</th>\n",
              "      <th>Low</th>\n",
              "      <th>Close</th>\n",
              "      <th>Volume</th>\n",
              "      <th>Dividends</th>\n",
              "      <th>Stock Splits</th>\n",
              "    </tr>\n",
              "    <tr>\n",
              "      <th>Date</th>\n",
              "      <th></th>\n",
              "      <th></th>\n",
              "      <th></th>\n",
              "      <th></th>\n",
              "      <th></th>\n",
              "      <th></th>\n",
              "      <th></th>\n",
              "    </tr>\n",
              "  </thead>\n",
              "  <tbody>\n",
              "    <tr>\n",
              "      <th>2016-01-04</th>\n",
              "      <td>23.655164</td>\n",
              "      <td>24.291441</td>\n",
              "      <td>23.514538</td>\n",
              "      <td>24.286829</td>\n",
              "      <td>270597600</td>\n",
              "      <td>0.0</td>\n",
              "      <td>0</td>\n",
              "    </tr>\n",
              "    <tr>\n",
              "      <th>2016-01-05</th>\n",
              "      <td>24.379047</td>\n",
              "      <td>24.402100</td>\n",
              "      <td>23.609061</td>\n",
              "      <td>23.678221</td>\n",
              "      <td>223164000</td>\n",
              "      <td>0.0</td>\n",
              "      <td>0</td>\n",
              "    </tr>\n",
              "    <tr>\n",
              "      <th>2016-01-06</th>\n",
              "      <td>23.182569</td>\n",
              "      <td>23.599838</td>\n",
              "      <td>23.023501</td>\n",
              "      <td>23.214844</td>\n",
              "      <td>273829600</td>\n",
              "      <td>0.0</td>\n",
              "      <td>0</td>\n",
              "    </tr>\n",
              "    <tr>\n",
              "      <th>2016-01-07</th>\n",
              "      <td>22.749166</td>\n",
              "      <td>23.083441</td>\n",
              "      <td>22.230463</td>\n",
              "      <td>22.235073</td>\n",
              "      <td>324377600</td>\n",
              "      <td>0.0</td>\n",
              "      <td>0</td>\n",
              "    </tr>\n",
              "    <tr>\n",
              "      <th>2016-01-08</th>\n",
              "      <td>22.719195</td>\n",
              "      <td>22.848294</td>\n",
              "      <td>22.306538</td>\n",
              "      <td>22.352644</td>\n",
              "      <td>283192000</td>\n",
              "      <td>0.0</td>\n",
              "      <td>0</td>\n",
              "    </tr>\n",
              "    <tr>\n",
              "      <th>...</th>\n",
              "      <td>...</td>\n",
              "      <td>...</td>\n",
              "      <td>...</td>\n",
              "      <td>...</td>\n",
              "      <td>...</td>\n",
              "      <td>...</td>\n",
              "      <td>...</td>\n",
              "    </tr>\n",
              "    <tr>\n",
              "      <th>2017-12-22</th>\n",
              "      <td>41.827749</td>\n",
              "      <td>42.004946</td>\n",
              "      <td>41.784649</td>\n",
              "      <td>41.906769</td>\n",
              "      <td>65397600</td>\n",
              "      <td>0.0</td>\n",
              "      <td>0</td>\n",
              "    </tr>\n",
              "    <tr>\n",
              "      <th>2017-12-26</th>\n",
              "      <td>40.898678</td>\n",
              "      <td>41.059112</td>\n",
              "      <td>40.630488</td>\n",
              "      <td>40.843605</td>\n",
              "      <td>132742000</td>\n",
              "      <td>0.0</td>\n",
              "      <td>0</td>\n",
              "    </tr>\n",
              "    <tr>\n",
              "      <th>2017-12-27</th>\n",
              "      <td>40.731054</td>\n",
              "      <td>40.893880</td>\n",
              "      <td>40.637667</td>\n",
              "      <td>40.850780</td>\n",
              "      <td>85992800</td>\n",
              "      <td>0.0</td>\n",
              "      <td>0</td>\n",
              "    </tr>\n",
              "    <tr>\n",
              "      <th>2017-12-28</th>\n",
              "      <td>40.946568</td>\n",
              "      <td>41.150105</td>\n",
              "      <td>40.822051</td>\n",
              "      <td>40.965725</td>\n",
              "      <td>65920800</td>\n",
              "      <td>0.0</td>\n",
              "      <td>0</td>\n",
              "    </tr>\n",
              "    <tr>\n",
              "      <th>2017-12-29</th>\n",
              "      <td>40.831625</td>\n",
              "      <td>40.848385</td>\n",
              "      <td>40.520335</td>\n",
              "      <td>40.522728</td>\n",
              "      <td>103999600</td>\n",
              "      <td>0.0</td>\n",
              "      <td>0</td>\n",
              "    </tr>\n",
              "  </tbody>\n",
              "</table>\n",
              "<p>503 rows × 7 columns</p>\n",
              "</div>"
            ],
            "text/plain": [
              "                 Open       High        Low  ...     Volume  Dividends  Stock Splits\n",
              "Date                                         ...                                    \n",
              "2016-01-04  23.655164  24.291441  23.514538  ...  270597600        0.0             0\n",
              "2016-01-05  24.379047  24.402100  23.609061  ...  223164000        0.0             0\n",
              "2016-01-06  23.182569  23.599838  23.023501  ...  273829600        0.0             0\n",
              "2016-01-07  22.749166  23.083441  22.230463  ...  324377600        0.0             0\n",
              "2016-01-08  22.719195  22.848294  22.306538  ...  283192000        0.0             0\n",
              "...               ...        ...        ...  ...        ...        ...           ...\n",
              "2017-12-22  41.827749  42.004946  41.784649  ...   65397600        0.0             0\n",
              "2017-12-26  40.898678  41.059112  40.630488  ...  132742000        0.0             0\n",
              "2017-12-27  40.731054  40.893880  40.637667  ...   85992800        0.0             0\n",
              "2017-12-28  40.946568  41.150105  40.822051  ...   65920800        0.0             0\n",
              "2017-12-29  40.831625  40.848385  40.520335  ...  103999600        0.0             0\n",
              "\n",
              "[503 rows x 7 columns]"
            ]
          },
          "metadata": {},
          "execution_count": 155
        }
      ]
    },
    {
      "cell_type": "code",
      "metadata": {
        "colab": {
          "base_uri": "https://localhost:8080/",
          "height": 476
        },
        "id": "F2y9tpC-Y-Fn",
        "outputId": "dcc7c800-0664-45c3-d319-add54cb47c3d"
      },
      "source": [
        "tesla = yf.Ticker('TSLA')\n",
        "print(tesla.info)\n",
        "tesla_tabla=tesla.history(start='2020-01-01', end='2021-06-30')\n",
        "tesla_tabla"
      ],
      "execution_count": 156,
      "outputs": [
        {
          "output_type": "stream",
          "name": "stdout",
          "text": [
            "{'zip': '94304', 'sector': 'Consumer Cyclical', 'fullTimeEmployees': 70757, 'longBusinessSummary': 'Tesla, Inc. designs, develops, manufactures, leases, and sells electric vehicles, and energy generation and storage systems in the United States, China, and internationally. The company operates in two segments, Automotive, and Energy Generation and Storage. The Automotive segment offers electric vehicles, as well as sells automotive regulatory credits. It provides sedans and sport utility vehicles through direct and used vehicle sales, a network of Tesla Superchargers, and in-app upgrades; and purchase financing and leasing services. This segment is also involved in the provision of non-warranty after-sales vehicle services, sale of used vehicles, retail merchandise, and vehicle insurance, as well as sale of products through its subsidiaries to third party customers; services for electric vehicles through its company-owned service locations, and Tesla mobile service technicians; and vehicle limited warranties and extended service plans. The Energy Generation and Storage segment engages in the design, manufacture, installation, sale, and leasing of solar energy generation and energy storage products, and related services to residential, commercial, and industrial customers and utilities through its website, stores, and galleries, as well as through a network of channel partners. This segment also offers service and repairs to its energy product customers, including under warranty; and various financing options to its solar customers. The company was formerly known as Tesla Motors, Inc. and changed its name to Tesla, Inc. in February 2017. Tesla, Inc. was founded in 2003 and is headquartered in Palo Alto, California.', 'city': 'Palo Alto', 'phone': '650-681-5000', 'state': 'CA', 'country': 'United States', 'companyOfficers': [], 'website': 'http://www.tesla.com', 'maxAge': 1, 'address1': '3500 Deer Creek Road', 'industry': 'Auto Manufacturers', 'ebitdaMargins': 0.13738, 'profitMargins': 0.0521, 'grossMargins': 0.22044, 'operatingCashflow': 9184000000, 'revenueGrowth': 0.981, 'operatingMargins': 0.07756, 'ebitda': 5751000064, 'targetLowPrice': 67, 'recommendationKey': 'hold', 'grossProfits': 6630000000, 'freeCashflow': 4515624960, 'targetMedianPrice': 755, 'currentPrice': 870.015, 'earningsGrowth': 9.2, 'currentRatio': 1.508, 'returnOnAssets': 0.043509997, 'numberOfAnalystOpinions': 37, 'targetMeanPrice': 703.01, 'debtToEquity': 42.552, 'returnOnEquity': 0.12275, 'targetHighPrice': 1591, 'totalCash': 16229000192, 'totalDebt': 11169999872, 'totalRevenue': 41862000640, 'totalCashPerShare': 16.393, 'financialCurrency': 'USD', 'revenuePerShare': 43.812, 'quickRatio': 1.123, 'recommendationMean': 2.6, 'exchange': 'NMS', 'shortName': 'Tesla, Inc.', 'longName': 'Tesla, Inc.', 'exchangeTimezoneName': 'America/New_York', 'exchangeTimezoneShortName': 'EDT', 'isEsgPopulated': False, 'gmtOffSetMilliseconds': '-14400000', 'quoteType': 'EQUITY', 'symbol': 'TSLA', 'messageBoardId': 'finmb_27444752', 'market': 'us_market', 'annualHoldingsTurnover': None, 'enterpriseToRevenue': 20.491, 'beta3Year': None, 'enterpriseToEbitda': 149.158, '52WeekChange': 1.0621653, 'morningStarRiskRating': None, 'forwardEps': 7.34, 'revenueQuarterlyGrowth': None, 'sharesOutstanding': 1001769984, 'fundInceptionDate': None, 'annualReportExpenseRatio': None, 'totalAssets': None, 'bookValue': 25.207, 'sharesShort': 29205723, 'sharesPercentSharesOut': 0.0292, 'fundFamily': None, 'lastFiscalYearEnd': 1609372800, 'heldPercentInstitutions': 0.41412997, 'netIncomeToCommon': 2150000128, 'trailingEps': 1.897, 'lastDividendValue': None, 'SandP52WeekChange': 0.30302167, 'priceToBook': 34.514816, 'heldPercentInsiders': 0.18962, 'nextFiscalYearEnd': 1672444800, 'yield': None, 'mostRecentQuarter': 1625011200, 'shortRatio': 1.56, 'sharesShortPreviousMonthDate': 1630368000, 'floatShares': 801734075, 'beta': 1.89365, 'enterpriseValue': 857809092608, 'priceHint': 2, 'threeYearAverageReturn': None, 'lastSplitDate': 1598832000, 'lastSplitFactor': '5:1', 'legalType': None, 'lastDividendDate': None, 'morningStarOverallRating': None, 'earningsQuarterlyGrowth': 9.981, 'priceToSalesTrailing12Months': 20.818636, 'dateShortInterest': 1632960000, 'pegRatio': 2.11, 'ytdReturn': None, 'forwardPE': 118.52451, 'lastCapGain': None, 'shortPercentOfFloat': 0.0359, 'sharesShortPriorMonth': 27432219, 'impliedSharesOutstanding': None, 'category': None, 'fiveYearAverageReturn': None, 'previousClose': 870.11, 'regularMarketOpen': 877.53, 'twoHundredDayAverage': 689.834, 'trailingAnnualDividendYield': None, 'payoutRatio': 0, 'volume24Hr': None, 'regularMarketDayHigh': 877.95, 'navPrice': None, 'averageDailyVolume10Day': 17591116, 'regularMarketPreviousClose': 870.11, 'fiftyDayAverage': 769.6863, 'trailingAnnualDividendRate': None, 'open': 877.53, 'toCurrency': None, 'averageVolume10days': 17591116, 'expireDate': None, 'algorithm': None, 'dividendRate': None, 'exDividendDate': None, 'circulatingSupply': None, 'startDate': None, 'regularMarketDayLow': 862.5101, 'currency': 'USD', 'trailingPE': 458.60306, 'regularMarketVolume': 7736298, 'lastMarket': None, 'maxSupply': None, 'openInterest': None, 'marketCap': 871509786624, 'volumeAllCurrencies': None, 'strikePrice': None, 'averageVolume': 18582284, 'dayLow': 862.5101, 'ask': 867.94, 'askSize': 900, 'volume': 7736298, 'fiftyTwoWeekHigh': 900.4, 'fromCurrency': None, 'fiveYearAvgDividendYield': None, 'fiftyTwoWeekLow': 379.11, 'bid': 867.92, 'tradeable': False, 'dividendYield': None, 'bidSize': 900, 'dayHigh': 877.95, 'regularMarketPrice': 869.97, 'logo_url': 'https://logo.clearbit.com/tesla.com'}\n"
          ]
        },
        {
          "output_type": "execute_result",
          "data": {
            "text/html": [
              "<div>\n",
              "<style scoped>\n",
              "    .dataframe tbody tr th:only-of-type {\n",
              "        vertical-align: middle;\n",
              "    }\n",
              "\n",
              "    .dataframe tbody tr th {\n",
              "        vertical-align: top;\n",
              "    }\n",
              "\n",
              "    .dataframe thead th {\n",
              "        text-align: right;\n",
              "    }\n",
              "</style>\n",
              "<table border=\"1\" class=\"dataframe\">\n",
              "  <thead>\n",
              "    <tr style=\"text-align: right;\">\n",
              "      <th></th>\n",
              "      <th>Open</th>\n",
              "      <th>High</th>\n",
              "      <th>Low</th>\n",
              "      <th>Close</th>\n",
              "      <th>Volume</th>\n",
              "      <th>Dividends</th>\n",
              "      <th>Stock Splits</th>\n",
              "    </tr>\n",
              "    <tr>\n",
              "      <th>Date</th>\n",
              "      <th></th>\n",
              "      <th></th>\n",
              "      <th></th>\n",
              "      <th></th>\n",
              "      <th></th>\n",
              "      <th></th>\n",
              "      <th></th>\n",
              "    </tr>\n",
              "  </thead>\n",
              "  <tbody>\n",
              "    <tr>\n",
              "      <th>2020-01-02</th>\n",
              "      <td>84.900002</td>\n",
              "      <td>86.139999</td>\n",
              "      <td>84.342003</td>\n",
              "      <td>86.052002</td>\n",
              "      <td>47660500</td>\n",
              "      <td>0</td>\n",
              "      <td>0.0</td>\n",
              "    </tr>\n",
              "    <tr>\n",
              "      <th>2020-01-03</th>\n",
              "      <td>88.099998</td>\n",
              "      <td>90.800003</td>\n",
              "      <td>87.384003</td>\n",
              "      <td>88.601997</td>\n",
              "      <td>88892500</td>\n",
              "      <td>0</td>\n",
              "      <td>0.0</td>\n",
              "    </tr>\n",
              "    <tr>\n",
              "      <th>2020-01-06</th>\n",
              "      <td>88.094002</td>\n",
              "      <td>90.311996</td>\n",
              "      <td>88.000000</td>\n",
              "      <td>90.307999</td>\n",
              "      <td>50665000</td>\n",
              "      <td>0</td>\n",
              "      <td>0.0</td>\n",
              "    </tr>\n",
              "    <tr>\n",
              "      <th>2020-01-07</th>\n",
              "      <td>92.279999</td>\n",
              "      <td>94.325996</td>\n",
              "      <td>90.671997</td>\n",
              "      <td>93.811996</td>\n",
              "      <td>89410500</td>\n",
              "      <td>0</td>\n",
              "      <td>0.0</td>\n",
              "    </tr>\n",
              "    <tr>\n",
              "      <th>2020-01-08</th>\n",
              "      <td>94.739998</td>\n",
              "      <td>99.697998</td>\n",
              "      <td>93.646004</td>\n",
              "      <td>98.428001</td>\n",
              "      <td>155721500</td>\n",
              "      <td>0</td>\n",
              "      <td>0.0</td>\n",
              "    </tr>\n",
              "    <tr>\n",
              "      <th>...</th>\n",
              "      <td>...</td>\n",
              "      <td>...</td>\n",
              "      <td>...</td>\n",
              "      <td>...</td>\n",
              "      <td>...</td>\n",
              "      <td>...</td>\n",
              "      <td>...</td>\n",
              "    </tr>\n",
              "    <tr>\n",
              "      <th>2021-06-23</th>\n",
              "      <td>632.000000</td>\n",
              "      <td>657.200012</td>\n",
              "      <td>630.039978</td>\n",
              "      <td>656.570007</td>\n",
              "      <td>31099200</td>\n",
              "      <td>0</td>\n",
              "      <td>0.0</td>\n",
              "    </tr>\n",
              "    <tr>\n",
              "      <th>2021-06-24</th>\n",
              "      <td>674.989990</td>\n",
              "      <td>697.619995</td>\n",
              "      <td>667.609985</td>\n",
              "      <td>679.820007</td>\n",
              "      <td>45982400</td>\n",
              "      <td>0</td>\n",
              "      <td>0.0</td>\n",
              "    </tr>\n",
              "    <tr>\n",
              "      <th>2021-06-25</th>\n",
              "      <td>689.580017</td>\n",
              "      <td>693.809998</td>\n",
              "      <td>668.700012</td>\n",
              "      <td>671.869995</td>\n",
              "      <td>32496700</td>\n",
              "      <td>0</td>\n",
              "      <td>0.0</td>\n",
              "    </tr>\n",
              "    <tr>\n",
              "      <th>2021-06-28</th>\n",
              "      <td>671.640015</td>\n",
              "      <td>694.700012</td>\n",
              "      <td>670.320007</td>\n",
              "      <td>688.719971</td>\n",
              "      <td>21628200</td>\n",
              "      <td>0</td>\n",
              "      <td>0.0</td>\n",
              "    </tr>\n",
              "    <tr>\n",
              "      <th>2021-06-29</th>\n",
              "      <td>684.650024</td>\n",
              "      <td>687.510010</td>\n",
              "      <td>675.890015</td>\n",
              "      <td>680.760010</td>\n",
              "      <td>17381300</td>\n",
              "      <td>0</td>\n",
              "      <td>0.0</td>\n",
              "    </tr>\n",
              "  </tbody>\n",
              "</table>\n",
              "<p>376 rows × 7 columns</p>\n",
              "</div>"
            ],
            "text/plain": [
              "                  Open        High  ...  Dividends  Stock Splits\n",
              "Date                                ...                         \n",
              "2020-01-02   84.900002   86.139999  ...          0           0.0\n",
              "2020-01-03   88.099998   90.800003  ...          0           0.0\n",
              "2020-01-06   88.094002   90.311996  ...          0           0.0\n",
              "2020-01-07   92.279999   94.325996  ...          0           0.0\n",
              "2020-01-08   94.739998   99.697998  ...          0           0.0\n",
              "...                ...         ...  ...        ...           ...\n",
              "2021-06-23  632.000000  657.200012  ...          0           0.0\n",
              "2021-06-24  674.989990  697.619995  ...          0           0.0\n",
              "2021-06-25  689.580017  693.809998  ...          0           0.0\n",
              "2021-06-28  671.640015  694.700012  ...          0           0.0\n",
              "2021-06-29  684.650024  687.510010  ...          0           0.0\n",
              "\n",
              "[376 rows x 7 columns]"
            ]
          },
          "metadata": {},
          "execution_count": 156
        }
      ]
    },
    {
      "cell_type": "markdown",
      "metadata": {
        "id": "NkFztSYhJyVA"
      },
      "source": [
        "We will create a Series named \"aapl\" whose values are Apple's daily closing prices, which are of course indexed by dates:"
      ]
    },
    {
      "cell_type": "code",
      "metadata": {
        "id": "QDJbOpCeHW91"
      },
      "source": [
        "aapl = aapl_table['Close']['2017']"
      ],
      "execution_count": 157,
      "outputs": []
    },
    {
      "cell_type": "code",
      "metadata": {
        "colab": {
          "base_uri": "https://localhost:8080/"
        },
        "id": "SXfgCQJOHW91",
        "outputId": "4fb6eb4b-d69b-44f0-bb37-bce392a98edd"
      },
      "source": [
        "print(aapl)"
      ],
      "execution_count": 158,
      "outputs": [
        {
          "output_type": "stream",
          "name": "stdout",
          "text": [
            "Date\n",
            "2017-01-03    27.372360\n",
            "2017-01-04    27.341721\n",
            "2017-01-05    27.480764\n",
            "2017-01-06    27.787130\n",
            "2017-01-09    28.041649\n",
            "                ...    \n",
            "2017-12-22    41.906769\n",
            "2017-12-26    40.843605\n",
            "2017-12-27    40.850780\n",
            "2017-12-28    40.965725\n",
            "2017-12-29    40.522728\n",
            "Name: Close, Length: 251, dtype: float64\n"
          ]
        }
      ]
    },
    {
      "cell_type": "code",
      "metadata": {
        "colab": {
          "base_uri": "https://localhost:8080/"
        },
        "id": "d_2J8byuY5Cu",
        "outputId": "46f2e41f-af9f-4ea4-a46e-5a8b3024eed8"
      },
      "source": [
        "tesla = tesla_tabla['Close']['2021']\n",
        "print(tesla)"
      ],
      "execution_count": 159,
      "outputs": [
        {
          "output_type": "stream",
          "name": "stdout",
          "text": [
            "Date\n",
            "2021-01-04    729.770020\n",
            "2021-01-05    735.109985\n",
            "2021-01-06    755.979980\n",
            "2021-01-07    816.039978\n",
            "2021-01-08    880.020020\n",
            "                 ...    \n",
            "2021-06-23    656.570007\n",
            "2021-06-24    679.820007\n",
            "2021-06-25    671.869995\n",
            "2021-06-28    688.719971\n",
            "2021-06-29    680.760010\n",
            "Name: Close, Length: 123, dtype: float64\n"
          ]
        }
      ]
    },
    {
      "cell_type": "markdown",
      "metadata": {
        "id": "waUEgBhzKEcA"
      },
      "source": [
        "Recall that we can fetch a specific data point using series['yyyy-mm-dd']. We can also fetch the data in a specific month using series['yyyy-mm']."
      ]
    },
    {
      "cell_type": "code",
      "metadata": {
        "colab": {
          "base_uri": "https://localhost:8080/"
        },
        "id": "2gS50G0zHW92",
        "outputId": "5c28e0f5-eff3-4101-b3c1-4df1839edff9"
      },
      "source": [
        "print(aapl['2017-3'])"
      ],
      "execution_count": 160,
      "outputs": [
        {
          "output_type": "stream",
          "name": "stdout",
          "text": [
            "Date\n",
            "2017-03-01    33.086281\n",
            "2017-03-02    32.889835\n",
            "2017-03-03    33.083920\n",
            "2017-03-06    32.979778\n",
            "2017-03-07    33.022373\n",
            "2017-03-08    32.899303\n",
            "2017-03-09    32.823566\n",
            "2017-03-10    32.932438\n",
            "2017-03-13    32.946640\n",
            "2017-03-14    32.896931\n",
            "2017-03-15    33.244869\n",
            "2017-03-16    33.299301\n",
            "2017-03-17    33.133629\n",
            "2017-03-20    33.481544\n",
            "2017-03-21    33.098125\n",
            "2017-03-22    33.472076\n",
            "2017-03-23    33.353745\n",
            "2017-03-24    33.287468\n",
            "2017-03-27    33.344276\n",
            "2017-03-28    34.035393\n",
            "2017-03-29    34.111134\n",
            "2017-03-30    34.066162\n",
            "2017-03-31    34.002262\n",
            "Name: Close, dtype: float64\n"
          ]
        }
      ]
    },
    {
      "cell_type": "code",
      "metadata": {
        "colab": {
          "base_uri": "https://localhost:8080/"
        },
        "id": "vpvxGwXtHW92",
        "outputId": "ca80c5d1-1c73-4603-f5b4-04ddbe733cf3"
      },
      "source": [
        "aapl['2017-2':'2017-4']"
      ],
      "execution_count": 161,
      "outputs": [
        {
          "output_type": "execute_result",
          "data": {
            "text/plain": [
              "Date\n",
              "2017-02-01    30.341728\n",
              "2017-02-02    30.289881\n",
              "2017-02-03    30.419495\n",
              "2017-02-06    30.704647\n",
              "2017-02-07    30.996874\n",
              "                ...    \n",
              "2017-04-24    33.997524\n",
              "2017-04-25    34.208172\n",
              "2017-04-26    34.006996\n",
              "2017-04-27    34.033035\n",
              "2017-04-28    33.999889\n",
              "Name: Close, Length: 61, dtype: float64"
            ]
          },
          "metadata": {},
          "execution_count": 161
        }
      ]
    },
    {
      "cell_type": "code",
      "metadata": {
        "colab": {
          "base_uri": "https://localhost:8080/"
        },
        "id": "PcJfiWsRaHUQ",
        "outputId": "9861fddd-29ca-419f-acf2-7a19739a5614"
      },
      "source": [
        "print(tesla['2021-01'])\n",
        "tesla['2021-01':'2021-03']"
      ],
      "execution_count": 162,
      "outputs": [
        {
          "output_type": "stream",
          "name": "stdout",
          "text": [
            "Date\n",
            "2021-01-04    729.770020\n",
            "2021-01-05    735.109985\n",
            "2021-01-06    755.979980\n",
            "2021-01-07    816.039978\n",
            "2021-01-08    880.020020\n",
            "2021-01-11    811.190002\n",
            "2021-01-12    849.440002\n",
            "2021-01-13    854.409973\n",
            "2021-01-14    845.000000\n",
            "2021-01-15    826.159973\n",
            "2021-01-19    844.549988\n",
            "2021-01-20    850.450012\n",
            "2021-01-21    844.989990\n",
            "2021-01-22    846.640015\n",
            "2021-01-25    880.799988\n",
            "2021-01-26    883.090027\n",
            "2021-01-27    864.159973\n",
            "2021-01-28    835.429993\n",
            "2021-01-29    793.530029\n",
            "Name: Close, dtype: float64\n"
          ]
        },
        {
          "output_type": "execute_result",
          "data": {
            "text/plain": [
              "Date\n",
              "2021-01-04    729.770020\n",
              "2021-01-05    735.109985\n",
              "2021-01-06    755.979980\n",
              "2021-01-07    816.039978\n",
              "2021-01-08    880.020020\n",
              "                 ...    \n",
              "2021-03-25    640.390015\n",
              "2021-03-26    618.710022\n",
              "2021-03-29    611.289978\n",
              "2021-03-30    635.619995\n",
              "2021-03-31    667.929993\n",
              "Name: Close, Length: 61, dtype: float64"
            ]
          },
          "metadata": {},
          "execution_count": 162
        }
      ]
    },
    {
      "cell_type": "markdown",
      "metadata": {
        "id": "lWwoD39pKNKb"
      },
      "source": [
        ".head(N) and .tail(N) are methods for quickly accessing the first or last N elements."
      ]
    },
    {
      "cell_type": "code",
      "metadata": {
        "colab": {
          "base_uri": "https://localhost:8080/"
        },
        "id": "1eU218ALHW93",
        "outputId": "3e453e2a-9797-4cec-e0f8-6b4d177043ac"
      },
      "source": [
        "print(aapl.head(5))\n",
        "print(aapl.tail(10))"
      ],
      "execution_count": 163,
      "outputs": [
        {
          "output_type": "stream",
          "name": "stdout",
          "text": [
            "Date\n",
            "2017-01-03    27.372360\n",
            "2017-01-04    27.341721\n",
            "2017-01-05    27.480764\n",
            "2017-01-06    27.787130\n",
            "2017-01-09    28.041649\n",
            "Name: Close, dtype: float64\n",
            "Date\n",
            "2017-12-15    41.657745\n",
            "2017-12-18    42.244404\n",
            "2017-12-19    41.794228\n",
            "2017-12-20    41.748737\n",
            "2017-12-21    41.906769\n",
            "2017-12-22    41.906769\n",
            "2017-12-26    40.843605\n",
            "2017-12-27    40.850780\n",
            "2017-12-28    40.965725\n",
            "2017-12-29    40.522728\n",
            "Name: Close, dtype: float64\n"
          ]
        }
      ]
    },
    {
      "cell_type": "code",
      "metadata": {
        "colab": {
          "base_uri": "https://localhost:8080/"
        },
        "id": "8uzGBgPYaWPo",
        "outputId": "ad0d780b-f51b-4323-d46e-fee4724c46d9"
      },
      "source": [
        "print(tesla.head(2))\n",
        "print(tesla.tail(5))"
      ],
      "execution_count": 164,
      "outputs": [
        {
          "output_type": "stream",
          "name": "stdout",
          "text": [
            "Date\n",
            "2021-01-04    729.770020\n",
            "2021-01-05    735.109985\n",
            "Name: Close, dtype: float64\n",
            "Date\n",
            "2021-06-23    656.570007\n",
            "2021-06-24    679.820007\n",
            "2021-06-25    671.869995\n",
            "2021-06-28    688.719971\n",
            "2021-06-29    680.760010\n",
            "Name: Close, dtype: float64\n"
          ]
        }
      ]
    },
    {
      "cell_type": "markdown",
      "metadata": {
        "id": "IxhKxtj-KQ66"
      },
      "source": [
        "# Resampling\n",
        "**_series.resample(freq)_** is a class called \"DatetimeIndexResampler\" which groups data in a Series object into regular time intervals. The argument \"freq\" determines the length of each interval.\n",
        "\n",
        "**_series.resample.mean()_** is a complete statement that groups data into intervals, and then compute the mean of each interval. For example, if we want to aggregate the daily data into monthly data by mean:"
      ]
    },
    {
      "cell_type": "code",
      "metadata": {
        "colab": {
          "base_uri": "https://localhost:8080/"
        },
        "id": "rAV8NkHkHW93",
        "outputId": "487ace0f-90a0-4db2-a941-9938941a91b1"
      },
      "source": [
        "by_month = aapl.resample('M').mean()\n",
        "print(by_month)"
      ],
      "execution_count": 165,
      "outputs": [
        {
          "output_type": "stream",
          "name": "stdout",
          "text": [
            "Date\n",
            "2017-01-31    28.178331\n",
            "2017-02-28    31.606275\n",
            "2017-03-31    33.282220\n",
            "2017-04-30    33.819264\n",
            "2017-05-31    36.125684\n",
            "2017-06-30    35.133982\n",
            "2017-07-31    35.245242\n",
            "2017-08-31    37.897228\n",
            "2017-09-30    37.604737\n",
            "2017-10-31    37.654550\n",
            "2017-11-30    41.233916\n",
            "2017-12-31    41.160038\n",
            "Freq: M, Name: Close, dtype: float64\n"
          ]
        }
      ]
    },
    {
      "cell_type": "code",
      "metadata": {
        "colab": {
          "base_uri": "https://localhost:8080/"
        },
        "id": "MhhfEwXeg3IB",
        "outputId": "f83e22cc-2749-42fe-a48b-a98e34843231"
      },
      "source": [
        "mes = tesla.resample('M').mean()\n",
        "print(mes)"
      ],
      "execution_count": 166,
      "outputs": [
        {
          "output_type": "stream",
          "name": "stdout",
          "text": [
            "Date\n",
            "2021-01-31    828.776839\n",
            "2021-02-28    794.269470\n",
            "2021-03-31    656.802607\n",
            "2021-04-30    709.618094\n",
            "2021-05-31    616.753000\n",
            "2021-06-30    624.406195\n",
            "Freq: M, Name: Close, dtype: float64\n"
          ]
        }
      ]
    },
    {
      "cell_type": "markdown",
      "metadata": {
        "id": "QDPfVzBEKV6Q"
      },
      "source": [
        "We can also aggregate the data by week:"
      ]
    },
    {
      "cell_type": "code",
      "metadata": {
        "colab": {
          "base_uri": "https://localhost:8080/"
        },
        "id": "aAP3tKkBHW94",
        "outputId": "a5ee67fe-3e94-4a41-c378-17312ca6b322"
      },
      "source": [
        "by_week = aapl.resample('W').mean()\n",
        "print(by_week.head())"
      ],
      "execution_count": 167,
      "outputs": [
        {
          "output_type": "stream",
          "name": "stdout",
          "text": [
            "Date\n",
            "2017-01-08    27.495494\n",
            "2017-01-15    28.097736\n",
            "2017-01-22    28.266113\n",
            "2017-01-29    28.553981\n",
            "2017-02-05    29.662543\n",
            "Freq: W-SUN, Name: Close, dtype: float64\n"
          ]
        }
      ]
    },
    {
      "cell_type": "code",
      "metadata": {
        "colab": {
          "base_uri": "https://localhost:8080/"
        },
        "id": "msol4Er_hIcU",
        "outputId": "3d509852-6399-442a-811b-3c129f00fc9b"
      },
      "source": [
        "semana = tesla.resample('W').mean()\n",
        "print(semana.tail())"
      ],
      "execution_count": 168,
      "outputs": [
        {
          "output_type": "stream",
          "name": "stdout",
          "text": [
            "Date\n",
            "2021-06-06    600.227509\n",
            "2021-06-13    605.502014\n",
            "2021-06-20    612.365991\n",
            "2021-06-27    650.560010\n",
            "2021-07-04    684.739990\n",
            "Freq: W-SUN, Name: Close, dtype: float64\n"
          ]
        }
      ]
    },
    {
      "cell_type": "markdown",
      "metadata": {
        "id": "o_MXSVsILoBS"
      },
      "source": [
        "We can also aggregate the data by month with max:"
      ]
    },
    {
      "cell_type": "code",
      "metadata": {
        "colab": {
          "base_uri": "https://localhost:8080/"
        },
        "id": "gn0wqXBTHW95",
        "outputId": "7a81d6fd-2a01-4417-ea13-0be88a1972e7"
      },
      "source": [
        "aapl.resample('M').max()"
      ],
      "execution_count": 169,
      "outputs": [
        {
          "output_type": "execute_result",
          "data": {
            "text/plain": [
              "Date\n",
              "2017-01-31    28.739214\n",
              "2017-02-28    32.451969\n",
              "2017-03-31    34.111134\n",
              "2017-04-30    34.264980\n",
              "2017-05-31    37.099129\n",
              "2017-06-30    36.944645\n",
              "2017-07-31    36.471706\n",
              "2017-08-31    39.129726\n",
              "2017-09-30    39.141651\n",
              "2017-10-31    40.332249\n",
              "2017-11-30    42.050144\n",
              "2017-12-31    42.244404\n",
              "Freq: M, Name: Close, dtype: float64"
            ]
          },
          "metadata": {},
          "execution_count": 169
        }
      ]
    },
    {
      "cell_type": "code",
      "metadata": {
        "colab": {
          "base_uri": "https://localhost:8080/"
        },
        "id": "-DKtlD_chr2n",
        "outputId": "fb7f3351-8ed7-432e-9783-be46ddb02852"
      },
      "source": [
        "tesla.resample('Y').max()"
      ],
      "execution_count": 170,
      "outputs": [
        {
          "output_type": "execute_result",
          "data": {
            "text/plain": [
              "Date\n",
              "2021-12-31    883.090027\n",
              "Freq: A-DEC, Name: Close, dtype: float64"
            ]
          },
          "metadata": {},
          "execution_count": 170
        }
      ]
    },
    {
      "cell_type": "markdown",
      "metadata": {
        "id": "Z8r46UFlLdAh"
      },
      "source": [
        "We can choose almost any frequency by using the format 'nf', where 'n' is an integer and 'f' is M for month, W for week and D for day."
      ]
    },
    {
      "cell_type": "code",
      "metadata": {
        "colab": {
          "base_uri": "https://localhost:8080/"
        },
        "id": "kdVB_-JFHW96",
        "outputId": "8fa7f9f1-e4c1-418b-96ec-c4b789e5313c"
      },
      "source": [
        "three_day = aapl.resample('3D').mean()\n",
        "two_week = aapl.resample('2W').mean()\n",
        "two_month = aapl.resample('2M').mean()\n",
        "\n",
        "\n",
        "print(three_day)\n",
        "print(two_week)\n",
        "print(two_month )"
      ],
      "execution_count": 171,
      "outputs": [
        {
          "output_type": "stream",
          "name": "stdout",
          "text": [
            "Date\n",
            "2017-01-03    27.398282\n",
            "2017-01-06    27.787130\n",
            "2017-01-09    28.110776\n",
            "2017-01-12    28.078176\n",
            "2017-01-15    28.279663\n",
            "                ...    \n",
            "2017-12-17    42.019316\n",
            "2017-12-20    41.854092\n",
            "2017-12-23          NaN\n",
            "2017-12-26    40.886703\n",
            "2017-12-29    40.522728\n",
            "Freq: 3D, Name: Close, Length: 121, dtype: float64\n",
            "Date\n",
            "2017-01-08    27.495494\n",
            "2017-01-22    28.172570\n",
            "2017-02-05    29.108262\n",
            "2017-02-19    31.516816\n",
            "2017-03-05    32.595555\n",
            "2017-03-19    33.017883\n",
            "2017-04-02    33.625219\n",
            "2017-04-16    33.849728\n",
            "2017-04-30    33.791846\n",
            "2017-05-14    35.697630\n",
            "2017-05-28    36.496180\n",
            "2017-06-11    36.515008\n",
            "2017-06-25    34.529042\n",
            "2017-07-09    34.265134\n",
            "2017-07-23    35.278872\n",
            "2017-08-06    36.272776\n",
            "2017-08-20    37.904118\n",
            "2017-09-03    38.458793\n",
            "2017-09-17    38.282706\n",
            "2017-10-01    36.840875\n",
            "2017-10-15    37.071595\n",
            "2017-10-29    37.757321\n",
            "2017-11-12    41.032240\n",
            "2017-11-26    41.204376\n",
            "2017-12-10    40.867067\n",
            "2017-12-24    41.620865\n",
            "2018-01-07    40.795710\n",
            "Freq: 2W-SUN, Name: Close, dtype: float64\n",
            "Date\n",
            "2017-01-31    28.178331\n",
            "2017-03-31    32.524054\n",
            "2017-05-31    35.056855\n",
            "2017-07-31    35.186963\n",
            "2017-09-30    37.761186\n",
            "2017-11-30    39.402613\n",
            "2018-01-31    41.160038\n",
            "Freq: 2M, Name: Close, dtype: float64\n"
          ]
        }
      ]
    },
    {
      "cell_type": "code",
      "metadata": {
        "colab": {
          "base_uri": "https://localhost:8080/"
        },
        "id": "yAQlhD3MiKjj",
        "outputId": "ddec1972-0290-4960-f5a1-e74e767e3a39"
      },
      "source": [
        "dos_dias = tesla.resample(\"2D\").mean()\n",
        "tres_semanas = tesla.resample(\"3W\").mean()\n",
        "cuatro_meses = tesla.resample(\"4M\").mean()\n",
        "print(dos_dias)\n",
        "print(tres_semanas)\n",
        "print(cuatro_meses)"
      ],
      "execution_count": 172,
      "outputs": [
        {
          "output_type": "stream",
          "name": "stdout",
          "text": [
            "Date\n",
            "2021-01-04    732.440002\n",
            "2021-01-06    786.009979\n",
            "2021-01-08    880.020020\n",
            "2021-01-10    811.190002\n",
            "2021-01-12    851.924988\n",
            "                 ...    \n",
            "2021-06-21    622.270020\n",
            "2021-06-23    668.195007\n",
            "2021-06-25    671.869995\n",
            "2021-06-27    688.719971\n",
            "2021-06-29    680.760010\n",
            "Freq: 2D, Name: Close, Length: 89, dtype: float64\n",
            "Date\n",
            "2021-01-10    783.383997\n",
            "2021-01-31    844.988569\n",
            "2021-02-21    827.002851\n",
            "2021-03-14    672.567334\n",
            "2021-04-04    656.627141\n",
            "2021-04-25    714.429997\n",
            "2021-05-16    659.112667\n",
            "2021-06-06    598.075718\n",
            "2021-06-27    622.809338\n",
            "2021-07-18    684.739990\n",
            "Freq: 3W-SUN, Name: Close, dtype: float64\n",
            "Date\n",
            "2021-01-31    828.776839\n",
            "2021-05-31    691.983372\n",
            "2021-09-30    624.406195\n",
            "Freq: 4M, Name: Close, dtype: float64\n"
          ]
        }
      ]
    },
    {
      "cell_type": "markdown",
      "metadata": {
        "id": "iy4RqsnwL-Bw"
      },
      "source": [
        "Besides the mean() method, other methods can also be used with the resampler:\n",
        "\n"
      ]
    },
    {
      "cell_type": "code",
      "metadata": {
        "colab": {
          "base_uri": "https://localhost:8080/"
        },
        "id": "DNT8Fx9dHW96",
        "outputId": "e2f7ce4d-1937-41e7-e51f-0bce7013771a"
      },
      "source": [
        "std = aapl.resample('W').std()\n",
        "max = aapl.resample('W').max()\n",
        "min = aapl.resample('W').min()\n",
        "\n",
        "\n",
        "print(std)\n",
        "print(max)\n",
        "print(min)"
      ],
      "execution_count": 173,
      "outputs": [
        {
          "output_type": "stream",
          "name": "stdout",
          "text": [
            "Date\n",
            "2017-01-08    0.203369\n",
            "2017-01-15    0.072529\n",
            "2017-01-22    0.025553\n",
            "2017-01-29    0.245287\n",
            "2017-02-05    0.943260\n",
            "2017-02-12    0.252001\n",
            "2017-02-19    0.231393\n",
            "2017-02-26    0.059346\n",
            "2017-03-05    0.340093\n",
            "2017-03-12    0.076282\n",
            "2017-03-19    0.177837\n",
            "2017-03-26    0.157258\n",
            "2017-04-02    0.319806\n",
            "2017-04-09    0.128689\n",
            "2017-04-16    0.212475\n",
            "2017-04-23    0.174672\n",
            "2017-04-30    0.090023\n",
            "2017-05-07    0.235639\n",
            "2017-05-14    0.352981\n",
            "2017-05-21    0.536094\n",
            "2017-05-28    0.060390\n",
            "2017-06-04    0.281221\n",
            "2017-06-11    0.620031\n",
            "2017-06-18    0.382567\n",
            "2017-06-25    0.128897\n",
            "2017-07-02    0.264112\n",
            "2017-07-09    0.158889\n",
            "2017-07-16    0.404280\n",
            "2017-07-23    0.124989\n",
            "2017-07-30    0.384444\n",
            "2017-08-06    0.924395\n",
            "2017-08-13    0.467472\n",
            "2017-08-20    0.435249\n",
            "2017-08-27    0.275764\n",
            "2017-09-03    0.251725\n",
            "2017-09-10    0.381643\n",
            "2017-09-17    0.294139\n",
            "2017-09-24    0.735195\n",
            "2017-10-01    0.354843\n",
            "2017-10-08    0.204860\n",
            "2017-10-15    0.118729\n",
            "2017-10-22    0.516994\n",
            "2017-10-29    0.680455\n",
            "2017-11-05    0.560686\n",
            "2017-11-12    0.190971\n",
            "2017-11-19    0.436203\n",
            "2017-11-26    0.563047\n",
            "2017-12-03    0.427447\n",
            "2017-12-10    0.073131\n",
            "2017-12-17    0.205267\n",
            "2017-12-24    0.194125\n",
            "2017-12-31    0.190395\n",
            "Freq: W-SUN, Name: Close, dtype: float64\n",
            "Date\n",
            "2017-01-08    27.787130\n",
            "2017-01-15    28.220753\n",
            "2017-01-22    28.279663\n",
            "2017-01-29    28.739214\n",
            "2017-02-05    30.419495\n",
            "2017-02-12    31.341909\n",
            "2017-02-19    32.122982\n",
            "2017-02-26    32.451969\n",
            "2017-03-05    33.086281\n",
            "2017-03-12    33.022373\n",
            "2017-03-19    33.299301\n",
            "2017-03-26    33.481544\n",
            "2017-04-02    34.111134\n",
            "2017-04-09    34.264980\n",
            "2017-04-16    33.886284\n",
            "2017-04-23    33.713497\n",
            "2017-04-30    34.208172\n",
            "2017-05-07    35.256695\n",
            "2017-05-14    37.099129\n",
            "2017-05-21    37.004066\n",
            "2017-05-28    36.597656\n",
            "2017-06-04    36.944645\n",
            "2017-06-11    36.925636\n",
            "2017-06-18    34.838955\n",
            "2017-06-25    34.779549\n",
            "2017-07-02    34.658337\n",
            "2017-07-09    34.266186\n",
            "2017-07-16    35.421227\n",
            "2017-07-23    35.891804\n",
            "2017-07-30    36.471706\n",
            "2017-08-06    37.346302\n",
            "2017-08-13    38.277939\n",
            "2017-08-20    38.557087\n",
            "2017-08-27    38.170570\n",
            "2017-09-03    39.141651\n",
            "2017-09-10    38.671619\n",
            "2017-09-17    38.533226\n",
            "2017-09-24    37.872330\n",
            "2017-10-01    36.798641\n",
            "2017-10-08    37.075428\n",
            "2017-10-15    37.457157\n",
            "2017-10-22    38.287476\n",
            "2017-10-29    38.903061\n",
            "2017-11-05    41.157795\n",
            "2017-11-12    42.050144\n",
            "2017-11-19    41.657745\n",
            "2017-11-26    41.897194\n",
            "2017-12-03    41.686478\n",
            "2017-12-10    40.659225\n",
            "2017-12-17    41.657745\n",
            "2017-12-24    42.244404\n",
            "2017-12-31    40.965725\n",
            "Freq: W-SUN, Name: Close, dtype: float64\n",
            "Date\n",
            "2017-01-08    27.341721\n",
            "2017-01-15    28.041649\n",
            "2017-01-22    28.227819\n",
            "2017-01-29    28.272598\n",
            "2017-02-05    28.597815\n",
            "2017-02-12    30.704647\n",
            "2017-02-19    31.547829\n",
            "2017-02-26    32.314690\n",
            "2017-03-05    32.409355\n",
            "2017-03-12    32.823566\n",
            "2017-03-19    32.896931\n",
            "2017-03-26    33.098125\n",
            "2017-04-02    33.344276\n",
            "2017-04-09    33.926517\n",
            "2017-04-16    33.384514\n",
            "2017-04-23    33.296932\n",
            "2017-04-30    33.997524\n",
            "2017-05-07    34.681549\n",
            "2017-05-14    36.215267\n",
            "2017-05-21    35.708797\n",
            "2017-05-28    36.443180\n",
            "2017-06-04    36.305332\n",
            "2017-06-11    35.406979\n",
            "2017-06-18    33.812248\n",
            "2017-06-25    34.463444\n",
            "2017-07-02    34.147362\n",
            "2017-07-09    33.921577\n",
            "2017-07-16    34.475334\n",
            "2017-07-23    35.544815\n",
            "2017-07-30    35.530556\n",
            "2017-08-06    35.347546\n",
            "2017-08-13    37.058708\n",
            "2017-08-20    37.578850\n",
            "2017-08-27    37.509663\n",
            "2017-09-03    38.526077\n",
            "2017-09-10    37.848457\n",
            "2017-09-17    37.764950\n",
            "2017-09-24    36.240322\n",
            "2017-10-01    35.920616\n",
            "2017-10-08    36.619694\n",
            "2017-10-15    37.182781\n",
            "2017-10-22    37.216187\n",
            "2017-10-29    37.261520\n",
            "2017-11-05    39.778698\n",
            "2017-11-12    41.575336\n",
            "2017-11-19    40.486805\n",
            "2017-11-26    40.702316\n",
            "2017-12-03    40.582588\n",
            "2017-12-10    40.470055\n",
            "2017-12-17    41.114182\n",
            "2017-12-24    41.748737\n",
            "2017-12-31    40.522728\n",
            "Freq: W-SUN, Name: Close, dtype: float64\n"
          ]
        }
      ]
    },
    {
      "cell_type": "code",
      "metadata": {
        "colab": {
          "base_uri": "https://localhost:8080/"
        },
        "id": "MfL78PBUis2G",
        "outputId": "60a62cd2-dfa8-4cef-c1c2-f87d1fe0cfbe"
      },
      "source": [
        "desviacion = tesla.resample('M').std()\n",
        "max = tesla.resample('M').max()\n",
        "min = tesla.resample('M').min()\n",
        "\n",
        "\n",
        "print(desviacion)\n",
        "print(max)\n",
        "print(min)"
      ],
      "execution_count": 174,
      "outputs": [
        {
          "output_type": "stream",
          "name": "stdout",
          "text": [
            "Date\n",
            "2021-01-31    45.839115\n",
            "2021-02-28    63.319732\n",
            "2021-03-31    38.220538\n",
            "2021-04-30    27.592306\n",
            "2021-05-31    38.652519\n",
            "2021-06-30    31.898388\n",
            "Freq: M, Name: Close, dtype: float64\n",
            "Date\n",
            "2021-01-31    883.090027\n",
            "2021-02-28    872.789978\n",
            "2021-03-31    718.429993\n",
            "2021-04-30    762.320007\n",
            "2021-05-31    684.900024\n",
            "2021-06-30    688.719971\n",
            "Freq: M, Name: Close, dtype: float64\n",
            "Date\n",
            "2021-01-31    729.770020\n",
            "2021-02-28    675.500000\n",
            "2021-03-31    563.000000\n",
            "2021-04-30    661.750000\n",
            "2021-05-31    563.460022\n",
            "2021-06-30    572.840027\n",
            "Freq: M, Name: Close, dtype: float64\n"
          ]
        }
      ]
    },
    {
      "cell_type": "markdown",
      "metadata": {
        "id": "uqln0s5DMI3I"
      },
      "source": [
        "Often we want to calculate monthly returns of a stock, based on prices on the last day of each month. To fetch those prices, we use the series.resample.agg() method:"
      ]
    },
    {
      "cell_type": "code",
      "metadata": {
        "colab": {
          "base_uri": "https://localhost:8080/"
        },
        "id": "A6FSYvqbHW97",
        "outputId": "da778941-8b38-474d-fd42-6335435439e5"
      },
      "source": [
        "last_day = aapl.resample('M').agg(lambda x: x[-1])\n",
        "print(last_day)"
      ],
      "execution_count": 175,
      "outputs": [
        {
          "output_type": "stream",
          "name": "stdout",
          "text": [
            "Date\n",
            "2017-01-31    28.597815\n",
            "2017-02-28    32.423565\n",
            "2017-03-31    34.002262\n",
            "2017-04-30    33.999889\n",
            "2017-05-31    36.305332\n",
            "2017-06-30    34.228157\n",
            "2017-07-31    35.347546\n",
            "2017-08-31    39.129726\n",
            "2017-09-30    36.772400\n",
            "2017-10-31    40.332249\n",
            "2017-11-30    41.150097\n",
            "2017-12-31    40.522728\n",
            "Freq: M, Name: Close, dtype: float64\n"
          ]
        }
      ]
    },
    {
      "cell_type": "code",
      "metadata": {
        "colab": {
          "base_uri": "https://localhost:8080/"
        },
        "id": "PXyDXxrdjMP-",
        "outputId": "10f19805-0ce2-47a3-9d08-d5597572d365"
      },
      "source": [
        "ultimo_dia = tesla.resample('M').agg(lambda x:x[-1])\n",
        "print(ultimo_dia)"
      ],
      "execution_count": 176,
      "outputs": [
        {
          "output_type": "stream",
          "name": "stdout",
          "text": [
            "Date\n",
            "2021-01-31    793.530029\n",
            "2021-02-28    675.500000\n",
            "2021-03-31    667.929993\n",
            "2021-04-30    709.440002\n",
            "2021-05-31    625.219971\n",
            "2021-06-30    680.760010\n",
            "Freq: M, Name: Close, dtype: float64\n"
          ]
        }
      ]
    },
    {
      "cell_type": "markdown",
      "metadata": {
        "id": "uwomY3aXMR46"
      },
      "source": [
        "Or directly calculate the monthly rates of return using the data for the first day and the last day:"
      ]
    },
    {
      "cell_type": "code",
      "metadata": {
        "colab": {
          "base_uri": "https://localhost:8080/"
        },
        "id": "qK2NMJrNHW96",
        "outputId": "66d1b7ed-8c02-4ebb-d519-0177aefd1d38"
      },
      "source": [
        "monthly_return = aapl.resample('M').agg(lambda x: x[-1]/x[0] - 1)\n",
        "print(monthly_return)"
      ],
      "execution_count": 177,
      "outputs": [
        {
          "output_type": "stream",
          "name": "stdout",
          "text": [
            "Date\n",
            "2017-01-31    0.044770\n",
            "2017-02-28    0.068613\n",
            "2017-03-31    0.027685\n",
            "2017-04-30   -0.000348\n",
            "2017-05-31    0.046463\n",
            "2017-06-30   -0.059799\n",
            "2017-07-31    0.036446\n",
            "2017-08-31    0.097261\n",
            "2017-09-30   -0.060530\n",
            "2017-10-31    0.099018\n",
            "2017-11-30    0.033422\n",
            "2017-12-31   -0.010640\n",
            "Freq: M, Name: Close, dtype: float64\n"
          ]
        }
      ]
    },
    {
      "cell_type": "code",
      "metadata": {
        "colab": {
          "base_uri": "https://localhost:8080/"
        },
        "id": "llgJiBUcjt-u",
        "outputId": "bb462c95-5919-42c4-8d70-cab92c5dc182"
      },
      "source": [
        "retorno_mes = tesla.resample('M').agg(lambda x: x[-1]/x[0] -1)\n",
        "print(retorno_mes)"
      ],
      "execution_count": 178,
      "outputs": [
        {
          "output_type": "stream",
          "name": "stdout",
          "text": [
            "Date\n",
            "2021-01-31    0.087370\n",
            "2021-02-28   -0.195651\n",
            "2021-03-31   -0.070292\n",
            "2021-04-30    0.072066\n",
            "2021-05-31   -0.087137\n",
            "2021-06-30    0.091136\n",
            "Freq: M, Name: Close, dtype: float64\n"
          ]
        }
      ]
    },
    {
      "cell_type": "markdown",
      "metadata": {
        "id": "_DYbMTFWMj8J"
      },
      "source": [
        "Series object also provides us some convenient methods to do some quick calculation."
      ]
    },
    {
      "cell_type": "code",
      "metadata": {
        "colab": {
          "base_uri": "https://localhost:8080/"
        },
        "id": "1Mxc0HwvHW98",
        "outputId": "bcc0ae98-382f-4c1c-9859-32ef224b1b34"
      },
      "source": [
        "print(monthly_return.mean())\n",
        "print(monthly_return.std())\n",
        "print(monthly_return.max())"
      ],
      "execution_count": 179,
      "outputs": [
        {
          "output_type": "stream",
          "name": "stdout",
          "text": [
            "0.02686327766492147\n",
            "0.05225858075618079\n",
            "0.09901828159987969\n"
          ]
        }
      ]
    },
    {
      "cell_type": "code",
      "metadata": {
        "colab": {
          "base_uri": "https://localhost:8080/"
        },
        "id": "L1R7a2B-j8Pj",
        "outputId": "d771f6de-22bc-4ffa-8738-651045a9328a"
      },
      "source": [
        "print(retorno_mes.mean())\n",
        "print(retorno_mes.std())\n",
        "print(retorno_mes.max())"
      ],
      "execution_count": 180,
      "outputs": [
        {
          "output_type": "stream",
          "name": "stdout",
          "text": [
            "-0.017084595463756496\n",
            "0.1184862259408244\n",
            "0.0911363730189989\n"
          ]
        }
      ]
    },
    {
      "cell_type": "markdown",
      "metadata": {
        "id": "mn59J5dqMpqX"
      },
      "source": [
        "Another two methods frequently used on Series are .diff() and .pct_change(). The former calculates the difference between consecutive elements, and the latter calculates the percentage change."
      ]
    },
    {
      "cell_type": "code",
      "metadata": {
        "colab": {
          "base_uri": "https://localhost:8080/"
        },
        "id": "DupZTSqqHW99",
        "outputId": "b66b8d50-bfb2-4edc-be59-d6aac8f9e906"
      },
      "source": [
        "print(last_day.diff())\n",
        "print(last_day.pct_change())"
      ],
      "execution_count": 181,
      "outputs": [
        {
          "output_type": "stream",
          "name": "stdout",
          "text": [
            "Date\n",
            "2017-01-31         NaN\n",
            "2017-02-28    3.825750\n",
            "2017-03-31    1.578697\n",
            "2017-04-30   -0.002373\n",
            "2017-05-31    2.305443\n",
            "2017-06-30   -2.077175\n",
            "2017-07-31    1.119389\n",
            "2017-08-31    3.782181\n",
            "2017-09-30   -2.357327\n",
            "2017-10-31    3.559849\n",
            "2017-11-30    0.817848\n",
            "2017-12-31   -0.627369\n",
            "Freq: M, Name: Close, dtype: float64\n",
            "Date\n",
            "2017-01-31         NaN\n",
            "2017-02-28    0.133778\n",
            "2017-03-31    0.048690\n",
            "2017-04-30   -0.000070\n",
            "2017-05-31    0.067807\n",
            "2017-06-30   -0.057214\n",
            "2017-07-31    0.032704\n",
            "2017-08-31    0.107000\n",
            "2017-09-30   -0.060244\n",
            "2017-10-31    0.096808\n",
            "2017-11-30    0.020278\n",
            "2017-12-31   -0.015246\n",
            "Freq: M, Name: Close, dtype: float64\n"
          ]
        }
      ]
    },
    {
      "cell_type": "code",
      "metadata": {
        "colab": {
          "base_uri": "https://localhost:8080/"
        },
        "id": "9efvbzgJkHwV",
        "outputId": "ddc503b2-e1e1-4e78-816d-45c186f857cb"
      },
      "source": [
        "print(ultimo_dia.diff())\n",
        "print(ultimo_dia.pct_change())"
      ],
      "execution_count": 182,
      "outputs": [
        {
          "output_type": "stream",
          "name": "stdout",
          "text": [
            "Date\n",
            "2021-01-31           NaN\n",
            "2021-02-28   -118.030029\n",
            "2021-03-31     -7.570007\n",
            "2021-04-30     41.510010\n",
            "2021-05-31    -84.220032\n",
            "2021-06-30     55.540039\n",
            "Freq: M, Name: Close, dtype: float64\n",
            "Date\n",
            "2021-01-31         NaN\n",
            "2021-02-28   -0.148740\n",
            "2021-03-31   -0.011207\n",
            "2021-04-30    0.062147\n",
            "2021-05-31   -0.118713\n",
            "2021-06-30    0.088833\n",
            "Freq: M, Name: Close, dtype: float64\n"
          ]
        }
      ]
    },
    {
      "cell_type": "markdown",
      "metadata": {
        "id": "RaMAOFepM6Io"
      },
      "source": [
        "Notice that we induced a NaN value while calculating percentage changes i.e. returns.\n",
        "\n",
        "When dealing with NaN values, we usually either removing the data point or fill it with a specific value. Here we fill it with 0:"
      ]
    },
    {
      "cell_type": "code",
      "metadata": {
        "colab": {
          "base_uri": "https://localhost:8080/"
        },
        "id": "-xyLb3A3HW99",
        "outputId": "4cad7f0a-b784-4cd5-ab73-c82c0d9eb5e2"
      },
      "source": [
        "daily_return = last_day.pct_change()\n",
        "print(daily_return.fillna(0))"
      ],
      "execution_count": 183,
      "outputs": [
        {
          "output_type": "stream",
          "name": "stdout",
          "text": [
            "Date\n",
            "2017-01-31    0.000000\n",
            "2017-02-28    0.133778\n",
            "2017-03-31    0.048690\n",
            "2017-04-30   -0.000070\n",
            "2017-05-31    0.067807\n",
            "2017-06-30   -0.057214\n",
            "2017-07-31    0.032704\n",
            "2017-08-31    0.107000\n",
            "2017-09-30   -0.060244\n",
            "2017-10-31    0.096808\n",
            "2017-11-30    0.020278\n",
            "2017-12-31   -0.015246\n",
            "Freq: M, Name: Close, dtype: float64\n"
          ]
        }
      ]
    },
    {
      "cell_type": "code",
      "metadata": {
        "colab": {
          "base_uri": "https://localhost:8080/"
        },
        "id": "MpJiY7SFkYKP",
        "outputId": "58a1d7fb-551d-43b7-e3d8-df1e567dfe60"
      },
      "source": [
        "retorno_dia = ultimo_dia.pct_change()\n",
        "print(retorno_dia.fillna(0))"
      ],
      "execution_count": 184,
      "outputs": [
        {
          "output_type": "stream",
          "name": "stdout",
          "text": [
            "Date\n",
            "2021-01-31    0.000000\n",
            "2021-02-28   -0.148740\n",
            "2021-03-31   -0.011207\n",
            "2021-04-30    0.062147\n",
            "2021-05-31   -0.118713\n",
            "2021-06-30    0.088833\n",
            "Freq: M, Name: Close, dtype: float64\n"
          ]
        }
      ]
    },
    {
      "cell_type": "markdown",
      "metadata": {
        "id": "BYS10Om1NQVC"
      },
      "source": [
        "Alternatively, we can fill a NaN with the next fitted value. This is called 'backward fill', or 'bfill' in short:"
      ]
    },
    {
      "cell_type": "code",
      "metadata": {
        "colab": {
          "base_uri": "https://localhost:8080/"
        },
        "id": "J513kHeKHW9-",
        "outputId": "294c3ae5-2a80-49b6-d856-7ad0d0bfcf3c"
      },
      "source": [
        "daily_return = last_day.pct_change()\n",
        "print(daily_return.fillna(method = 'bfill'))"
      ],
      "execution_count": 185,
      "outputs": [
        {
          "output_type": "stream",
          "name": "stdout",
          "text": [
            "Date\n",
            "2017-01-31    0.133778\n",
            "2017-02-28    0.133778\n",
            "2017-03-31    0.048690\n",
            "2017-04-30   -0.000070\n",
            "2017-05-31    0.067807\n",
            "2017-06-30   -0.057214\n",
            "2017-07-31    0.032704\n",
            "2017-08-31    0.107000\n",
            "2017-09-30   -0.060244\n",
            "2017-10-31    0.096808\n",
            "2017-11-30    0.020278\n",
            "2017-12-31   -0.015246\n",
            "Freq: M, Name: Close, dtype: float64\n"
          ]
        }
      ]
    },
    {
      "cell_type": "code",
      "metadata": {
        "colab": {
          "base_uri": "https://localhost:8080/"
        },
        "id": "D1yiB_RNkuIy",
        "outputId": "f058f4c4-7d8b-484d-cbdd-0814417cd566"
      },
      "source": [
        "retorno_dia = ultimo_dia.pct_change()\n",
        "print(retorno_dia.fillna(method='bfill'))"
      ],
      "execution_count": 186,
      "outputs": [
        {
          "output_type": "stream",
          "name": "stdout",
          "text": [
            "Date\n",
            "2021-01-31   -0.148740\n",
            "2021-02-28   -0.148740\n",
            "2021-03-31   -0.011207\n",
            "2021-04-30    0.062147\n",
            "2021-05-31   -0.118713\n",
            "2021-06-30    0.088833\n",
            "Freq: M, Name: Close, dtype: float64\n"
          ]
        }
      ]
    },
    {
      "cell_type": "markdown",
      "metadata": {
        "id": "bj8QUSgdNepf"
      },
      "source": [
        "As expected, since there is a 'backward fill' method, there must be a 'forward fill' method, or 'ffill' in short. However we can't use it here because the NaN is the first value.\n",
        "\n",
        "We can also simply remove NaN values by **_.dropna()_**"
      ]
    },
    {
      "cell_type": "code",
      "metadata": {
        "colab": {
          "base_uri": "https://localhost:8080/"
        },
        "id": "WG5ux1lqHW9-",
        "outputId": "03677bf4-f6ac-4aba-b2f4-70c0b91ba5a7"
      },
      "source": [
        "daily_return = last_day.pct_change()\n",
        "daily_return.dropna()"
      ],
      "execution_count": 187,
      "outputs": [
        {
          "output_type": "execute_result",
          "data": {
            "text/plain": [
              "Date\n",
              "2017-02-28    0.133778\n",
              "2017-03-31    0.048690\n",
              "2017-04-30   -0.000070\n",
              "2017-05-31    0.067807\n",
              "2017-06-30   -0.057214\n",
              "2017-07-31    0.032704\n",
              "2017-08-31    0.107000\n",
              "2017-09-30   -0.060244\n",
              "2017-10-31    0.096808\n",
              "2017-11-30    0.020278\n",
              "2017-12-31   -0.015246\n",
              "Freq: M, Name: Close, dtype: float64"
            ]
          },
          "metadata": {},
          "execution_count": 187
        }
      ]
    },
    {
      "cell_type": "code",
      "metadata": {
        "colab": {
          "base_uri": "https://localhost:8080/"
        },
        "id": "J-fDxzwNk-B1",
        "outputId": "277bfe0f-abc1-4214-849c-a5eb69aa5caa"
      },
      "source": [
        "retorno_dia.dropna()"
      ],
      "execution_count": 188,
      "outputs": [
        {
          "output_type": "execute_result",
          "data": {
            "text/plain": [
              "Date\n",
              "2021-02-28   -0.148740\n",
              "2021-03-31   -0.011207\n",
              "2021-04-30    0.062147\n",
              "2021-05-31   -0.118713\n",
              "2021-06-30    0.088833\n",
              "Freq: M, Name: Close, dtype: float64"
            ]
          },
          "metadata": {},
          "execution_count": 188
        }
      ]
    },
    {
      "cell_type": "markdown",
      "metadata": {
        "id": "nQH2eBWkNjdC"
      },
      "source": [
        "# DataFrame\n",
        "The **DataFrame** is the most commonly used data structure in Pandas. It is essentially a table, just like an Excel spreadsheet.\n",
        "\n",
        "More precisely, a DataFrame is a collection of Series objects, each of which may contain different data types. A DataFrame can be created from various data types: dictionary, 2-D numpy.ndarray, a Series or another DataFrame.\n",
        "\n",
        "## Create DataFrames\n",
        "The most common method of creating a DataFrame is passing a dictionary:"
      ]
    },
    {
      "cell_type": "code",
      "metadata": {
        "colab": {
          "base_uri": "https://localhost:8080/"
        },
        "id": "vd5Wf1ohHW9-",
        "outputId": "2a1b7f95-4ec9-41f9-f2d4-e3b147933030"
      },
      "source": [
        "import pandas as pd\n",
        "\n",
        "dict = {'AAPL': [143.5, 144.09, 142.73, 144.18, 143.77],'GOOG':[898.7, 911.71, 906.69, 918.59, 926.99],\n",
        "        'IBM':[155.58, 153.67, 152.36, 152.94, 153.49]}\n",
        "data_index = pd.date_range('2017-07-03',periods = 5, freq = 'D')\n",
        "df = pd.DataFrame(dict, index = data_index)\n",
        "print(df)"
      ],
      "execution_count": 189,
      "outputs": [
        {
          "output_type": "stream",
          "name": "stdout",
          "text": [
            "              AAPL    GOOG     IBM\n",
            "2017-07-03  143.50  898.70  155.58\n",
            "2017-07-04  144.09  911.71  153.67\n",
            "2017-07-05  142.73  906.69  152.36\n",
            "2017-07-06  144.18  918.59  152.94\n",
            "2017-07-07  143.77  926.99  153.49\n"
          ]
        }
      ]
    },
    {
      "cell_type": "code",
      "metadata": {
        "colab": {
          "base_uri": "https://localhost:8080/"
        },
        "id": "brKO7NV3lspP",
        "outputId": "51ffb991-47e1-40e6-da95-5f7d0365bb2a"
      },
      "source": [
        "dic = {'TSLA': [874.5, 752.9, 852.26, 801.46, 756.99],'SONY':[112.56, 105.15, 117.85, 109.69, 112.75],\n",
        "        'WMG':[45.58, 44.67, 46.36, 43.94, 45.49]}\n",
        "tabla_index = pd.date_range('2021-10-18',periods = 5, freq = 'D')\n",
        "tabla = pd.DataFrame(dic, index = tabla_index)\n",
        "print(tabla)"
      ],
      "execution_count": 190,
      "outputs": [
        {
          "output_type": "stream",
          "name": "stdout",
          "text": [
            "              TSLA    SONY    WMG\n",
            "2021-10-18  874.50  112.56  45.58\n",
            "2021-10-19  752.90  105.15  44.67\n",
            "2021-10-20  852.26  117.85  46.36\n",
            "2021-10-21  801.46  109.69  43.94\n",
            "2021-10-22  756.99  112.75  45.49\n"
          ]
        }
      ]
    },
    {
      "cell_type": "markdown",
      "metadata": {
        "id": "0uYmLQTgOPnX"
      },
      "source": [
        "## Manipulating DataFrames\n",
        "We can fetch values in a DataFrame by columns and index. Each column in a DataFrame is essentially a Pandas Series. We can fetch a column by square brackets: **df['column_name']**\n",
        "\n",
        "If a column name contains no spaces, then we can also use df.column_name to fetch a column:"
      ]
    },
    {
      "cell_type": "code",
      "metadata": {
        "colab": {
          "base_uri": "https://localhost:8080/"
        },
        "id": "2pB2f7lBHW9_",
        "outputId": "3352b112-fd48-4db1-cc04-60d99ad21adb"
      },
      "source": [
        "df = aapl_table\n",
        "print(df.Close.tail(5))\n",
        "print(df['Volume'].tail(5))"
      ],
      "execution_count": 191,
      "outputs": [
        {
          "output_type": "stream",
          "name": "stdout",
          "text": [
            "Date\n",
            "2017-12-22    41.906769\n",
            "2017-12-26    40.843605\n",
            "2017-12-27    40.850780\n",
            "2017-12-28    40.965725\n",
            "2017-12-29    40.522728\n",
            "Name: Close, dtype: float64\n",
            "Date\n",
            "2017-12-22     65397600\n",
            "2017-12-26    132742000\n",
            "2017-12-27     85992800\n",
            "2017-12-28     65920800\n",
            "2017-12-29    103999600\n",
            "Name: Volume, dtype: int64\n"
          ]
        }
      ]
    },
    {
      "cell_type": "code",
      "metadata": {
        "colab": {
          "base_uri": "https://localhost:8080/"
        },
        "id": "hDRyFTeI1YyL",
        "outputId": "1bcbfd53-bf30-480e-f5a2-26a9e8ea108c"
      },
      "source": [
        "tabla = tesla_tabla\n",
        "print(tabla.Close.tail(10))\n",
        "print(tabla['Volume'].tail(5))"
      ],
      "execution_count": 192,
      "outputs": [
        {
          "output_type": "stream",
          "name": "stdout",
          "text": [
            "Date\n",
            "2021-06-16    604.869995\n",
            "2021-06-17    616.599976\n",
            "2021-06-18    623.309998\n",
            "2021-06-21    620.830017\n",
            "2021-06-22    623.710022\n",
            "2021-06-23    656.570007\n",
            "2021-06-24    679.820007\n",
            "2021-06-25    671.869995\n",
            "2021-06-28    688.719971\n",
            "2021-06-29    680.760010\n",
            "Name: Close, dtype: float64\n",
            "Date\n",
            "2021-06-23    31099200\n",
            "2021-06-24    45982400\n",
            "2021-06-25    32496700\n",
            "2021-06-28    21628200\n",
            "2021-06-29    17381300\n",
            "Name: Volume, dtype: int64\n"
          ]
        }
      ]
    },
    {
      "cell_type": "code",
      "metadata": {
        "id": "bNLfMZyC1JjR"
      },
      "source": [
        ""
      ],
      "execution_count": 192,
      "outputs": []
    },
    {
      "cell_type": "markdown",
      "metadata": {
        "id": "z0ugOel9O4-P"
      },
      "source": [
        "All the methods we applied to a Series index such as iloc[], loc[] and resampling methods, can also be applied to a DataFrame:"
      ]
    },
    {
      "cell_type": "code",
      "metadata": {
        "colab": {
          "base_uri": "https://localhost:8080/"
        },
        "id": "_8dfjkedHW9_",
        "outputId": "7cb06be7-6027-485e-cac6-6cae0383668f"
      },
      "source": [
        "aapl_2016 = df['2016']\n",
        "aapl_month = aapl_2016.resample('M').agg(lambda x: x[-1])\n",
        "print(aapl_month)"
      ],
      "execution_count": 193,
      "outputs": [
        {
          "output_type": "stream",
          "name": "stdout",
          "text": [
            "                 Open       High        Low  ...     Volume  Dividends  Stock Splits\n",
            "Date                                         ...                                    \n",
            "2016-01-31  21.852382  22.440245  21.750946  ...  257666000        0.0             0\n",
            "2016-02-29  22.450753  22.768300  22.402079  ...  140865200        0.0             0\n",
            "2016-03-31  25.431522  25.473243  25.236821  ...  103553600        0.0             0\n",
            "2016-04-30  21.785527  21.954732  21.442486  ...  274126000        0.0             0\n",
            "2016-05-31  23.226407  23.412965  23.044514  ...  169228800        0.0             0\n",
            "2016-06-30  22.023110  22.333260  21.990462  ...  143345600        0.0             0\n",
            "2016-07-31  24.296782  24.380733  24.177851  ...  110934800        0.0             0\n",
            "2016-08-31  24.773056  24.986413  24.768365  ...  118649600        0.0             0\n",
            "2016-09-30  26.367384  26.580743  26.212641  ...  145516400        0.0             0\n",
            "2016-10-31  26.646394  26.782382  26.540886  ...  105677600        0.0             0\n",
            "2016-11-30  26.300088  26.441486  25.986654  ...  144649200        0.0             0\n",
            "2016-12-31  27.490191  27.619805  27.202681  ...  122345200        0.0             0\n",
            "\n",
            "[12 rows x 7 columns]\n"
          ]
        }
      ]
    },
    {
      "cell_type": "code",
      "metadata": {
        "colab": {
          "base_uri": "https://localhost:8080/"
        },
        "id": "asZTQ4pR1rhC",
        "outputId": "85de00d7-8ea0-4616-a57d-c54413aa5a30"
      },
      "source": [
        "tesla_2021 = tabla['2021']\n",
        "tesla_mes = tesla_2021.resample('M').agg(lambda x: x[-1])\n",
        "print(tesla_mes)"
      ],
      "execution_count": 194,
      "outputs": [
        {
          "output_type": "stream",
          "name": "stdout",
          "text": [
            "                  Open        High  ...  Dividends  Stock Splits\n",
            "Date                                ...                         \n",
            "2021-01-31  830.000000  842.409973  ...          0           0.0\n",
            "2021-02-28  700.000000  706.700012  ...          0           0.0\n",
            "2021-03-31  646.619995  672.000000  ...          0           0.0\n",
            "2021-04-30  667.590027  715.469971  ...          0           0.0\n",
            "2021-05-31  628.500000  635.590027  ...          0           0.0\n",
            "2021-06-30  684.650024  687.510010  ...          0           0.0\n",
            "\n",
            "[6 rows x 7 columns]\n"
          ]
        }
      ]
    },
    {
      "cell_type": "markdown",
      "metadata": {
        "id": "CqrbrbFZPTJe"
      },
      "source": [
        "We may select certain columns of a DataFrame using their names:"
      ]
    },
    {
      "cell_type": "code",
      "metadata": {
        "colab": {
          "base_uri": "https://localhost:8080/"
        },
        "id": "7bQGeyCAHW9_",
        "outputId": "a856f6d4-b491-44bb-b5ea-32b12233879e"
      },
      "source": [
        "aapl_bar = aapl_month[['Open', 'High', 'Low', 'Close']]\n",
        "print(aapl_bar)"
      ],
      "execution_count": 195,
      "outputs": [
        {
          "output_type": "stream",
          "name": "stdout",
          "text": [
            "                 Open       High        Low      Close\n",
            "Date                                                  \n",
            "2016-01-31  21.852382  22.440245  21.750946  22.440245\n",
            "2016-02-29  22.450753  22.768300  22.402079  22.411350\n",
            "2016-03-31  25.431522  25.473243  25.236821  25.262318\n",
            "2016-04-30  21.785527  21.954732  21.442486  21.727581\n",
            "2016-05-31  23.226407  23.412965  23.044514  23.287039\n",
            "2016-06-30  22.023110  22.333260  21.990462  22.293617\n",
            "2016-07-31  24.296782  24.380733  24.177851  24.301445\n",
            "2016-08-31  24.773056  24.986413  24.768365  24.876217\n",
            "2016-09-30  26.367384  26.580743  26.212641  26.505716\n",
            "2016-10-31  26.646394  26.782382  26.540886  26.620604\n",
            "2016-11-30  26.300088  26.441486  25.986654  26.045570\n",
            "2016-12-31  27.490191  27.619805  27.202681  27.294590\n"
          ]
        }
      ]
    },
    {
      "cell_type": "code",
      "metadata": {
        "colab": {
          "base_uri": "https://localhost:8080/"
        },
        "id": "qD_mopAH16v8",
        "outputId": "4e55f374-fcaa-4b65-fcbe-4d84c4232282"
      },
      "source": [
        "tesla_bar = tesla_mes[['Open', 'Close', 'High', 'Low' ]]\n",
        "print(tesla_bar)"
      ],
      "execution_count": 196,
      "outputs": [
        {
          "output_type": "stream",
          "name": "stdout",
          "text": [
            "                  Open       Close        High         Low\n",
            "Date                                                      \n",
            "2021-01-31  830.000000  793.530029  842.409973  780.099976\n",
            "2021-02-28  700.000000  675.500000  706.700012  659.510010\n",
            "2021-03-31  646.619995  667.929993  672.000000  641.109985\n",
            "2021-04-30  667.590027  709.440002  715.469971  666.140015\n",
            "2021-05-31  628.500000  625.219971  635.590027  622.380005\n",
            "2021-06-30  684.650024  680.760010  687.510010  675.890015\n"
          ]
        }
      ]
    },
    {
      "cell_type": "markdown",
      "metadata": {
        "id": "8CQaZCAQP68O"
      },
      "source": [
        "We can even specify both rows and columns using loc[]. The row indices and column names are separated by a comma:"
      ]
    },
    {
      "cell_type": "code",
      "metadata": {
        "colab": {
          "base_uri": "https://localhost:8080/"
        },
        "id": "YjWWiHVpHW-A",
        "outputId": "7c710c20-9ee5-4658-95f7-cc0e36d71bd8"
      },
      "source": [
        "print(aapl_month.loc['2016-03':'2016-06',['Open', 'High', 'Low', 'Close']])"
      ],
      "execution_count": 197,
      "outputs": [
        {
          "output_type": "stream",
          "name": "stdout",
          "text": [
            "                 Open       High        Low      Close\n",
            "Date                                                  \n",
            "2016-03-31  25.431522  25.473243  25.236821  25.262318\n",
            "2016-04-30  21.785527  21.954732  21.442486  21.727581\n",
            "2016-05-31  23.226407  23.412965  23.044514  23.287039\n",
            "2016-06-30  22.023110  22.333260  21.990462  22.293617\n"
          ]
        }
      ]
    },
    {
      "cell_type": "code",
      "metadata": {
        "colab": {
          "base_uri": "https://localhost:8080/"
        },
        "id": "vFOjCAAT2MgL",
        "outputId": "d55c7772-1d3d-4673-b0ff-c04524ac69df"
      },
      "source": [
        "print(tesla_mes.loc['2021-04':'2021-06',['Open', 'High', 'Low', 'Close']])"
      ],
      "execution_count": 198,
      "outputs": [
        {
          "output_type": "stream",
          "name": "stdout",
          "text": [
            "                  Open        High         Low       Close\n",
            "Date                                                      \n",
            "2021-04-30  667.590027  715.469971  666.140015  709.440002\n",
            "2021-05-31  628.500000  635.590027  622.380005  625.219971\n",
            "2021-06-30  684.650024  687.510010  675.890015  680.760010\n"
          ]
        }
      ]
    },
    {
      "cell_type": "markdown",
      "metadata": {
        "id": "Xcn_pHNLQBEH"
      },
      "source": [
        "The subset methods in DataFrame is quite useful. By writing logical statements in square brackets, we can make customized subsets:"
      ]
    },
    {
      "cell_type": "code",
      "metadata": {
        "colab": {
          "base_uri": "https://localhost:8080/"
        },
        "id": "RxKg4dObHW-A",
        "outputId": "2df5cb45-77fc-445c-be1b-aaa77efc8ab8"
      },
      "source": [
        "import numpy as np\n",
        "\n",
        "above = aapl_bar[aapl_bar.Close > np.mean(aapl_bar.Close)]\n",
        "print(above)"
      ],
      "execution_count": 199,
      "outputs": [
        {
          "output_type": "stream",
          "name": "stdout",
          "text": [
            "                 Open       High        Low      Close\n",
            "Date                                                  \n",
            "2016-03-31  25.431522  25.473243  25.236821  25.262318\n",
            "2016-08-31  24.773056  24.986413  24.768365  24.876217\n",
            "2016-09-30  26.367384  26.580743  26.212641  26.505716\n",
            "2016-10-31  26.646394  26.782382  26.540886  26.620604\n",
            "2016-11-30  26.300088  26.441486  25.986654  26.045570\n",
            "2016-12-31  27.490191  27.619805  27.202681  27.294590\n"
          ]
        }
      ]
    },
    {
      "cell_type": "code",
      "metadata": {
        "colab": {
          "base_uri": "https://localhost:8080/"
        },
        "id": "9R_HO2Jd2jsa",
        "outputId": "9540ab4b-ca26-41e3-84c9-2debeac32b7d"
      },
      "source": [
        "encima = tesla_bar[tesla_bar.Close > np.mean(tesla_bar.Close)]\n",
        "print(encima)"
      ],
      "execution_count": 200,
      "outputs": [
        {
          "output_type": "stream",
          "name": "stdout",
          "text": [
            "                  Open       Close        High         Low\n",
            "Date                                                      \n",
            "2021-01-31  830.000000  793.530029  842.409973  780.099976\n",
            "2021-04-30  667.590027  709.440002  715.469971  666.140015\n"
          ]
        }
      ]
    },
    {
      "cell_type": "markdown",
      "metadata": {
        "id": "wcm_UadkQLL5"
      },
      "source": [
        "## Data Validation\n",
        "As mentioned, all methods that apply to a Series can also be applied to a DataFrame. Here we add a new column to an existing DataFrame:"
      ]
    },
    {
      "cell_type": "code",
      "metadata": {
        "colab": {
          "base_uri": "https://localhost:8080/"
        },
        "id": "jZXFdOVFHW-A",
        "outputId": "687110cd-0a60-43ca-8e1e-ec639f079e2e"
      },
      "source": [
        "aapl_bar['rate_return'] = aapl_bar.Close.pct_change()\n",
        "print(aapl_bar)"
      ],
      "execution_count": 201,
      "outputs": [
        {
          "output_type": "stream",
          "name": "stdout",
          "text": [
            "                 Open       High        Low      Close  rate_return\n",
            "Date                                                               \n",
            "2016-01-31  21.852382  22.440245  21.750946  22.440245          NaN\n",
            "2016-02-29  22.450753  22.768300  22.402079  22.411350    -0.001288\n",
            "2016-03-31  25.431522  25.473243  25.236821  25.262318     0.127211\n",
            "2016-04-30  21.785527  21.954732  21.442486  21.727581    -0.139921\n",
            "2016-05-31  23.226407  23.412965  23.044514  23.287039     0.071773\n",
            "2016-06-30  22.023110  22.333260  21.990462  22.293617    -0.042660\n",
            "2016-07-31  24.296782  24.380733  24.177851  24.301445     0.090063\n",
            "2016-08-31  24.773056  24.986413  24.768365  24.876217     0.023652\n",
            "2016-09-30  26.367384  26.580743  26.212641  26.505716     0.065504\n",
            "2016-10-31  26.646394  26.782382  26.540886  26.620604     0.004334\n",
            "2016-11-30  26.300088  26.441486  25.986654  26.045570    -0.021601\n",
            "2016-12-31  27.490191  27.619805  27.202681  27.294590     0.047955\n"
          ]
        },
        {
          "output_type": "stream",
          "name": "stderr",
          "text": [
            "/usr/local/lib/python3.7/dist-packages/ipykernel_launcher.py:1: SettingWithCopyWarning: \n",
            "A value is trying to be set on a copy of a slice from a DataFrame.\n",
            "Try using .loc[row_indexer,col_indexer] = value instead\n",
            "\n",
            "See the caveats in the documentation: https://pandas.pydata.org/pandas-docs/stable/user_guide/indexing.html#returning-a-view-versus-a-copy\n",
            "  \"\"\"Entry point for launching an IPython kernel.\n"
          ]
        }
      ]
    },
    {
      "cell_type": "code",
      "metadata": {
        "colab": {
          "base_uri": "https://localhost:8080/"
        },
        "id": "zu7gLYHF3Ip_",
        "outputId": "63c788b6-0281-46f4-f077-3bb46152fa6c"
      },
      "source": [
        "tesla_bar['Tasa_retorno'] = tesla_bar.Close.pct_change()\n",
        "print(tesla_bar)"
      ],
      "execution_count": 202,
      "outputs": [
        {
          "output_type": "stream",
          "name": "stdout",
          "text": [
            "                  Open       Close        High         Low  Tasa_retorno\n",
            "Date                                                                    \n",
            "2021-01-31  830.000000  793.530029  842.409973  780.099976           NaN\n",
            "2021-02-28  700.000000  675.500000  706.700012  659.510010     -0.148740\n",
            "2021-03-31  646.619995  667.929993  672.000000  641.109985     -0.011207\n",
            "2021-04-30  667.590027  709.440002  715.469971  666.140015      0.062147\n",
            "2021-05-31  628.500000  625.219971  635.590027  622.380005     -0.118713\n",
            "2021-06-30  684.650024  680.760010  687.510010  675.890015      0.088833\n"
          ]
        },
        {
          "output_type": "stream",
          "name": "stderr",
          "text": [
            "/usr/local/lib/python3.7/dist-packages/ipykernel_launcher.py:1: SettingWithCopyWarning: \n",
            "A value is trying to be set on a copy of a slice from a DataFrame.\n",
            "Try using .loc[row_indexer,col_indexer] = value instead\n",
            "\n",
            "See the caveats in the documentation: https://pandas.pydata.org/pandas-docs/stable/user_guide/indexing.html#returning-a-view-versus-a-copy\n",
            "  \"\"\"Entry point for launching an IPython kernel.\n"
          ]
        }
      ]
    },
    {
      "cell_type": "markdown",
      "metadata": {
        "id": "_or6n5-LQUa-"
      },
      "source": [
        "Here the calculation introduced a NaN value. If the DataFrame is large, we would not be able to observe it. **isnull()** provides a convenient way to check abnormal values."
      ]
    },
    {
      "cell_type": "code",
      "metadata": {
        "colab": {
          "base_uri": "https://localhost:8080/"
        },
        "id": "V5wgmhIPHW-B",
        "outputId": "d23666fb-486e-4e18-a38e-d8dd60c12507"
      },
      "source": [
        "missing = aapl_bar.isnull()\n",
        "print(missing)\n",
        "print('---------------------------------------------')\n",
        "print(missing.describe())"
      ],
      "execution_count": 203,
      "outputs": [
        {
          "output_type": "stream",
          "name": "stdout",
          "text": [
            "             Open   High    Low  Close  rate_return\n",
            "Date                                               \n",
            "2016-01-31  False  False  False  False         True\n",
            "2016-02-29  False  False  False  False        False\n",
            "2016-03-31  False  False  False  False        False\n",
            "2016-04-30  False  False  False  False        False\n",
            "2016-05-31  False  False  False  False        False\n",
            "2016-06-30  False  False  False  False        False\n",
            "2016-07-31  False  False  False  False        False\n",
            "2016-08-31  False  False  False  False        False\n",
            "2016-09-30  False  False  False  False        False\n",
            "2016-10-31  False  False  False  False        False\n",
            "2016-11-30  False  False  False  False        False\n",
            "2016-12-31  False  False  False  False        False\n",
            "---------------------------------------------\n",
            "         Open   High    Low  Close rate_return\n",
            "count      12     12     12     12          12\n",
            "unique      1      1      1      1           2\n",
            "top     False  False  False  False       False\n",
            "freq       12     12     12     12          11\n"
          ]
        }
      ]
    },
    {
      "cell_type": "code",
      "metadata": {
        "colab": {
          "base_uri": "https://localhost:8080/"
        },
        "id": "lGfKYmb33VNJ",
        "outputId": "44cbf033-ece7-48cd-fcf2-f584663a9f97"
      },
      "source": [
        "faltantes = tesla_bar.isnull()\n",
        "print(faltantes)\n",
        "print('-------------------------')\n",
        "print(faltantes.describe())\n"
      ],
      "execution_count": 204,
      "outputs": [
        {
          "output_type": "stream",
          "name": "stdout",
          "text": [
            "             Open  Close   High    Low  Tasa_retorno\n",
            "Date                                                \n",
            "2021-01-31  False  False  False  False          True\n",
            "2021-02-28  False  False  False  False         False\n",
            "2021-03-31  False  False  False  False         False\n",
            "2021-04-30  False  False  False  False         False\n",
            "2021-05-31  False  False  False  False         False\n",
            "2021-06-30  False  False  False  False         False\n",
            "-------------------------\n",
            "         Open  Close   High    Low Tasa_retorno\n",
            "count       6      6      6      6            6\n",
            "unique      1      1      1      1            2\n",
            "top     False  False  False  False        False\n",
            "freq        6      6      6      6            5\n"
          ]
        }
      ]
    },
    {
      "cell_type": "markdown",
      "metadata": {
        "id": "d6KFV4i0QfLW"
      },
      "source": [
        "The row labelled \"unique\" indicates the number of unique values in each column. Since the \"rate_return\" column has 2 unique values, it has at least one missing value.\n",
        "\n",
        "We can deduce the number of missing values by comparing \"count\" with \"freq\". There are 12 counts and 11 False values, so there is one True value which corresponds to the missing value.\n",
        "\n",
        "We can also find the rows with missing values easily:"
      ]
    },
    {
      "cell_type": "code",
      "metadata": {
        "colab": {
          "base_uri": "https://localhost:8080/"
        },
        "id": "Eo0ZAhCsHW-B",
        "outputId": "30c05523-dd34-4835-d6e0-ed758ca35691"
      },
      "source": [
        "print(missing[missing.rate_return == True])"
      ],
      "execution_count": 205,
      "outputs": [
        {
          "output_type": "stream",
          "name": "stdout",
          "text": [
            "             Open   High    Low  Close  rate_return\n",
            "Date                                               \n",
            "2016-01-31  False  False  False  False         True\n"
          ]
        }
      ]
    },
    {
      "cell_type": "code",
      "metadata": {
        "colab": {
          "base_uri": "https://localhost:8080/"
        },
        "id": "1HL-FaIF4X8F",
        "outputId": "d099af64-7fc7-46d3-b1b4-40d8d8844abf"
      },
      "source": [
        "print(faltantes[faltantes.Tasa_retorno == True])"
      ],
      "execution_count": 206,
      "outputs": [
        {
          "output_type": "stream",
          "name": "stdout",
          "text": [
            "             Open  Close   High    Low  Tasa_retorno\n",
            "Date                                                \n",
            "2021-01-31  False  False  False  False          True\n"
          ]
        }
      ]
    },
    {
      "cell_type": "markdown",
      "metadata": {
        "id": "qgggpD8OQkZX"
      },
      "source": [
        "Usually when dealing with missing data, we either delete the whole row or fill it with some value. As we introduced in the Series chapter, the same method **dropna()** and **fillna()** can be applied to a DataFrame."
      ]
    },
    {
      "cell_type": "code",
      "metadata": {
        "colab": {
          "base_uri": "https://localhost:8080/"
        },
        "id": "j8PaIokjHW-B",
        "outputId": "7e6e2742-21a9-4b01-c4d5-edee06d75e8e"
      },
      "source": [
        "drop = aapl_bar.dropna()\n",
        "print(drop)\n",
        "print('\\n--------------------------------------------------\\n')\n",
        "fill = aapl_bar.fillna(0)\n",
        "print(fill)"
      ],
      "execution_count": 207,
      "outputs": [
        {
          "output_type": "stream",
          "name": "stdout",
          "text": [
            "                 Open       High        Low      Close  rate_return\n",
            "Date                                                               \n",
            "2016-02-29  22.450753  22.768300  22.402079  22.411350    -0.001288\n",
            "2016-03-31  25.431522  25.473243  25.236821  25.262318     0.127211\n",
            "2016-04-30  21.785527  21.954732  21.442486  21.727581    -0.139921\n",
            "2016-05-31  23.226407  23.412965  23.044514  23.287039     0.071773\n",
            "2016-06-30  22.023110  22.333260  21.990462  22.293617    -0.042660\n",
            "2016-07-31  24.296782  24.380733  24.177851  24.301445     0.090063\n",
            "2016-08-31  24.773056  24.986413  24.768365  24.876217     0.023652\n",
            "2016-09-30  26.367384  26.580743  26.212641  26.505716     0.065504\n",
            "2016-10-31  26.646394  26.782382  26.540886  26.620604     0.004334\n",
            "2016-11-30  26.300088  26.441486  25.986654  26.045570    -0.021601\n",
            "2016-12-31  27.490191  27.619805  27.202681  27.294590     0.047955\n",
            "\n",
            "--------------------------------------------------\n",
            "\n",
            "                 Open       High        Low      Close  rate_return\n",
            "Date                                                               \n",
            "2016-01-31  21.852382  22.440245  21.750946  22.440245     0.000000\n",
            "2016-02-29  22.450753  22.768300  22.402079  22.411350    -0.001288\n",
            "2016-03-31  25.431522  25.473243  25.236821  25.262318     0.127211\n",
            "2016-04-30  21.785527  21.954732  21.442486  21.727581    -0.139921\n",
            "2016-05-31  23.226407  23.412965  23.044514  23.287039     0.071773\n",
            "2016-06-30  22.023110  22.333260  21.990462  22.293617    -0.042660\n",
            "2016-07-31  24.296782  24.380733  24.177851  24.301445     0.090063\n",
            "2016-08-31  24.773056  24.986413  24.768365  24.876217     0.023652\n",
            "2016-09-30  26.367384  26.580743  26.212641  26.505716     0.065504\n",
            "2016-10-31  26.646394  26.782382  26.540886  26.620604     0.004334\n",
            "2016-11-30  26.300088  26.441486  25.986654  26.045570    -0.021601\n",
            "2016-12-31  27.490191  27.619805  27.202681  27.294590     0.047955\n"
          ]
        }
      ]
    },
    {
      "cell_type": "code",
      "metadata": {
        "colab": {
          "base_uri": "https://localhost:8080/"
        },
        "id": "5yavgGCM6lnL",
        "outputId": "a9e59e03-2209-49ab-d449-f9777d39311c"
      },
      "source": [
        "drop1 = tesla_bar.dropna()\n",
        "print(drop1)\n",
        "print('\\n--------------------------------------------------\\n')\n",
        "fill1 = tesla_bar.fillna(0)\n",
        "print(fill1)"
      ],
      "execution_count": 208,
      "outputs": [
        {
          "output_type": "stream",
          "name": "stdout",
          "text": [
            "                  Open       Close        High         Low  Tasa_retorno\n",
            "Date                                                                    \n",
            "2021-02-28  700.000000  675.500000  706.700012  659.510010     -0.148740\n",
            "2021-03-31  646.619995  667.929993  672.000000  641.109985     -0.011207\n",
            "2021-04-30  667.590027  709.440002  715.469971  666.140015      0.062147\n",
            "2021-05-31  628.500000  625.219971  635.590027  622.380005     -0.118713\n",
            "2021-06-30  684.650024  680.760010  687.510010  675.890015      0.088833\n",
            "\n",
            "--------------------------------------------------\n",
            "\n",
            "                  Open       Close        High         Low  Tasa_retorno\n",
            "Date                                                                    \n",
            "2021-01-31  830.000000  793.530029  842.409973  780.099976      0.000000\n",
            "2021-02-28  700.000000  675.500000  706.700012  659.510010     -0.148740\n",
            "2021-03-31  646.619995  667.929993  672.000000  641.109985     -0.011207\n",
            "2021-04-30  667.590027  709.440002  715.469971  666.140015      0.062147\n",
            "2021-05-31  628.500000  625.219971  635.590027  622.380005     -0.118713\n",
            "2021-06-30  684.650024  680.760010  687.510010  675.890015      0.088833\n"
          ]
        }
      ]
    },
    {
      "cell_type": "markdown",
      "metadata": {
        "id": "0tvoFlKWQxYG"
      },
      "source": [
        "## DataFrame Concat\n",
        "We have seen how to extract a Series from a dataFrame. Now we need to consider how to merge a Series or a DataFrame into another one.\n",
        "\n",
        "In Pandas, the function **concat()** allows us to merge multiple Series into a DataFrame:"
      ]
    },
    {
      "cell_type": "code",
      "metadata": {
        "colab": {
          "base_uri": "https://localhost:8080/"
        },
        "id": "uQrmLIWKHW-C",
        "outputId": "4709b629-8182-41dd-ec01-fb0a61b0a746"
      },
      "source": [
        "s1 = pd.Series([143.5, 144.09, 142.73, 144.18, 143.77], name = 'AAPL')\n",
        "s2 = pd.Series([898.7, 911.71, 906.69, 918.59, 926.99], name = 'GOOG')\n",
        "data_frame = pd.concat([s1,s2], axis = 1)\n",
        "print(data_frame)"
      ],
      "execution_count": 209,
      "outputs": [
        {
          "output_type": "stream",
          "name": "stdout",
          "text": [
            "     AAPL    GOOG\n",
            "0  143.50  898.70\n",
            "1  144.09  911.71\n",
            "2  142.73  906.69\n",
            "3  144.18  918.59\n",
            "4  143.77  926.99\n"
          ]
        }
      ]
    },
    {
      "cell_type": "code",
      "metadata": {
        "colab": {
          "base_uri": "https://localhost:8080/"
        },
        "id": "ypfAqdqn60K9",
        "outputId": "d9e848ce-d1bb-41cb-f6bb-ba06b6c6ef31"
      },
      "source": [
        "x1 = pd.Series([874.5, 752.9, 852.26, 801.46, 756.99], name='TSLA')\n",
        "x2 = pd.Series([112.56, 105.15, 117.85, 109.69, 112.75], name='SONY')\n",
        "frame= pd.concat([x1,x2], axis=1)\n",
        "print(frame)"
      ],
      "execution_count": 210,
      "outputs": [
        {
          "output_type": "stream",
          "name": "stdout",
          "text": [
            "     TSLA    SONY\n",
            "0  874.50  112.56\n",
            "1  752.90  105.15\n",
            "2  852.26  117.85\n",
            "3  801.46  109.69\n",
            "4  756.99  112.75\n"
          ]
        }
      ]
    },
    {
      "cell_type": "markdown",
      "metadata": {
        "id": "3ojbNYJLR2vv"
      },
      "source": [
        "The \"axis = 1\" parameter will join two DataFrames by columns:"
      ]
    },
    {
      "cell_type": "code",
      "metadata": {
        "colab": {
          "base_uri": "https://localhost:8080/"
        },
        "id": "DJsaLd-cRoIm",
        "outputId": "f08a356c-601f-4ef7-c6a2-d866eb0101ee"
      },
      "source": [
        "log_price = np.log(aapl_bar.Close)\n",
        "log_price.name = 'log_price'\n",
        "print(log_price)\n",
        "print('\\n---------------------- separate line--------------------\\n')\n",
        "concat = pd.concat([aapl_bar, log_price], axis = 1)\n",
        "print(concat)"
      ],
      "execution_count": 211,
      "outputs": [
        {
          "output_type": "stream",
          "name": "stdout",
          "text": [
            "Date\n",
            "2016-01-31    3.110856\n",
            "2016-02-29    3.109568\n",
            "2016-03-31    3.229314\n",
            "2016-04-30    3.078582\n",
            "2016-05-31    3.147897\n",
            "2016-06-30    3.104300\n",
            "2016-07-31    3.190536\n",
            "2016-08-31    3.213912\n",
            "2016-09-30    3.277360\n",
            "2016-10-31    3.281685\n",
            "2016-11-30    3.259848\n",
            "2016-12-31    3.306689\n",
            "Freq: M, Name: log_price, dtype: float64\n",
            "\n",
            "---------------------- separate line--------------------\n",
            "\n",
            "                 Open       High        Low      Close  rate_return  log_price\n",
            "Date                                                                          \n",
            "2016-01-31  21.852382  22.440245  21.750946  22.440245          NaN   3.110856\n",
            "2016-02-29  22.450753  22.768300  22.402079  22.411350    -0.001288   3.109568\n",
            "2016-03-31  25.431522  25.473243  25.236821  25.262318     0.127211   3.229314\n",
            "2016-04-30  21.785527  21.954732  21.442486  21.727581    -0.139921   3.078582\n",
            "2016-05-31  23.226407  23.412965  23.044514  23.287039     0.071773   3.147897\n",
            "2016-06-30  22.023110  22.333260  21.990462  22.293617    -0.042660   3.104300\n",
            "2016-07-31  24.296782  24.380733  24.177851  24.301445     0.090063   3.190536\n",
            "2016-08-31  24.773056  24.986413  24.768365  24.876217     0.023652   3.213912\n",
            "2016-09-30  26.367384  26.580743  26.212641  26.505716     0.065504   3.277360\n",
            "2016-10-31  26.646394  26.782382  26.540886  26.620604     0.004334   3.281685\n",
            "2016-11-30  26.300088  26.441486  25.986654  26.045570    -0.021601   3.259848\n",
            "2016-12-31  27.490191  27.619805  27.202681  27.294590     0.047955   3.306689\n"
          ]
        }
      ]
    },
    {
      "cell_type": "code",
      "metadata": {
        "colab": {
          "base_uri": "https://localhost:8080/"
        },
        "id": "XUBkePf-7ULZ",
        "outputId": "e8896acf-f7d9-494b-8f3b-526042f53469"
      },
      "source": [
        "precio_log = np.log(tesla_bar.Close)\n",
        "precio_log.name = 'Precio_log'\n",
        "print(precio_log)\n",
        "print('\\n---------------------- separate line--------------------\\n')\n",
        "conc = pd.concat([tesla_bar, precio_log], axis = 1)\n",
        "print(conc)"
      ],
      "execution_count": 212,
      "outputs": [
        {
          "output_type": "stream",
          "name": "stdout",
          "text": [
            "Date\n",
            "2021-01-31    6.676491\n",
            "2021-02-28    6.515453\n",
            "2021-03-31    6.504183\n",
            "2021-04-30    6.564476\n",
            "2021-05-31    6.438104\n",
            "2021-06-30    6.523210\n",
            "Freq: M, Name: Precio_log, dtype: float64\n",
            "\n",
            "---------------------- separate line--------------------\n",
            "\n",
            "                  Open       Close  ...  Tasa_retorno  Precio_log\n",
            "Date                                ...                          \n",
            "2021-01-31  830.000000  793.530029  ...           NaN    6.676491\n",
            "2021-02-28  700.000000  675.500000  ...     -0.148740    6.515453\n",
            "2021-03-31  646.619995  667.929993  ...     -0.011207    6.504183\n",
            "2021-04-30  667.590027  709.440002  ...      0.062147    6.564476\n",
            "2021-05-31  628.500000  625.219971  ...     -0.118713    6.438104\n",
            "2021-06-30  684.650024  680.760010  ...      0.088833    6.523210\n",
            "\n",
            "[6 rows x 6 columns]\n"
          ]
        }
      ]
    },
    {
      "cell_type": "markdown",
      "metadata": {
        "id": "mIZz-FUyR_62"
      },
      "source": [
        "We can also join two DataFrames by rows. Consider these two DataFrames:"
      ]
    },
    {
      "cell_type": "code",
      "metadata": {
        "colab": {
          "base_uri": "https://localhost:8080/"
        },
        "id": "W7uXZptLHW-C",
        "outputId": "e979594d-f44e-43c9-b034-9a0905a58544"
      },
      "source": [
        "df_volume = aapl_table.loc['2016-10':'2017-04',['Volume', 'Stock Splits']].resample('M').agg(lambda x: x[-1])\n",
        "print(df_volume)\n",
        "print('\\n---------------------- separate line--------------------\\n')\n",
        "df_2017 = aapl_table.loc['2016-10':'2017-04',['Open', 'High', 'Low', 'Close']].resample('M').agg(lambda x: x[-1])\n",
        "print(df_2017)"
      ],
      "execution_count": 213,
      "outputs": [
        {
          "output_type": "stream",
          "name": "stdout",
          "text": [
            "               Volume  Stock Splits\n",
            "Date                               \n",
            "2016-10-31  105677600             0\n",
            "2016-11-30  144649200             0\n",
            "2016-12-31  122345200             0\n",
            "2017-01-31  196804000             0\n",
            "2017-02-28   93931600             0\n",
            "2017-03-31   78646800             0\n",
            "2017-04-30   83441600             0\n",
            "\n",
            "---------------------- separate line--------------------\n",
            "\n",
            "                 Open       High        Low      Close\n",
            "Date                                                  \n",
            "2016-10-31  26.646394  26.782382  26.540886  26.620604\n",
            "2016-11-30  26.300088  26.441486  25.986654  26.045570\n",
            "2016-12-31  27.490191  27.619805  27.202681  27.294590\n",
            "2017-01-31  28.550682  28.607241  28.425781  28.597815\n",
            "2017-02-28  32.444866  32.530073  32.354924  32.423565\n",
            "2017-03-31  34.016463  34.146641  33.848414  34.002262\n",
            "2017-04-30  34.104032  34.153737  33.909951  33.999889\n"
          ]
        }
      ]
    },
    {
      "cell_type": "code",
      "metadata": {
        "colab": {
          "base_uri": "https://localhost:8080/"
        },
        "id": "qB8zyES776uf",
        "outputId": "9ebbb7f5-eeeb-4bde-a083-4ed9a1899a5c"
      },
      "source": [
        "frame_volume= tesla_tabla.loc['2021-01':'2021-06',['Volume', 'Stock Splits']].resample('M').agg(lambda x: x[-1])\n",
        "print(frame_volume)       \n",
        "\n",
        "frame_2021 = tesla_tabla.loc['2021-01':'2021-06',['Open', 'High', 'Low', 'Close']].resample('M').agg(lambda x: x[-1])\n",
        "print(frame_2021)"
      ],
      "execution_count": 214,
      "outputs": [
        {
          "output_type": "stream",
          "name": "stdout",
          "text": [
            "              Volume  Stock Splits\n",
            "Date                              \n",
            "2021-01-31  34990800           0.0\n",
            "2021-02-28  41089200           0.0\n",
            "2021-03-31  33337300           0.0\n",
            "2021-04-30  40758700           0.0\n",
            "2021-05-31  22737000           0.0\n",
            "2021-06-30  17381300           0.0\n",
            "                  Open        High         Low       Close\n",
            "Date                                                      \n",
            "2021-01-31  830.000000  842.409973  780.099976  793.530029\n",
            "2021-02-28  700.000000  706.700012  659.510010  675.500000\n",
            "2021-03-31  646.619995  672.000000  641.109985  667.929993\n",
            "2021-04-30  667.590027  715.469971  666.140015  709.440002\n",
            "2021-05-31  628.500000  635.590027  622.380005  625.219971\n",
            "2021-06-30  684.650024  687.510010  675.890015  680.760010\n"
          ]
        }
      ]
    },
    {
      "cell_type": "markdown",
      "metadata": {
        "id": "iZk_C9aSSLeP"
      },
      "source": [
        "Now we merge the DataFrames with our DataFrame 'aapl_bar'"
      ]
    },
    {
      "cell_type": "code",
      "metadata": {
        "colab": {
          "base_uri": "https://localhost:8080/"
        },
        "id": "aFqmjokOHW-C",
        "outputId": "2e5a46c5-da9b-4265-e74f-53bf244c01e8"
      },
      "source": [
        "concat = pd.concat([aapl_bar, df_volume], axis = 1)\n",
        "print(concat)"
      ],
      "execution_count": 215,
      "outputs": [
        {
          "output_type": "stream",
          "name": "stdout",
          "text": [
            "                 Open       High  ...       Volume  Stock Splits\n",
            "Date                              ...                           \n",
            "2016-01-31  21.852382  22.440245  ...          NaN           NaN\n",
            "2016-02-29  22.450753  22.768300  ...          NaN           NaN\n",
            "2016-03-31  25.431522  25.473243  ...          NaN           NaN\n",
            "2016-04-30  21.785527  21.954732  ...          NaN           NaN\n",
            "2016-05-31  23.226407  23.412965  ...          NaN           NaN\n",
            "2016-06-30  22.023110  22.333260  ...          NaN           NaN\n",
            "2016-07-31  24.296782  24.380733  ...          NaN           NaN\n",
            "2016-08-31  24.773056  24.986413  ...          NaN           NaN\n",
            "2016-09-30  26.367384  26.580743  ...          NaN           NaN\n",
            "2016-10-31  26.646394  26.782382  ...  105677600.0           0.0\n",
            "2016-11-30  26.300088  26.441486  ...  144649200.0           0.0\n",
            "2016-12-31  27.490191  27.619805  ...  122345200.0           0.0\n",
            "2017-01-31        NaN        NaN  ...  196804000.0           0.0\n",
            "2017-02-28        NaN        NaN  ...   93931600.0           0.0\n",
            "2017-03-31        NaN        NaN  ...   78646800.0           0.0\n",
            "2017-04-30        NaN        NaN  ...   83441600.0           0.0\n",
            "\n",
            "[16 rows x 7 columns]\n"
          ]
        }
      ]
    },
    {
      "cell_type": "code",
      "metadata": {
        "colab": {
          "base_uri": "https://localhost:8080/"
        },
        "id": "DlpNJZs59PkQ",
        "outputId": "0d7c5c11-5f81-4086-ec7e-c4b81537cf4b"
      },
      "source": [
        "conca = pd.concat([tesla_bar, frame_volume], axis = 1)\n",
        "print(conca)"
      ],
      "execution_count": 216,
      "outputs": [
        {
          "output_type": "stream",
          "name": "stdout",
          "text": [
            "                  Open       Close  ...    Volume  Stock Splits\n",
            "Date                                ...                        \n",
            "2021-01-31  830.000000  793.530029  ...  34990800           0.0\n",
            "2021-02-28  700.000000  675.500000  ...  41089200           0.0\n",
            "2021-03-31  646.619995  667.929993  ...  33337300           0.0\n",
            "2021-04-30  667.590027  709.440002  ...  40758700           0.0\n",
            "2021-05-31  628.500000  625.219971  ...  22737000           0.0\n",
            "2021-06-30  684.650024  680.760010  ...  17381300           0.0\n",
            "\n",
            "[6 rows x 7 columns]\n"
          ]
        }
      ]
    },
    {
      "cell_type": "markdown",
      "metadata": {
        "id": "7yI3tgB4SR4O"
      },
      "source": [
        "By default the DataFrame are joined with all of the data. This default options results in zero information loss. We can also merge them by intersection, this is called 'inner join"
      ]
    },
    {
      "cell_type": "code",
      "metadata": {
        "colab": {
          "base_uri": "https://localhost:8080/"
        },
        "id": "31QGLyijHW-C",
        "outputId": "3165a7be-a59d-43dc-ccd7-0d3031af58b5"
      },
      "source": [
        "concat = pd.concat([aapl_bar,df_volume],axis = 1, join = 'inner')\n",
        "print(concat)"
      ],
      "execution_count": 217,
      "outputs": [
        {
          "output_type": "stream",
          "name": "stdout",
          "text": [
            "                 Open       High  ...     Volume  Stock Splits\n",
            "Date                              ...                         \n",
            "2016-10-31  26.646394  26.782382  ...  105677600             0\n",
            "2016-11-30  26.300088  26.441486  ...  144649200             0\n",
            "2016-12-31  27.490191  27.619805  ...  122345200             0\n",
            "\n",
            "[3 rows x 7 columns]\n"
          ]
        }
      ]
    },
    {
      "cell_type": "code",
      "metadata": {
        "colab": {
          "base_uri": "https://localhost:8080/"
        },
        "id": "m26u5nAs9fMj",
        "outputId": "335c7928-ce18-4b86-e9d3-576b3f93f767"
      },
      "source": [
        "conca = pd.concat([tesla_bar,frame_volume],axis = 1, join = 'inner')\n",
        "print(conca)"
      ],
      "execution_count": 218,
      "outputs": [
        {
          "output_type": "stream",
          "name": "stdout",
          "text": [
            "                  Open       Close  ...    Volume  Stock Splits\n",
            "Date                                ...                        \n",
            "2021-01-31  830.000000  793.530029  ...  34990800           0.0\n",
            "2021-02-28  700.000000  675.500000  ...  41089200           0.0\n",
            "2021-03-31  646.619995  667.929993  ...  33337300           0.0\n",
            "2021-04-30  667.590027  709.440002  ...  40758700           0.0\n",
            "2021-05-31  628.500000  625.219971  ...  22737000           0.0\n",
            "2021-06-30  684.650024  680.760010  ...  17381300           0.0\n",
            "\n",
            "[6 rows x 7 columns]\n"
          ]
        }
      ]
    },
    {
      "cell_type": "markdown",
      "metadata": {
        "id": "oudcWMm5Sd0u"
      },
      "source": [
        "Only the intersection part was left if use 'inner join' method. Now let's try to append a DataFrame to another one:"
      ]
    },
    {
      "cell_type": "code",
      "metadata": {
        "colab": {
          "base_uri": "https://localhost:8080/"
        },
        "id": "lgw0qaOsHW-D",
        "outputId": "535a7d78-3826-4795-88e7-c7e3c022e205"
      },
      "source": [
        "append = aapl_bar.append(df_2017)\n",
        "print(append)"
      ],
      "execution_count": 219,
      "outputs": [
        {
          "output_type": "stream",
          "name": "stdout",
          "text": [
            "                 Open       High        Low      Close  rate_return\n",
            "Date                                                               \n",
            "2016-01-31  21.852382  22.440245  21.750946  22.440245          NaN\n",
            "2016-02-29  22.450753  22.768300  22.402079  22.411350    -0.001288\n",
            "2016-03-31  25.431522  25.473243  25.236821  25.262318     0.127211\n",
            "2016-04-30  21.785527  21.954732  21.442486  21.727581    -0.139921\n",
            "2016-05-31  23.226407  23.412965  23.044514  23.287039     0.071773\n",
            "2016-06-30  22.023110  22.333260  21.990462  22.293617    -0.042660\n",
            "2016-07-31  24.296782  24.380733  24.177851  24.301445     0.090063\n",
            "2016-08-31  24.773056  24.986413  24.768365  24.876217     0.023652\n",
            "2016-09-30  26.367384  26.580743  26.212641  26.505716     0.065504\n",
            "2016-10-31  26.646394  26.782382  26.540886  26.620604     0.004334\n",
            "2016-11-30  26.300088  26.441486  25.986654  26.045570    -0.021601\n",
            "2016-12-31  27.490191  27.619805  27.202681  27.294590     0.047955\n",
            "2016-10-31  26.646394  26.782382  26.540886  26.620604          NaN\n",
            "2016-11-30  26.300088  26.441486  25.986654  26.045570          NaN\n",
            "2016-12-31  27.490191  27.619805  27.202681  27.294590          NaN\n",
            "2017-01-31  28.550682  28.607241  28.425781  28.597815          NaN\n",
            "2017-02-28  32.444866  32.530073  32.354924  32.423565          NaN\n",
            "2017-03-31  34.016463  34.146641  33.848414  34.002262          NaN\n",
            "2017-04-30  34.104032  34.153737  33.909951  33.999889          NaN\n"
          ]
        }
      ]
    },
    {
      "cell_type": "code",
      "metadata": {
        "colab": {
          "base_uri": "https://localhost:8080/"
        },
        "id": "F2u6kBhP9pbZ",
        "outputId": "d221b306-b215-44c9-c5dc-a08fd2bb95b2"
      },
      "source": [
        "ap = tesla_bar.append(frame_2021)\n",
        "print(ap)"
      ],
      "execution_count": 220,
      "outputs": [
        {
          "output_type": "stream",
          "name": "stdout",
          "text": [
            "                  Open       Close        High         Low  Tasa_retorno\n",
            "Date                                                                    \n",
            "2021-01-31  830.000000  793.530029  842.409973  780.099976           NaN\n",
            "2021-02-28  700.000000  675.500000  706.700012  659.510010     -0.148740\n",
            "2021-03-31  646.619995  667.929993  672.000000  641.109985     -0.011207\n",
            "2021-04-30  667.590027  709.440002  715.469971  666.140015      0.062147\n",
            "2021-05-31  628.500000  625.219971  635.590027  622.380005     -0.118713\n",
            "2021-06-30  684.650024  680.760010  687.510010  675.890015      0.088833\n",
            "2021-01-31  830.000000  793.530029  842.409973  780.099976           NaN\n",
            "2021-02-28  700.000000  675.500000  706.700012  659.510010           NaN\n",
            "2021-03-31  646.619995  667.929993  672.000000  641.109985           NaN\n",
            "2021-04-30  667.590027  709.440002  715.469971  666.140015           NaN\n",
            "2021-05-31  628.500000  625.219971  635.590027  622.380005           NaN\n",
            "2021-06-30  684.650024  680.760010  687.510010  675.890015           NaN\n"
          ]
        }
      ]
    },
    {
      "cell_type": "markdown",
      "metadata": {
        "id": "zXT6cMquSq_P"
      },
      "source": [
        "'Append' is essentially to concat two DataFrames by axis = 0, thus here is an alternative way to append:"
      ]
    },
    {
      "cell_type": "code",
      "metadata": {
        "colab": {
          "base_uri": "https://localhost:8080/"
        },
        "id": "2EuSaFO9HW-D",
        "outputId": "3a60c5bf-b485-4eb4-f041-091f10a9ecfc"
      },
      "source": [
        "concat = pd.concat([aapl_bar, df_2017], axis = 0)\n",
        "print(concat)"
      ],
      "execution_count": 221,
      "outputs": [
        {
          "output_type": "stream",
          "name": "stdout",
          "text": [
            "                 Open       High        Low      Close  rate_return\n",
            "Date                                                               \n",
            "2016-01-31  21.852382  22.440245  21.750946  22.440245          NaN\n",
            "2016-02-29  22.450753  22.768300  22.402079  22.411350    -0.001288\n",
            "2016-03-31  25.431522  25.473243  25.236821  25.262318     0.127211\n",
            "2016-04-30  21.785527  21.954732  21.442486  21.727581    -0.139921\n",
            "2016-05-31  23.226407  23.412965  23.044514  23.287039     0.071773\n",
            "2016-06-30  22.023110  22.333260  21.990462  22.293617    -0.042660\n",
            "2016-07-31  24.296782  24.380733  24.177851  24.301445     0.090063\n",
            "2016-08-31  24.773056  24.986413  24.768365  24.876217     0.023652\n",
            "2016-09-30  26.367384  26.580743  26.212641  26.505716     0.065504\n",
            "2016-10-31  26.646394  26.782382  26.540886  26.620604     0.004334\n",
            "2016-11-30  26.300088  26.441486  25.986654  26.045570    -0.021601\n",
            "2016-12-31  27.490191  27.619805  27.202681  27.294590     0.047955\n",
            "2016-10-31  26.646394  26.782382  26.540886  26.620604          NaN\n",
            "2016-11-30  26.300088  26.441486  25.986654  26.045570          NaN\n",
            "2016-12-31  27.490191  27.619805  27.202681  27.294590          NaN\n",
            "2017-01-31  28.550682  28.607241  28.425781  28.597815          NaN\n",
            "2017-02-28  32.444866  32.530073  32.354924  32.423565          NaN\n",
            "2017-03-31  34.016463  34.146641  33.848414  34.002262          NaN\n",
            "2017-04-30  34.104032  34.153737  33.909951  33.999889          NaN\n"
          ]
        }
      ]
    },
    {
      "cell_type": "code",
      "metadata": {
        "colab": {
          "base_uri": "https://localhost:8080/"
        },
        "id": "j16qf9_L9z94",
        "outputId": "82bce619-c119-4824-8b11-1827c73c76bc"
      },
      "source": [
        "conca = pd.concat([tesla_bar, frame_2021], axis = 0)\n",
        "print(conca)"
      ],
      "execution_count": 222,
      "outputs": [
        {
          "output_type": "stream",
          "name": "stdout",
          "text": [
            "                  Open       Close        High         Low  Tasa_retorno\n",
            "Date                                                                    \n",
            "2021-01-31  830.000000  793.530029  842.409973  780.099976           NaN\n",
            "2021-02-28  700.000000  675.500000  706.700012  659.510010     -0.148740\n",
            "2021-03-31  646.619995  667.929993  672.000000  641.109985     -0.011207\n",
            "2021-04-30  667.590027  709.440002  715.469971  666.140015      0.062147\n",
            "2021-05-31  628.500000  625.219971  635.590027  622.380005     -0.118713\n",
            "2021-06-30  684.650024  680.760010  687.510010  675.890015      0.088833\n",
            "2021-01-31  830.000000  793.530029  842.409973  780.099976           NaN\n",
            "2021-02-28  700.000000  675.500000  706.700012  659.510010           NaN\n",
            "2021-03-31  646.619995  667.929993  672.000000  641.109985           NaN\n",
            "2021-04-30  667.590027  709.440002  715.469971  666.140015           NaN\n",
            "2021-05-31  628.500000  625.219971  635.590027  622.380005           NaN\n",
            "2021-06-30  684.650024  680.760010  687.510010  675.890015           NaN\n"
          ]
        }
      ]
    },
    {
      "cell_type": "markdown",
      "metadata": {
        "id": "-YXL7V9ASst9"
      },
      "source": [
        "Please note that if the two DataFrame have some columns with the same column names, these columns are considered to be the same and will be merged. It's very important to have the right column names. If we change a column names here:"
      ]
    },
    {
      "cell_type": "code",
      "metadata": {
        "colab": {
          "base_uri": "https://localhost:8080/"
        },
        "id": "aT1eoa8mHW-D",
        "outputId": "d01475d5-4e3a-40f0-ea0a-2e6ec4a95205"
      },
      "source": [
        "df_2017.columns = ['Change', 'High','Low','Close']\n",
        "concat = pd.concat([aapl_bar, df_2017], axis = 0)\n",
        "print(concat)"
      ],
      "execution_count": 223,
      "outputs": [
        {
          "output_type": "stream",
          "name": "stdout",
          "text": [
            "                 Open       High        Low      Close  rate_return     Change\n",
            "Date                                                                          \n",
            "2016-01-31  21.852382  22.440245  21.750946  22.440245          NaN        NaN\n",
            "2016-02-29  22.450753  22.768300  22.402079  22.411350    -0.001288        NaN\n",
            "2016-03-31  25.431522  25.473243  25.236821  25.262318     0.127211        NaN\n",
            "2016-04-30  21.785527  21.954732  21.442486  21.727581    -0.139921        NaN\n",
            "2016-05-31  23.226407  23.412965  23.044514  23.287039     0.071773        NaN\n",
            "2016-06-30  22.023110  22.333260  21.990462  22.293617    -0.042660        NaN\n",
            "2016-07-31  24.296782  24.380733  24.177851  24.301445     0.090063        NaN\n",
            "2016-08-31  24.773056  24.986413  24.768365  24.876217     0.023652        NaN\n",
            "2016-09-30  26.367384  26.580743  26.212641  26.505716     0.065504        NaN\n",
            "2016-10-31  26.646394  26.782382  26.540886  26.620604     0.004334        NaN\n",
            "2016-11-30  26.300088  26.441486  25.986654  26.045570    -0.021601        NaN\n",
            "2016-12-31  27.490191  27.619805  27.202681  27.294590     0.047955        NaN\n",
            "2016-10-31        NaN  26.782382  26.540886  26.620604          NaN  26.646394\n",
            "2016-11-30        NaN  26.441486  25.986654  26.045570          NaN  26.300088\n",
            "2016-12-31        NaN  27.619805  27.202681  27.294590          NaN  27.490191\n",
            "2017-01-31        NaN  28.607241  28.425781  28.597815          NaN  28.550682\n",
            "2017-02-28        NaN  32.530073  32.354924  32.423565          NaN  32.444866\n",
            "2017-03-31        NaN  34.146641  33.848414  34.002262          NaN  34.016463\n",
            "2017-04-30        NaN  34.153737  33.909951  33.999889          NaN  34.104032\n"
          ]
        }
      ]
    },
    {
      "cell_type": "code",
      "metadata": {
        "colab": {
          "base_uri": "https://localhost:8080/"
        },
        "id": "-1MFfiW59-CO",
        "outputId": "ec34a032-c0f6-4a42-87c4-fd71e32b3f07"
      },
      "source": [
        "frame_2021.columns = ['Change', 'High','Low','Close']\n",
        "conca = pd.concat([tesla_bar,frame_2021], axis=0)\n",
        "print(conca)"
      ],
      "execution_count": 224,
      "outputs": [
        {
          "output_type": "stream",
          "name": "stdout",
          "text": [
            "                  Open       Close  ...  Tasa_retorno      Change\n",
            "Date                                ...                          \n",
            "2021-01-31  830.000000  793.530029  ...           NaN         NaN\n",
            "2021-02-28  700.000000  675.500000  ...     -0.148740         NaN\n",
            "2021-03-31  646.619995  667.929993  ...     -0.011207         NaN\n",
            "2021-04-30  667.590027  709.440002  ...      0.062147         NaN\n",
            "2021-05-31  628.500000  625.219971  ...     -0.118713         NaN\n",
            "2021-06-30  684.650024  680.760010  ...      0.088833         NaN\n",
            "2021-01-31         NaN  793.530029  ...           NaN  830.000000\n",
            "2021-02-28         NaN  675.500000  ...           NaN  700.000000\n",
            "2021-03-31         NaN  667.929993  ...           NaN  646.619995\n",
            "2021-04-30         NaN  709.440002  ...           NaN  667.590027\n",
            "2021-05-31         NaN  625.219971  ...           NaN  628.500000\n",
            "2021-06-30         NaN  680.760010  ...           NaN  684.650024\n",
            "\n",
            "[12 rows x 6 columns]\n"
          ]
        }
      ]
    }
  ]
}