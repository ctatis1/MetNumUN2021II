{
  "nbformat": 4,
  "nbformat_minor": 0,
  "metadata": {
    "colab": {
      "name": "prueba.ipynb",
      "provenance": [],
      "collapsed_sections": []
    },
    "kernelspec": {
      "name": "python3",
      "display_name": "Python 3"
    },
    "language_info": {
      "name": "python"
    }
  },
  "cells": [
    {
      "cell_type": "code",
      "metadata": {
        "id": "pCdRO8owxWOm"
      },
      "source": [
        "import math \n",
        "def solve_quad(b, c):\n",
        "    d = b**2-(4*c)\n",
        "    if (d == b**2):\n",
        "      x1 = b\n",
        "      x2 = c/x1\n",
        "    elif (d >= 0):\n",
        "      rd = math.sqrt(d)\n",
        "      x1 = (-b + rd)/2\n",
        "      x2 = (-b - rd)/2 \n",
        "    else:\n",
        "      rd = math.sqrt(-d)\n",
        "      x1 = complex(-b/2 , rd/2)\n",
        "      x2 = complex(-b/2 , -rd/2)\n",
        "    return x1, x2"
      ],
      "execution_count": null,
      "outputs": []
    },
    {
      "cell_type": "code",
      "metadata": {
        "id": "HcPwWXZX4b6z"
      },
      "source": [
        "from numpy import allclose"
      ],
      "execution_count": null,
      "outputs": []
    },
    {
      "cell_type": "code",
      "metadata": {
        "id": "wvz6aAGh4d8M"
      },
      "source": [
        "variants = [{'b': 4.0, 'c': 3.0},\n",
        "            {'b': 2.0, 'c': 1.0},\n",
        "            {'b': 0.5, 'c': 4.0},\n",
        "            {'b': 1e10, 'c': 3.0},\n",
        "            {'b': -1e10, 'c': 4.0},]"
      ],
      "execution_count": null,
      "outputs": []
    },
    {
      "cell_type": "code",
      "metadata": {
        "colab": {
          "base_uri": "https://localhost:8080/"
        },
        "id": "ofDV89yz4gNQ",
        "outputId": "ed122204-5268-4f0e-83dd-5b6df3eb1ee0"
      },
      "source": [
        "for var in variants:\n",
        "    x1, x2 = solve_quad(**var)\n",
        "    print(allclose(x1*x2, var['c']))"
      ],
      "execution_count": null,
      "outputs": [
        {
          "output_type": "stream",
          "name": "stdout",
          "text": [
            "True\n",
            "True\n",
            "True\n",
            "True\n",
            "True\n"
          ]
        }
      ]
    },
    {
      "cell_type": "code",
      "metadata": {
        "colab": {
          "base_uri": "https://localhost:8080/"
        },
        "id": "FLuCAEgc4jcu",
        "outputId": "38177216-ef63-4df9-a33d-51a74ce3c412"
      },
      "source": [
        "for var in variants:\n",
        "    x1, x2 = solve_quad(**var)\n",
        "    print(\"solve_quad(\"+str(var['b'])+\",\"+str(var['c'])+\")\",solve_quad(**var) )"
      ],
      "execution_count": null,
      "outputs": [
        {
          "output_type": "stream",
          "name": "stdout",
          "text": [
            "solve_quad(4.0,3.0) (-1.0, -3.0)\n",
            "solve_quad(2.0,1.0) (-1.0, -1.0)\n",
            "solve_quad(0.5,4.0) ((-0.25+1.984313483298443j), (-0.25-1.984313483298443j))\n",
            "solve_quad(10000000000.0,3.0) (10000000000.0, 3e-10)\n",
            "solve_quad(-10000000000.0,4.0) (-10000000000.0, -4e-10)\n"
          ]
        }
      ]
    },
    {
      "cell_type": "code",
      "metadata": {
        "colab": {
          "base_uri": "https://localhost:8080/",
          "height": 37
        },
        "id": "j1TF00Mf4mqs",
        "outputId": "cb8bb218-a045-4301-e076-b0def84a12b7"
      },
      "source": [
        "from sympy import Symbol, solveset, Eq, Rational\n",
        "x = Symbol('x')\n",
        "solveset(Eq(x**2 + 4*x + 3, 0), x)"
      ],
      "execution_count": null,
      "outputs": [
        {
          "output_type": "execute_result",
          "data": {
            "text/latex": "$\\displaystyle \\left\\{-3, -1\\right\\}$",
            "text/plain": [
              "FiniteSet(-3, -1)"
            ]
          },
          "metadata": {},
          "execution_count": 6
        }
      ]
    },
    {
      "cell_type": "code",
      "metadata": {
        "colab": {
          "base_uri": "https://localhost:8080/",
          "height": 37
        },
        "id": "BQtaGpB44pE7",
        "outputId": "3ea8cf57-a792-4a15-815b-a9ff97e3b319"
      },
      "source": [
        "solveset(Eq(x**2 + 2*x + 1, 0), x)"
      ],
      "execution_count": null,
      "outputs": [
        {
          "output_type": "execute_result",
          "data": {
            "text/latex": "$\\displaystyle \\left\\{-1\\right\\}$",
            "text/plain": [
              "FiniteSet(-1)"
            ]
          },
          "metadata": {},
          "execution_count": 7
        }
      ]
    },
    {
      "cell_type": "code",
      "metadata": {
        "colab": {
          "base_uri": "https://localhost:8080/",
          "height": 68
        },
        "id": "o-d3wIuA4rKF",
        "outputId": "fb55735e-80ae-4fc3-a5b3-3bc89f038fe8"
      },
      "source": [
        "solveset(Eq(x**2 + Rational(1,2)*x + 1, 0), x)"
      ],
      "execution_count": null,
      "outputs": [
        {
          "output_type": "execute_result",
          "data": {
            "text/latex": "$\\displaystyle \\left\\{- \\frac{1}{4} - \\frac{\\sqrt{15} i}{4}, - \\frac{1}{4} + \\frac{\\sqrt{15} i}{4}\\right\\}$",
            "text/plain": [
              "FiniteSet(-1/4 - sqrt(15)*I/4, -1/4 + sqrt(15)*I/4)"
            ]
          },
          "metadata": {},
          "execution_count": 8
        }
      ]
    },
    {
      "cell_type": "code",
      "metadata": {
        "colab": {
          "base_uri": "https://localhost:8080/",
          "height": 47
        },
        "id": "FMxZaESv4tDi",
        "outputId": "2c68a2fc-4f88-4a03-9fcc-57878dc2354e"
      },
      "source": [
        "solveset(Eq(x**2 + 10000000000*x + 3, 0), x)"
      ],
      "execution_count": null,
      "outputs": [
        {
          "output_type": "execute_result",
          "data": {
            "text/latex": "$\\displaystyle \\left\\{-5000000000 - \\sqrt{24999999999999999997}, -5000000000 + \\sqrt{24999999999999999997}\\right\\}$",
            "text/plain": [
              "FiniteSet(-5000000000 + sqrt(24999999999999999997), -5000000000 - sqrt(24999999999999999997))"
            ]
          },
          "metadata": {},
          "execution_count": 9
        }
      ]
    },
    {
      "cell_type": "code",
      "metadata": {
        "colab": {
          "base_uri": "https://localhost:8080/",
          "height": 47
        },
        "id": "kw3bzREl4uwM",
        "outputId": "65b0f207-b936-4628-82ed-f09fb3efe663"
      },
      "source": [
        "solveset(Eq(x**2 - 10000000000*x - 4, 0), x)"
      ],
      "execution_count": null,
      "outputs": [
        {
          "output_type": "execute_result",
          "data": {
            "text/latex": "$\\displaystyle \\left\\{5000000000 - 2 \\sqrt{6250000000000000001}, 5000000000 + 2 \\sqrt{6250000000000000001}\\right\\}$",
            "text/plain": [
              "FiniteSet(5000000000 - 2*sqrt(6250000000000000001), 5000000000 + 2*sqrt(6250000000000000001))"
            ]
          },
          "metadata": {},
          "execution_count": 10
        }
      ]
    },
    {
      "cell_type": "markdown",
      "metadata": {
        "id": "htyMM0ex5WHO"
      },
      "source": [
        "Segunda parte\n"
      ]
    },
    {
      "cell_type": "code",
      "metadata": {
        "id": "pZ2drL2U5Xqw"
      },
      "source": [
        "import cmath\n",
        "\n",
        "def solve_quad_Po_Shen_Loh(b, c):\n",
        "\n",
        "    if (((b/2)**2 - c) == (b/2)**2):\n",
        "      u = -1\n",
        "      x1 = b\n",
        "      x2 = c/x1\n",
        "    else :\n",
        "      u = cmath.sqrt((b/2)**2 - c) \n",
        "      x1 =  -((b/2) - u)\n",
        "      x2 =  -((b/2) + u)\n",
        "    return u, x1, x2"
      ],
      "execution_count": null,
      "outputs": []
    },
    {
      "cell_type": "code",
      "metadata": {
        "id": "E2jkPpb55cd1"
      },
      "source": [
        "from numpy import allclose"
      ],
      "execution_count": null,
      "outputs": []
    },
    {
      "cell_type": "code",
      "metadata": {
        "id": "dutclMW45fYt"
      },
      "source": [
        "variants = [{'b': 4.0, 'c': 3.0},\n",
        "            {'b': 2.0, 'c': 1.0},\n",
        "            {'b': 0.5, 'c': 4.0},\n",
        "            {'b': 1e10, 'c': 3.0},\n",
        "            {'b': -1e10, 'c': 4.0},]"
      ],
      "execution_count": null,
      "outputs": []
    },
    {
      "cell_type": "code",
      "metadata": {
        "colab": {
          "base_uri": "https://localhost:8080/"
        },
        "id": "H10mS-dT5hR4",
        "outputId": "5b97515f-79cd-4b9a-f611-9ce03bbba7e6"
      },
      "source": [
        "for var in variants:\n",
        "    u, x1, x2 = solve_quad_Po_Shen_Loh(**var)\n",
        "    print(allclose(x1*x2, var['c']))"
      ],
      "execution_count": null,
      "outputs": [
        {
          "output_type": "stream",
          "name": "stdout",
          "text": [
            "True\n",
            "True\n",
            "True\n",
            "True\n",
            "True\n"
          ]
        }
      ]
    },
    {
      "cell_type": "code",
      "metadata": {
        "colab": {
          "base_uri": "https://localhost:8080/"
        },
        "id": "V86zm2Yv5jLY",
        "outputId": "f9e8fcb3-99e9-4021-ac68-59c934767474"
      },
      "source": [
        "for var in variants:\n",
        "    u, x1, x2 = solve_quad_Po_Shen_Loh(**var)\n",
        "    print(\"solve_quad_Po_Shen_Loh(\"+str(var['b'])+\",\"+str(var['c'])+\")\",solve_quad_Po_Shen_Loh(**var) )"
      ],
      "execution_count": null,
      "outputs": [
        {
          "output_type": "stream",
          "name": "stdout",
          "text": [
            "solve_quad_Po_Shen_Loh(4.0,3.0) ((1+0j), (-1-0j), (-3-0j))\n",
            "solve_quad_Po_Shen_Loh(2.0,1.0) (0j, (-1-0j), (-1-0j))\n",
            "solve_quad_Po_Shen_Loh(0.5,4.0) (1.984313483298443j, (-0.25+1.984313483298443j), (-0.25-1.984313483298443j))\n",
            "solve_quad_Po_Shen_Loh(10000000000.0,3.0) (-1, 10000000000.0, 3e-10)\n",
            "solve_quad_Po_Shen_Loh(-10000000000.0,4.0) (-1, -10000000000.0, -4e-10)\n"
          ]
        }
      ]
    }
  ]
}